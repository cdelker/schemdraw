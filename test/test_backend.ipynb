{
 "cells": [
  {
   "cell_type": "code",
   "execution_count": 1,
   "id": "e5ced741",
   "metadata": {},
   "outputs": [],
   "source": [
    "import os\n",
    "\n",
    "import schemdraw\n",
    "from schemdraw import elements as elm\n",
    "from schemdraw import logic\n",
    "from schemdraw import transform\n",
    "from schemdraw.util import Point\n",
    "from schemdraw.drawing_stack import drawing_stack"
   ]
  },
  {
   "cell_type": "code",
   "execution_count": 2,
   "id": "341e551e",
   "metadata": {},
   "outputs": [
    {
     "data": {
      "text/plain": [
       "Point(1,1)"
      ]
     },
     "execution_count": 2,
     "metadata": {},
     "output_type": "execute_result"
    }
   ],
   "source": [
    "Point((1, 1))"
   ]
  },
  {
   "cell_type": "code",
   "execution_count": 3,
   "id": "fb5dca74",
   "metadata": {},
   "outputs": [
    {
     "data": {
      "text/plain": [
       "Point(3,3)"
      ]
     },
     "execution_count": 3,
     "metadata": {},
     "output_type": "execute_result"
    }
   ],
   "source": [
    "p1 = Point((1, 1))\n",
    "p2 = Point((2, 2))\n",
    "p3 = p1 + p2\n",
    "assert p3 == Point((3, 3))\n",
    "p3"
   ]
  },
  {
   "cell_type": "code",
   "execution_count": 4,
   "id": "fbf88482",
   "metadata": {},
   "outputs": [
    {
     "data": {
      "text/plain": [
       "Point(1,1)"
      ]
     },
     "execution_count": 4,
     "metadata": {},
     "output_type": "execute_result"
    }
   ],
   "source": [
    "p4 = p2-p1\n",
    "assert p4 == Point((1, 1))\n",
    "assert p2-1 == Point((1, 1))\n",
    "assert 1 - p2 == Point((-1, -1))\n",
    "p4"
   ]
  },
  {
   "cell_type": "code",
   "execution_count": 5,
   "id": "f8a831c7",
   "metadata": {},
   "outputs": [
    {
     "data": {
      "text/plain": [
       "Transform: xy=Point(0,0); theta=0; scale=Point(1,1); lshift=Point(0,0)"
      ]
     },
     "execution_count": 5,
     "metadata": {},
     "output_type": "execute_result"
    }
   ],
   "source": [
    "t = transform.Transform(0, (0,0))\n",
    "t"
   ]
  },
  {
   "cell_type": "code",
   "execution_count": 6,
   "id": "db939804",
   "metadata": {},
   "outputs": [],
   "source": [
    "assert t.transform((1, 1)) == Point((1, 1))"
   ]
  },
  {
   "cell_type": "code",
   "execution_count": 7,
   "id": "b4d8f6aa",
   "metadata": {},
   "outputs": [],
   "source": [
    "t = transform.Transform(0, (1, 1))\n",
    "assert t.transform((1, 1)) == Point((2, 2))"
   ]
  },
  {
   "cell_type": "code",
   "execution_count": null,
   "id": "01752781",
   "metadata": {},
   "outputs": [],
   "source": []
  },
  {
   "cell_type": "code",
   "execution_count": 8,
   "id": "269ecaaa",
   "metadata": {},
   "outputs": [
    {
     "data": {
      "image/svg+xml": [
       "<?xml version=\"1.0\" encoding=\"utf-8\" standalone=\"no\"?>\n",
       "<!DOCTYPE svg PUBLIC \"-//W3C//DTD SVG 1.1//EN\"\n",
       "  \"http://www.w3.org/Graphics/SVG/1.1/DTD/svg11.dtd\">\n",
       "<svg xmlns:xlink=\"http://www.w3.org/1999/xlink\" width=\"333.36pt\" height=\"27.36pt\" viewBox=\"0 0 333.36 27.36\" xmlns=\"http://www.w3.org/2000/svg\" version=\"1.1\">\n",
       " <metadata>\n",
       "  <rdf:RDF xmlns:dc=\"http://purl.org/dc/elements/1.1/\" xmlns:cc=\"http://creativecommons.org/ns#\" xmlns:rdf=\"http://www.w3.org/1999/02/22-rdf-syntax-ns#\">\n",
       "   <cc:Work>\n",
       "    <dc:type rdf:resource=\"http://purl.org/dc/dcmitype/StillImage\"/>\n",
       "    <dc:date>2025-07-27T10:57:12.781204</dc:date>\n",
       "    <dc:format>image/svg+xml</dc:format>\n",
       "    <dc:creator>\n",
       "     <cc:Agent>\n",
       "      <dc:title>Matplotlib v3.8.4, https://matplotlib.org/</dc:title>\n",
       "     </cc:Agent>\n",
       "    </dc:creator>\n",
       "   </cc:Work>\n",
       "  </rdf:RDF>\n",
       " </metadata>\n",
       " <defs>\n",
       "  <style type=\"text/css\">*{stroke-linejoin: round; stroke-linecap: butt}</style>\n",
       " </defs>\n",
       " <g id=\"figure_1\">\n",
       "  <g id=\"patch_1\">\n",
       "   <path d=\"M 0 27.36 \n",
       "L 333.36 27.36 \n",
       "L 333.36 0 \n",
       "L 0 0 \n",
       "z\n",
       "\" style=\"fill: #ffffff\"/>\n",
       "  </g>\n",
       "  <g id=\"axes_1\">\n",
       "   <g id=\"patch_2\">\n",
       "    <path d=\"M 268.38 4.68 \n",
       "L 280.98 13.68 \n",
       "L 268.38 22.68 \n",
       "L 268.38 4.68 \n",
       "z\n",
       "\" clip-path=\"url(#p9e336b4b11)\" style=\"fill: none; stroke: #000000; stroke-width: 2; stroke-linecap: round\"/>\n",
       "   </g>\n",
       "   <g id=\"line2d_1\">\n",
       "    <path d=\"M 4.68 13.68 \n",
       "L 40.68 13.68 \n",
       "L 43.68 4.68 \n",
       "L 49.68 22.68 \n",
       "L 55.68 4.68 \n",
       "L 61.68 22.68 \n",
       "L 67.68 4.68 \n",
       "L 73.68 22.68 \n",
       "L 76.68 13.68 \n",
       "L 112.68 13.68 \n",
       "\" clip-path=\"url(#p9e336b4b11)\" style=\"fill: none; stroke: #000000; stroke-width: 2; stroke-linecap: round\"/>\n",
       "   </g>\n",
       "   <g id=\"line2d_2\">\n",
       "    <path d=\"M 112.68 13.68 \n",
       "L 163.44 13.68 \n",
       "M 163.44 4.68 \n",
       "L 163.44 22.68 \n",
       "M 169.92 4.68 \n",
       "L 169.92 22.68 \n",
       "M 169.92 13.68 \n",
       "L 220.68 13.68 \n",
       "\" clip-path=\"url(#p9e336b4b11)\" style=\"fill: none; stroke: #000000; stroke-width: 2; stroke-linecap: round\"/>\n",
       "   </g>\n",
       "   <g id=\"line2d_3\">\n",
       "    <path d=\"M 220.68 13.68 \n",
       "L 268.38 13.68 \n",
       "M 280.98 4.68 \n",
       "L 280.98 22.68 \n",
       "M 280.98 13.68 \n",
       "L 328.68 13.68 \n",
       "\" clip-path=\"url(#p9e336b4b11)\" style=\"fill: none; stroke: #000000; stroke-width: 2; stroke-linecap: round\"/>\n",
       "   </g>\n",
       "  </g>\n",
       " </g>\n",
       " <defs>\n",
       "  <clipPath id=\"p9e336b4b11\">\n",
       "   <rect x=\"0\" y=\"-0\" width=\"333.36\" height=\"27.36\"/>\n",
       "  </clipPath>\n",
       " </defs>\n",
       "</svg>\n"
      ],
      "text/plain": [
       "<schemdraw.schemdraw.Drawing at 0x7dd7d49fb350>"
      ]
     },
     "execution_count": 8,
     "metadata": {},
     "output_type": "execute_result"
    }
   ],
   "source": [
    "# add_elements function\n",
    "d = schemdraw.Drawing()\n",
    "d.add_elements(\n",
    "    elm.Resistor(),\n",
    "    elm.Capacitor(),\n",
    "    elm.Diode())\n",
    "d"
   ]
  },
  {
   "cell_type": "code",
   "execution_count": 9,
   "id": "e3d4a871-cdd4-42da-8d84-18b2caa8f52f",
   "metadata": {},
   "outputs": [
    {
     "data": {
      "image/png": "[encoded data removed]",
      "image/svg+xml": [
       "<?xml version=\"1.0\" encoding=\"utf-8\" standalone=\"no\"?>\n",
       "<!DOCTYPE svg PUBLIC \"-//W3C//DTD SVG 1.1//EN\"\n",
       "  \"http://www.w3.org/Graphics/SVG/1.1/DTD/svg11.dtd\">\n",
       "<svg xmlns:xlink=\"http://www.w3.org/1999/xlink\" width=\"333.36pt\" height=\"27.36pt\" viewBox=\"0 0 333.36 27.36\" xmlns=\"http://www.w3.org/2000/svg\" version=\"1.1\">\n",
       " <metadata>\n",
       "  <rdf:RDF xmlns:dc=\"http://purl.org/dc/elements/1.1/\" xmlns:cc=\"http://creativecommons.org/ns#\" xmlns:rdf=\"http://www.w3.org/1999/02/22-rdf-syntax-ns#\">\n",
       "   <cc:Work>\n",
       "    <dc:type rdf:resource=\"http://purl.org/dc/dcmitype/StillImage\"/>\n",
       "    <dc:date>2025-07-27T10:57:12.817317</dc:date>\n",
       "    <dc:format>image/svg+xml</dc:format>\n",
       "    <dc:creator>\n",
       "     <cc:Agent>\n",
       "      <dc:title>Matplotlib v3.8.4, https://matplotlib.org/</dc:title>\n",
       "     </cc:Agent>\n",
       "    </dc:creator>\n",
       "   </cc:Work>\n",
       "  </rdf:RDF>\n",
       " </metadata>\n",
       " <defs>\n",
       "  <style type=\"text/css\">*{stroke-linejoin: round; stroke-linecap: butt}</style>\n",
       " </defs>\n",
       " <g id=\"figure_1\">\n",
       "  <g id=\"patch_1\">\n",
       "   <path d=\"M 0 27.36 \n",
       "L 333.36 27.36 \n",
       "L 333.36 0 \n",
       "L 0 0 \n",
       "z\n",
       "\" style=\"fill: #ffffff\"/>\n",
       "  </g>\n",
       "  <g id=\"axes_1\">\n",
       "   <g id=\"patch_2\">\n",
       "    <path d=\"M 268.38 4.68 \n",
       "L 280.98 13.68 \n",
       "L 268.38 22.68 \n",
       "L 268.38 4.68 \n",
       "z\n",
       "\" clip-path=\"url(#p41a310b9b2)\" style=\"fill: none; stroke: #000000; stroke-width: 2; stroke-linecap: round\"/>\n",
       "   </g>\n",
       "   <g id=\"line2d_1\">\n",
       "    <path d=\"M 4.68 13.68 \n",
       "L 40.68 13.68 \n",
       "L 43.68 4.68 \n",
       "L 49.68 22.68 \n",
       "L 55.68 4.68 \n",
       "L 61.68 22.68 \n",
       "L 67.68 4.68 \n",
       "L 73.68 22.68 \n",
       "L 76.68 13.68 \n",
       "L 112.68 13.68 \n",
       "\" clip-path=\"url(#p41a310b9b2)\" style=\"fill: none; stroke: #000000; stroke-width: 2; stroke-linecap: round\"/>\n",
       "   </g>\n",
       "   <g id=\"line2d_2\">\n",
       "    <path d=\"M 112.68 13.68 \n",
       "L 163.44 13.68 \n",
       "M 163.44 4.68 \n",
       "L 163.44 22.68 \n",
       "M 169.92 4.68 \n",
       "L 169.92 22.68 \n",
       "M 169.92 13.68 \n",
       "L 220.68 13.68 \n",
       "\" clip-path=\"url(#p41a310b9b2)\" style=\"fill: none; stroke: #000000; stroke-width: 2; stroke-linecap: round\"/>\n",
       "   </g>\n",
       "   <g id=\"line2d_3\">\n",
       "    <path d=\"M 220.68 13.68 \n",
       "L 268.38 13.68 \n",
       "M 280.98 4.68 \n",
       "L 280.98 22.68 \n",
       "M 280.98 13.68 \n",
       "L 328.68 13.68 \n",
       "\" clip-path=\"url(#p41a310b9b2)\" style=\"fill: none; stroke: #000000; stroke-width: 2; stroke-linecap: round\"/>\n",
       "   </g>\n",
       "  </g>\n",
       " </g>\n",
       " <defs>\n",
       "  <clipPath id=\"p41a310b9b2\">\n",
       "   <rect x=\"0\" y=\"-0\" width=\"333.36\" height=\"27.36\"/>\n",
       "  </clipPath>\n",
       " </defs>\n",
       "</svg>\n"
      ],
      "text/plain": [
       "<schemdraw.backends.mpl.Figure object at 0x7dd7d4886450>"
      ]
     },
     "metadata": {},
     "output_type": "display_data"
    }
   ],
   "source": [
    "# Context Manager - file save, should still draw in Jupyter\n",
    "try:\n",
    "    os.remove('savetest.png')\n",
    "except FileNotFoundError:\n",
    "    pass\n",
    "\n",
    "with schemdraw.Drawing(file='savetest.png') as d:\n",
    "    d += elm.Resistor()\n",
    "    d += elm.Capacitor()\n",
    "    d += elm.Diode()\n",
    "    \n",
    "assert os.path.exists('savetest.png')"
   ]
  },
  {
   "cell_type": "code",
   "execution_count": 10,
   "id": "d2dbd576-9d52-4672-85bf-bfa4be9e7ded",
   "metadata": {},
   "outputs": [
    {
     "data": {
      "image/png": "[encoded data removed]",
      "image/svg+xml": [
       "<?xml version=\"1.0\" encoding=\"utf-8\" standalone=\"no\"?>\n",
       "<!DOCTYPE svg PUBLIC \"-//W3C//DTD SVG 1.1//EN\"\n",
       "  \"http://www.w3.org/Graphics/SVG/1.1/DTD/svg11.dtd\">\n",
       "<svg xmlns:xlink=\"http://www.w3.org/1999/xlink\" width=\"360.36pt\" height=\"81.36pt\" viewBox=\"0 0 360.36 81.36\" xmlns=\"http://www.w3.org/2000/svg\" version=\"1.1\">\n",
       " <metadata>\n",
       "  <rdf:RDF xmlns:dc=\"http://purl.org/dc/elements/1.1/\" xmlns:cc=\"http://creativecommons.org/ns#\" xmlns:rdf=\"http://www.w3.org/1999/02/22-rdf-syntax-ns#\">\n",
       "   <cc:Work>\n",
       "    <dc:type rdf:resource=\"http://purl.org/dc/dcmitype/StillImage\"/>\n",
       "    <dc:date>2025-07-27T10:57:12.864284</dc:date>\n",
       "    <dc:format>image/svg+xml</dc:format>\n",
       "    <dc:creator>\n",
       "     <cc:Agent>\n",
       "      <dc:title>Matplotlib v3.8.4, https://matplotlib.org/</dc:title>\n",
       "     </cc:Agent>\n",
       "    </dc:creator>\n",
       "   </cc:Work>\n",
       "  </rdf:RDF>\n",
       " </metadata>\n",
       " <defs>\n",
       "  <style type=\"text/css\">*{stroke-linejoin: round; stroke-linecap: butt}</style>\n",
       " </defs>\n",
       " <g id=\"figure_1\">\n",
       "  <g id=\"patch_1\">\n",
       "   <path d=\"M 0 81.36 \n",
       "L 360.36 81.36 \n",
       "L 360.36 0 \n",
       "L 0 0 \n",
       "z\n",
       "\" style=\"fill: #ffffff\"/>\n",
       "  </g>\n",
       "  <g id=\"axes_1\">\n",
       "   <g id=\"patch_2\">\n",
       "    <path d=\"M 268.38 31.68 \n",
       "L 280.98 40.68 \n",
       "L 268.38 49.68 \n",
       "L 268.38 31.68 \n",
       "z\n",
       "\" clip-path=\"url(#p1fe12e0cf4)\" style=\"fill: none; stroke: #000000; stroke-width: 2; stroke-linecap: round\"/>\n",
       "   </g>\n",
       "   <g id=\"patch_3\">\n",
       "    <path d=\"M 344.88 76.68 \n",
       "L 345.051352 76.678641 \n",
       "L 345.222662 76.674563 \n",
       "L 345.393885 76.667767 \n",
       "L 345.564978 76.658256 \n",
       "L 345.7359 76.646032 \n",
       "L 345.906605 76.631097 \n",
       "L 346.077053 76.613455 \n",
       "L 346.247198 76.593112 \n",
       "L 346.417 76.570072 \n",
       "L 346.586415 76.54434 \n",
       "L 346.7554 76.515924 \n",
       "L 346.923913 76.48483 \n",
       "L 347.091912 76.451066 \n",
       "L 347.259354 76.414642 \n",
       "L 347.426197 76.375565 \n",
       "L 347.592398 76.333846 \n",
       "L 347.757917 76.289495 \n",
       "L 347.922712 76.242524 \n",
       "L 348.08674 76.192944 \n",
       "L 348.249961 76.140768 \n",
       "L 348.412334 76.086009 \n",
       "L 348.573818 76.02868 \n",
       "L 348.734371 75.968797 \n",
       "L 348.893955 75.906374 \n",
       "L 349.052527 75.841426 \n",
       "L 349.21005 75.773971 \n",
       "L 349.366482 75.704026 \n",
       "L 349.521785 75.631607 \n",
       "L 349.675919 75.556733 \n",
       "L 349.828846 75.479423 \n",
       "L 349.980528 75.399696 \n",
       "L 350.130925 75.317573 \n",
       "L 350.28 75.233074 \n",
       "L 350.427716 75.146221 \n",
       "L 350.574035 75.057035 \n",
       "L 350.718921 74.965538 \n",
       "L 350.862337 74.871754 \n",
       "L 351.004247 74.775707 \n",
       "L 351.144615 74.67742 \n",
       "L 351.283406 74.576919 \n",
       "L 351.420585 74.474228 \n",
       "L 351.556117 74.369373 \n",
       "L 351.689969 74.262382 \n",
       "L 351.822106 74.15328 \n",
       "L 351.952496 74.042095 \n",
       "L 352.081105 73.928856 \n",
       "L 352.207902 73.81359 \n",
       "L 352.332853 73.696328 \n",
       "L 352.455929 73.577097 \n",
       "L 352.577097 73.455929 \n",
       "L 352.696328 73.332853 \n",
       "L 352.81359 73.207902 \n",
       "L 352.928856 73.081105 \n",
       "L 353.042095 72.952496 \n",
       "L 353.15328 72.822106 \n",
       "L 353.262382 72.689969 \n",
       "L 353.369373 72.556117 \n",
       "L 353.474228 72.420585 \n",
       "L 353.576919 72.283406 \n",
       "L 353.67742 72.144615 \n",
       "L 353.775707 72.004247 \n",
       "L 353.871754 71.862337 \n",
       "L 353.965538 71.718921 \n",
       "L 354.057035 71.574035 \n",
       "L 354.146221 71.427716 \n",
       "L 354.233074 71.28 \n",
       "L 354.317573 71.130925 \n",
       "L 354.399696 70.980528 \n",
       "L 354.479423 70.828846 \n",
       "L 354.556733 70.675919 \n",
       "L 354.631607 70.521785 \n",
       "L 354.704026 70.366482 \n",
       "L 354.773971 70.21005 \n",
       "L 354.841426 70.052527 \n",
       "L 354.906374 69.893955 \n",
       "L 354.968797 69.734371 \n",
       "L 355.02868 69.573818 \n",
       "L 355.086009 69.412334 \n",
       "L 355.140768 69.249961 \n",
       "L 355.192944 69.08674 \n",
       "L 355.242524 68.922712 \n",
       "L 355.289495 68.757917 \n",
       "L 355.333846 68.592398 \n",
       "L 355.375565 68.426197 \n",
       "L 355.414642 68.259354 \n",
       "L 355.451066 68.091912 \n",
       "L 355.48483 67.923913 \n",
       "L 355.515924 67.7554 \n",
       "L 355.54434 67.586415 \n",
       "L 355.570072 67.417 \n",
       "L 355.593112 67.247198 \n",
       "L 355.613455 67.077053 \n",
       "L 355.631097 66.906605 \n",
       "L 355.646032 66.7359 \n",
       "L 355.658256 66.564978 \n",
       "L 355.667767 66.393885 \n",
       "L 355.674563 66.222662 \n",
       "L 355.678641 66.051352 \n",
       "L 355.68 65.88 \n",
       "L 355.68 15.48 \n",
       "L 355.678641 15.308648 \n",
       "L 355.674563 15.137338 \n",
       "L 355.667767 14.966115 \n",
       "L 355.658256 14.795022 \n",
       "L 355.646032 14.6241 \n",
       "L 355.631097 14.453395 \n",
       "L 355.613455 14.282947 \n",
       "L 355.593112 14.112802 \n",
       "L 355.570072 13.943 \n",
       "L 355.54434 13.773585 \n",
       "L 355.515924 13.6046 \n",
       "L 355.48483 13.436087 \n",
       "L 355.451066 13.268088 \n",
       "L 355.414642 13.100646 \n",
       "L 355.375565 12.933803 \n",
       "L 355.333846 12.767602 \n",
       "L 355.289495 12.602083 \n",
       "L 355.242524 12.437288 \n",
       "L 355.192944 12.27326 \n",
       "L 355.140768 12.110039 \n",
       "L 355.086009 11.947666 \n",
       "L 355.02868 11.786182 \n",
       "L 354.968797 11.625629 \n",
       "L 354.906374 11.466045 \n",
       "L 354.841426 11.307473 \n",
       "L 354.773971 11.14995 \n",
       "L 354.704026 10.993518 \n",
       "L 354.631607 10.838215 \n",
       "L 354.556733 10.684081 \n",
       "L 354.479423 10.531154 \n",
       "L 354.399696 10.379472 \n",
       "L 354.317573 10.229075 \n",
       "L 354.233074 10.08 \n",
       "L 354.146221 9.932284 \n",
       "L 354.057035 9.785965 \n",
       "L 353.965538 9.641079 \n",
       "L 353.871754 9.497663 \n",
       "L 353.775707 9.355753 \n",
       "L 353.67742 9.215385 \n",
       "L 353.576919 9.076594 \n",
       "L 353.474228 8.939415 \n",
       "L 353.369373 8.803883 \n",
       "L 353.262382 8.670031 \n",
       "L 353.15328 8.537894 \n",
       "L 353.042095 8.407504 \n",
       "L 352.928856 8.278895 \n",
       "L 352.81359 8.152098 \n",
       "L 352.696328 8.027147 \n",
       "L 352.577097 7.904071 \n",
       "L 352.455929 7.782903 \n",
       "L 352.332853 7.663672 \n",
       "L 352.207902 7.54641 \n",
       "L 352.081105 7.431144 \n",
       "L 351.952496 7.317905 \n",
       "L 351.822106 7.20672 \n",
       "L 351.689969 7.097618 \n",
       "L 351.556117 6.990627 \n",
       "L 351.420585 6.885772 \n",
       "L 351.283406 6.783081 \n",
       "L 351.144615 6.68258 \n",
       "L 351.004247 6.584293 \n",
       "L 350.862337 6.488246 \n",
       "L 350.718921 6.394462 \n",
       "L 350.574035 6.302965 \n",
       "L 350.427716 6.213779 \n",
       "L 350.28 6.126926 \n",
       "L 350.130925 6.042427 \n",
       "L 349.980528 5.960304 \n",
       "L 349.828846 5.880577 \n",
       "L 349.675919 5.803267 \n",
       "L 349.521785 5.728393 \n",
       "L 349.366482 5.655974 \n",
       "L 349.21005 5.586029 \n",
       "L 349.052527 5.518574 \n",
       "L 348.893955 5.453626 \n",
       "L 348.734371 5.391203 \n",
       "L 348.573818 5.33132 \n",
       "L 348.412334 5.273991 \n",
       "L 348.249961 5.219232 \n",
       "L 348.08674 5.167056 \n",
       "L 347.922712 5.117476 \n",
       "L 347.757917 5.070505 \n",
       "L 347.592398 5.026154 \n",
       "L 347.426197 4.984435 \n",
       "L 347.259354 4.945358 \n",
       "L 347.091912 4.908934 \n",
       "L 346.923913 4.87517 \n",
       "L 346.7554 4.844076 \n",
       "L 346.586415 4.81566 \n",
       "L 346.417 4.789928 \n",
       "L 346.247198 4.766888 \n",
       "L 346.077053 4.746545 \n",
       "L 345.906605 4.728903 \n",
       "L 345.7359 4.713968 \n",
       "L 345.564978 4.701744 \n",
       "L 345.393885 4.692233 \n",
       "L 345.222662 4.685437 \n",
       "L 345.051352 4.681359 \n",
       "L 344.88 4.68 \n",
       "L 204.48 4.68 \n",
       "L 204.308648 4.681359 \n",
       "L 204.137338 4.685437 \n",
       "L 203.966115 4.692233 \n",
       "L 203.795022 4.701744 \n",
       "L 203.6241 4.713968 \n",
       "L 203.453395 4.728903 \n",
       "L 203.282947 4.746545 \n",
       "L 203.112802 4.766888 \n",
       "L 202.943 4.789928 \n",
       "L 202.773585 4.81566 \n",
       "L 202.6046 4.844076 \n",
       "L 202.436087 4.87517 \n",
       "L 202.268088 4.908934 \n",
       "L 202.100646 4.945358 \n",
       "L 201.933803 4.984435 \n",
       "L 201.767602 5.026154 \n",
       "L 201.602083 5.070505 \n",
       "L 201.437288 5.117476 \n",
       "L 201.27326 5.167056 \n",
       "L 201.110039 5.219232 \n",
       "L 200.947666 5.273991 \n",
       "L 200.786182 5.33132 \n",
       "L 200.625629 5.391203 \n",
       "L 200.466045 5.453626 \n",
       "L 200.307473 5.518574 \n",
       "L 200.14995 5.586029 \n",
       "L 199.993518 5.655974 \n",
       "L 199.838215 5.728393 \n",
       "L 199.684081 5.803267 \n",
       "L 199.531154 5.880577 \n",
       "L 199.379472 5.960304 \n",
       "L 199.229075 6.042427 \n",
       "L 199.08 6.126926 \n",
       "L 198.932284 6.213779 \n",
       "L 198.785965 6.302965 \n",
       "L 198.641079 6.394462 \n",
       "L 198.497663 6.488246 \n",
       "L 198.355753 6.584293 \n",
       "L 198.215385 6.68258 \n",
       "L 198.076594 6.783081 \n",
       "L 197.939415 6.885772 \n",
       "L 197.803883 6.990627 \n",
       "L 197.670031 7.097618 \n",
       "L 197.537894 7.20672 \n",
       "L 197.407504 7.317905 \n",
       "L 197.278895 7.431144 \n",
       "L 197.152098 7.54641 \n",
       "L 197.027147 7.663672 \n",
       "L 196.904071 7.782903 \n",
       "L 196.782903 7.904071 \n",
       "L 196.663672 8.027147 \n",
       "L 196.54641 8.152098 \n",
       "L 196.431144 8.278895 \n",
       "L 196.317905 8.407504 \n",
       "L 196.20672 8.537894 \n",
       "L 196.097618 8.670031 \n",
       "L 195.990627 8.803883 \n",
       "L 195.885772 8.939415 \n",
       "L 195.783081 9.076594 \n",
       "L 195.68258 9.215385 \n",
       "L 195.584293 9.355753 \n",
       "L 195.488246 9.497663 \n",
       "L 195.394462 9.641079 \n",
       "L 195.302965 9.785965 \n",
       "L 195.213779 9.932284 \n",
       "L 195.126926 10.08 \n",
       "L 195.042427 10.229075 \n",
       "L 194.960304 10.379472 \n",
       "L 194.880577 10.531154 \n",
       "L 194.803267 10.684081 \n",
       "L 194.728393 10.838215 \n",
       "L 194.655974 10.993518 \n",
       "L 194.586029 11.14995 \n",
       "L 194.518574 11.307473 \n",
       "L 194.453626 11.466045 \n",
       "L 194.391203 11.625629 \n",
       "L 194.33132 11.786182 \n",
       "L 194.273991 11.947666 \n",
       "L 194.219232 12.110039 \n",
       "L 194.167056 12.27326 \n",
       "L 194.117476 12.437288 \n",
       "L 194.070505 12.602083 \n",
       "L 194.026154 12.767602 \n",
       "L 193.984435 12.933803 \n",
       "L 193.945358 13.100646 \n",
       "L 193.908934 13.268088 \n",
       "L 193.87517 13.436087 \n",
       "L 193.844076 13.6046 \n",
       "L 193.81566 13.773585 \n",
       "L 193.789928 13.943 \n",
       "L 193.766888 14.112802 \n",
       "L 193.746545 14.282947 \n",
       "L 193.728903 14.453395 \n",
       "L 193.713968 14.6241 \n",
       "L 193.701744 14.795022 \n",
       "L 193.692233 14.966115 \n",
       "L 193.685437 15.137338 \n",
       "L 193.681359 15.308648 \n",
       "L 193.68 15.48 \n",
       "L 193.68 65.88 \n",
       "L 193.681359 66.051352 \n",
       "L 193.685437 66.222662 \n",
       "L 193.692233 66.393885 \n",
       "L 193.701744 66.564978 \n",
       "L 193.713968 66.7359 \n",
       "L 193.728903 66.906605 \n",
       "L 193.746545 67.077053 \n",
       "L 193.766888 67.247198 \n",
       "L 193.789928 67.417 \n",
       "L 193.81566 67.586415 \n",
       "L 193.844076 67.7554 \n",
       "L 193.87517 67.923913 \n",
       "L 193.908934 68.091912 \n",
       "L 193.945358 68.259354 \n",
       "L 193.984435 68.426197 \n",
       "L 194.026154 68.592398 \n",
       "L 194.070505 68.757917 \n",
       "L 194.117476 68.922712 \n",
       "L 194.167056 69.08674 \n",
       "L 194.219232 69.249961 \n",
       "L 194.273991 69.412334 \n",
       "L 194.33132 69.573818 \n",
       "L 194.391203 69.734371 \n",
       "L 194.453626 69.893955 \n",
       "L 194.518574 70.052527 \n",
       "L 194.586029 70.21005 \n",
       "L 194.655974 70.366482 \n",
       "L 194.728393 70.521785 \n",
       "L 194.803267 70.675919 \n",
       "L 194.880577 70.828846 \n",
       "L 194.960304 70.980528 \n",
       "L 195.042427 71.130925 \n",
       "L 195.126926 71.28 \n",
       "L 195.213779 71.427716 \n",
       "L 195.302965 71.574035 \n",
       "L 195.394462 71.718921 \n",
       "L 195.488246 71.862337 \n",
       "L 195.584293 72.004247 \n",
       "L 195.68258 72.144615 \n",
       "L 195.783081 72.283406 \n",
       "L 195.885772 72.420585 \n",
       "L 195.990627 72.556117 \n",
       "L 196.097618 72.689969 \n",
       "L 196.20672 72.822106 \n",
       "L 196.317905 72.952496 \n",
       "L 196.431144 73.081105 \n",
       "L 196.54641 73.207902 \n",
       "L 196.663672 73.332853 \n",
       "L 196.782903 73.455929 \n",
       "L 196.904071 73.577097 \n",
       "L 197.027147 73.696328 \n",
       "L 197.152098 73.81359 \n",
       "L 197.278895 73.928856 \n",
       "L 197.407504 74.042095 \n",
       "L 197.537894 74.15328 \n",
       "L 197.670031 74.262382 \n",
       "L 197.803883 74.369373 \n",
       "L 197.939415 74.474228 \n",
       "L 198.076594 74.576919 \n",
       "L 198.215385 74.67742 \n",
       "L 198.355753 74.775707 \n",
       "L 198.497663 74.871754 \n",
       "L 198.641079 74.965538 \n",
       "L 198.785965 75.057035 \n",
       "L 198.932284 75.146221 \n",
       "L 199.08 75.233074 \n",
       "L 199.229075 75.317573 \n",
       "L 199.379472 75.399696 \n",
       "L 199.531154 75.479423 \n",
       "L 199.684081 75.556733 \n",
       "L 199.838215 75.631607 \n",
       "L 199.993518 75.704026 \n",
       "L 200.14995 75.773971 \n",
       "L 200.307473 75.841426 \n",
       "L 200.466045 75.906374 \n",
       "L 200.625629 75.968797 \n",
       "L 200.786182 76.02868 \n",
       "L 200.947666 76.086009 \n",
       "L 201.110039 76.140768 \n",
       "L 201.27326 76.192944 \n",
       "L 201.437288 76.242524 \n",
       "L 201.602083 76.289495 \n",
       "L 201.767602 76.333846 \n",
       "L 201.933803 76.375565 \n",
       "L 202.100646 76.414642 \n",
       "L 202.268088 76.451066 \n",
       "L 202.436087 76.48483 \n",
       "L 202.6046 76.515924 \n",
       "L 202.773585 76.54434 \n",
       "L 202.943 76.570072 \n",
       "L 203.112802 76.593112 \n",
       "L 203.282947 76.613455 \n",
       "L 203.453395 76.631097 \n",
       "L 203.6241 76.646032 \n",
       "L 203.795022 76.658256 \n",
       "L 203.966115 76.667767 \n",
       "L 204.137338 76.674563 \n",
       "L 204.308648 76.678641 \n",
       "L 204.48 76.68 \n",
       "L 344.88 76.68 \n",
       "z\n",
       "\" clip-path=\"url(#p1fe12e0cf4)\" style=\"fill: none; stroke: #000000; stroke-width: 2; stroke-linecap: round\"/>\n",
       "   </g>\n",
       "   <g id=\"line2d_1\">\n",
       "    <path d=\"M 4.68 40.68 \n",
       "L 40.68 40.68 \n",
       "L 43.68 31.68 \n",
       "L 49.68 49.68 \n",
       "L 55.68 31.68 \n",
       "L 61.68 49.68 \n",
       "L 67.68 31.68 \n",
       "L 73.68 49.68 \n",
       "L 76.68 40.68 \n",
       "L 112.68 40.68 \n",
       "\" clip-path=\"url(#p1fe12e0cf4)\" style=\"fill: none; stroke: #000000; stroke-width: 2; stroke-linecap: round\"/>\n",
       "   </g>\n",
       "   <g id=\"line2d_2\">\n",
       "    <path d=\"M 112.68 40.68 \n",
       "L 163.44 40.68 \n",
       "M 163.44 31.68 \n",
       "L 163.44 49.68 \n",
       "M 169.92 31.68 \n",
       "L 169.92 49.68 \n",
       "M 169.92 40.68 \n",
       "L 220.68 40.68 \n",
       "\" clip-path=\"url(#p1fe12e0cf4)\" style=\"fill: none; stroke: #000000; stroke-width: 2; stroke-linecap: round\"/>\n",
       "   </g>\n",
       "   <g id=\"line2d_3\">\n",
       "    <path d=\"M 220.68 40.68 \n",
       "L 268.38 40.68 \n",
       "M 280.98 31.68 \n",
       "L 280.98 49.68 \n",
       "M 280.98 40.68 \n",
       "L 328.68 40.68 \n",
       "\" clip-path=\"url(#p1fe12e0cf4)\" style=\"fill: none; stroke: #000000; stroke-width: 2; stroke-linecap: round\"/>\n",
       "   </g>\n",
       "  </g>\n",
       " </g>\n",
       " <defs>\n",
       "  <clipPath id=\"p1fe12e0cf4\">\n",
       "   <rect x=\"0\" y=\"-0\" width=\"360.36\" height=\"81.36\"/>\n",
       "  </clipPath>\n",
       " </defs>\n",
       "</svg>\n"
      ],
      "text/plain": [
       "<schemdraw.backends.mpl.Figure object at 0x7dd7d48c7110>"
      ]
     },
     "metadata": {},
     "output_type": "display_data"
    }
   ],
   "source": [
    "# Drawing stack, containers\n",
    "with schemdraw.Drawing() as d:\n",
    "    assert len(drawing_stack) == 1\n",
    "    r = elm.Resistor()\n",
    "    assert r.start is not None  # Make sure attributes are accessible\n",
    "    c = elm.Capacitor()\n",
    "    with d.container() as c:\n",
    "        q = elm.Diode()\n",
    "        assert len(drawing_stack) == 2\n",
    "    assert q.start is not None  # Variables set inside the container are still accessible\n",
    "    assert len(drawing_stack) == 1\n",
    "assert len(drawing_stack) == 0"
   ]
  },
  {
   "cell_type": "code",
   "execution_count": 11,
   "id": "11c0166f",
   "metadata": {},
   "outputs": [
    {
     "data": {
      "text/plain": [
       "b'<?xml version=\"1.0\" encoding=\"utf-8\" standalone=\"no\"?>\\n<!DOCTYPE svg PUBLIC \"-//W3C//DTD SVG 1.1//EN\"\\n  \"http://www.w3.org/Graphics/SVG/1.1/DTD/svg11.dtd\">\\n<svg xmlns:xlink=\"http://www.w3.org/1999/xlink\" width=\"360.36pt\" height=\"81.36pt\" viewBox=\"0 0 360.36 81.36\" xmlns=\"http://www.w3.org/2000/svg\" version=\"1.1\">\\n <metadata>\\n  <rdf:RDF xmlns:dc=\"http://purl.org/dc/elements/1.1/\" xmlns:cc=\"http://creativecommons.org/ns#\" xmlns:rdf=\"http://www.w3.org/1999/02/22-rdf-syntax-ns#\">\\n   <cc:Work>\\n    <dc:type rdf:resource=\"http://purl.org/dc/dcmitype/StillImage\"/>\\n    <dc:date>2025-07-27T10:57:12.906830</dc:date>\\n    <dc:format>image/svg+xml</dc:format>\\n    <dc:creator>\\n     <cc:Agent>\\n      <dc:title>Matplotlib v3.8.4, https://matplotlib.org/</dc:title>\\n     </cc:Agent>\\n    </dc:creator>\\n   </cc:Work>\\n  </rdf:RDF>\\n </metadata>\\n <defs>\\n  <style type=\"text/css\">*{stroke-linejoin: round; stroke-linecap: butt}</style>\\n </defs>\\n <g id=\"figure_1\">\\n  <g id=\"patch_1\">\\n   <path d=\"M 0 81.36 \\nL 360.36 81.36 \\nL 360.36 0 \\nL 0 0 \\nz\\n\" style=\"fill: #ffffff\"/>\\n  </g>\\n  <g id=\"axes_1\">\\n   <g id=\"patch_2\">\\n    <path d=\"M 268.38 31.68 \\nL 280.98 40.68 \\nL 268.38 49.68 \\nL 268.38 31.68 \\nz\\n\" clip-path=\"url(#p3d847c0288)\" style=\"fill: none; stroke: #000000; stroke-width: 2; stroke-linecap: round\"/>\\n   </g>\\n   <g id=\"patch_3\">\\n    <path d=\"M 344.88 76.68 \\nL 345.051352 76.678641 \\nL 345.222662 76.674563 \\nL 345.393885 76.667767 \\nL 345.564978 76.658256 \\nL 345.7359 76.646032 \\nL 345.906605 76.631097 \\nL 346.077053 76.613455 \\nL 346.247198 76.593112 \\nL 346.417 76.570072 \\nL 346.586415 76.54434 \\nL 346.7554 76.515924 \\nL 346.923913 76.48483 \\nL 347.091912 76.451066 \\nL 347.259354 76.414642 \\nL 347.426197 76.375565 \\nL 347.592398 76.333846 \\nL 347.757917 76.289495 \\nL 347.922712 76.242524 \\nL 348.08674 76.192944 \\nL 348.249961 76.140768 \\nL 348.412334 76.086009 \\nL 348.573818 76.02868 \\nL 348.734371 75.968797 \\nL 348.893955 75.906374 \\nL 349.052527 75.841426 \\nL 349.21005 75.773971 \\nL 349.366482 75.704026 \\nL 349.521785 75.631607 \\nL 349.675919 75.556733 \\nL 349.828846 75.479423 \\nL 349.980528 75.399696 \\nL 350.130925 75.317573 \\nL 350.28 75.233074 \\nL 350.427716 75.146221 \\nL 350.574035 75.057035 \\nL 350.718921 74.965538 \\nL 350.862337 74.871754 \\nL 351.004247 74.775707 \\nL 351.144615 74.67742 \\nL 351.283406 74.576919 \\nL 351.420585 74.474228 \\nL 351.556117 74.369373 \\nL 351.689969 74.262382 \\nL 351.822106 74.15328 \\nL 351.952496 74.042095 \\nL 352.081105 73.928856 \\nL 352.207902 73.81359 \\nL 352.332853 73.696328 \\nL 352.455929 73.577097 \\nL 352.577097 73.455929 \\nL 352.696328 73.332853 \\nL 352.81359 73.207902 \\nL 352.928856 73.081105 \\nL 353.042095 72.952496 \\nL 353.15328 72.822106 \\nL 353.262382 72.689969 \\nL 353.369373 72.556117 \\nL 353.474228 72.420585 \\nL 353.576919 72.283406 \\nL 353.67742 72.144615 \\nL 353.775707 72.004247 \\nL 353.871754 71.862337 \\nL 353.965538 71.718921 \\nL 354.057035 71.574035 \\nL 354.146221 71.427716 \\nL 354.233074 71.28 \\nL 354.317573 71.130925 \\nL 354.399696 70.980528 \\nL 354.479423 70.828846 \\nL 354.556733 70.675919 \\nL 354.631607 70.521785 \\nL 354.704026 70.366482 \\nL 354.773971 70.21005 \\nL 354.841426 70.052527 \\nL 354.906374 69.893955 \\nL 354.968797 69.734371 \\nL 355.02868 69.573818 \\nL 355.086009 69.412334 \\nL 355.140768 69.249961 \\nL 355.192944 69.08674 \\nL 355.242524 68.922712 \\nL 355.289495 68.757917 \\nL 355.333846 68.592398 \\nL 355.375565 68.426197 \\nL 355.414642 68.259354 \\nL 355.451066 68.091912 \\nL 355.48483 67.923913 \\nL 355.515924 67.7554 \\nL 355.54434 67.586415 \\nL 355.570072 67.417 \\nL 355.593112 67.247198 \\nL 355.613455 67.077053 \\nL 355.631097 66.906605 \\nL 355.646032 66.7359 \\nL 355.658256 66.564978 \\nL 355.667767 66.393885 \\nL 355.674563 66.222662 \\nL 355.678641 66.051352 \\nL 355.68 65.88 \\nL 355.68 15.48 \\nL 355.678641 15.308648 \\nL 355.674563 15.137338 \\nL 355.667767 14.966115 \\nL 355.658256 14.795022 \\nL 355.646032 14.6241 \\nL 355.631097 14.453395 \\nL 355.613455 14.282947 \\nL 355.593112 14.112802 \\nL 355.570072 13.943 \\nL 355.54434 13.773585 \\nL 355.515924 13.6046 \\nL 355.48483 13.436087 \\nL 355.451066 13.268088 \\nL 355.414642 13.100646 \\nL 355.375565 12.933803 \\nL 355.333846 12.767602 \\nL 355.289495 12.602083 \\nL 355.242524 12.437288 \\nL 355.192944 12.27326 \\nL 355.140768 12.110039 \\nL 355.086009 11.947666 \\nL 355.02868 11.786182 \\nL 354.968797 11.625629 \\nL 354.906374 11.466045 \\nL 354.841426 11.307473 \\nL 354.773971 11.14995 \\nL 354.704026 10.993518 \\nL 354.631607 10.838215 \\nL 354.556733 10.684081 \\nL 354.479423 10.531154 \\nL 354.399696 10.379472 \\nL 354.317573 10.229075 \\nL 354.233074 10.08 \\nL 354.146221 9.932284 \\nL 354.057035 9.785965 \\nL 353.965538 9.641079 \\nL 353.871754 9.497663 \\nL 353.775707 9.355753 \\nL 353.67742 9.215385 \\nL 353.576919 9.076594 \\nL 353.474228 8.939415 \\nL 353.369373 8.803883 \\nL 353.262382 8.670031 \\nL 353.15328 8.537894 \\nL 353.042095 8.407504 \\nL 352.928856 8.278895 \\nL 352.81359 8.152098 \\nL 352.696328 8.027147 \\nL 352.577097 7.904071 \\nL 352.455929 7.782903 \\nL 352.332853 7.663672 \\nL 352.207902 7.54641 \\nL 352.081105 7.431144 \\nL 351.952496 7.317905 \\nL 351.822106 7.20672 \\nL 351.689969 7.097618 \\nL 351.556117 6.990627 \\nL 351.420585 6.885772 \\nL 351.283406 6.783081 \\nL 351.144615 6.68258 \\nL 351.004247 6.584293 \\nL 350.862337 6.488246 \\nL 350.718921 6.394462 \\nL 350.574035 6.302965 \\nL 350.427716 6.213779 \\nL 350.28 6.126926 \\nL 350.130925 6.042427 \\nL 349.980528 5.960304 \\nL 349.828846 5.880577 \\nL 349.675919 5.803267 \\nL 349.521785 5.728393 \\nL 349.366482 5.655974 \\nL 349.21005 5.586029 \\nL 349.052527 5.518574 \\nL 348.893955 5.453626 \\nL 348.734371 5.391203 \\nL 348.573818 5.33132 \\nL 348.412334 5.273991 \\nL 348.249961 5.219232 \\nL 348.08674 5.167056 \\nL 347.922712 5.117476 \\nL 347.757917 5.070505 \\nL 347.592398 5.026154 \\nL 347.426197 4.984435 \\nL 347.259354 4.945358 \\nL 347.091912 4.908934 \\nL 346.923913 4.87517 \\nL 346.7554 4.844076 \\nL 346.586415 4.81566 \\nL 346.417 4.789928 \\nL 346.247198 4.766888 \\nL 346.077053 4.746545 \\nL 345.906605 4.728903 \\nL 345.7359 4.713968 \\nL 345.564978 4.701744 \\nL 345.393885 4.692233 \\nL 345.222662 4.685437 \\nL 345.051352 4.681359 \\nL 344.88 4.68 \\nL 204.48 4.68 \\nL 204.308648 4.681359 \\nL 204.137338 4.685437 \\nL 203.966115 4.692233 \\nL 203.795022 4.701744 \\nL 203.6241 4.713968 \\nL 203.453395 4.728903 \\nL 203.282947 4.746545 \\nL 203.112802 4.766888 \\nL 202.943 4.789928 \\nL 202.773585 4.81566 \\nL 202.6046 4.844076 \\nL 202.436087 4.87517 \\nL 202.268088 4.908934 \\nL 202.100646 4.945358 \\nL 201.933803 4.984435 \\nL 201.767602 5.026154 \\nL 201.602083 5.070505 \\nL 201.437288 5.117476 \\nL 201.27326 5.167056 \\nL 201.110039 5.219232 \\nL 200.947666 5.273991 \\nL 200.786182 5.33132 \\nL 200.625629 5.391203 \\nL 200.466045 5.453626 \\nL 200.307473 5.518574 \\nL 200.14995 5.586029 \\nL 199.993518 5.655974 \\nL 199.838215 5.728393 \\nL 199.684081 5.803267 \\nL 199.531154 5.880577 \\nL 199.379472 5.960304 \\nL 199.229075 6.042427 \\nL 199.08 6.126926 \\nL 198.932284 6.213779 \\nL 198.785965 6.302965 \\nL 198.641079 6.394462 \\nL 198.497663 6.488246 \\nL 198.355753 6.584293 \\nL 198.215385 6.68258 \\nL 198.076594 6.783081 \\nL 197.939415 6.885772 \\nL 197.803883 6.990627 \\nL 197.670031 7.097618 \\nL 197.537894 7.20672 \\nL 197.407504 7.317905 \\nL 197.278895 7.431144 \\nL 197.152098 7.54641 \\nL 197.027147 7.663672 \\nL 196.904071 7.782903 \\nL 196.782903 7.904071 \\nL 196.663672 8.027147 \\nL 196.54641 8.152098 \\nL 196.431144 8.278895 \\nL 196.317905 8.407504 \\nL 196.20672 8.537894 \\nL 196.097618 8.670031 \\nL 195.990627 8.803883 \\nL 195.885772 8.939415 \\nL 195.783081 9.076594 \\nL 195.68258 9.215385 \\nL 195.584293 9.355753 \\nL 195.488246 9.497663 \\nL 195.394462 9.641079 \\nL 195.302965 9.785965 \\nL 195.213779 9.932284 \\nL 195.126926 10.08 \\nL 195.042427 10.229075 \\nL 194.960304 10.379472 \\nL 194.880577 10.531154 \\nL 194.803267 10.684081 \\nL 194.728393 10.838215 \\nL 194.655974 10.993518 \\nL 194.586029 11.14995 \\nL 194.518574 11.307473 \\nL 194.453626 11.466045 \\nL 194.391203 11.625629 \\nL 194.33132 11.786182 \\nL 194.273991 11.947666 \\nL 194.219232 12.110039 \\nL 194.167056 12.27326 \\nL 194.117476 12.437288 \\nL 194.070505 12.602083 \\nL 194.026154 12.767602 \\nL 193.984435 12.933803 \\nL 193.945358 13.100646 \\nL 193.908934 13.268088 \\nL 193.87517 13.436087 \\nL 193.844076 13.6046 \\nL 193.81566 13.773585 \\nL 193.789928 13.943 \\nL 193.766888 14.112802 \\nL 193.746545 14.282947 \\nL 193.728903 14.453395 \\nL 193.713968 14.6241 \\nL 193.701744 14.795022 \\nL 193.692233 14.966115 \\nL 193.685437 15.137338 \\nL 193.681359 15.308648 \\nL 193.68 15.48 \\nL 193.68 65.88 \\nL 193.681359 66.051352 \\nL 193.685437 66.222662 \\nL 193.692233 66.393885 \\nL 193.701744 66.564978 \\nL 193.713968 66.7359 \\nL 193.728903 66.906605 \\nL 193.746545 67.077053 \\nL 193.766888 67.247198 \\nL 193.789928 67.417 \\nL 193.81566 67.586415 \\nL 193.844076 67.7554 \\nL 193.87517 67.923913 \\nL 193.908934 68.091912 \\nL 193.945358 68.259354 \\nL 193.984435 68.426197 \\nL 194.026154 68.592398 \\nL 194.070505 68.757917 \\nL 194.117476 68.922712 \\nL 194.167056 69.08674 \\nL 194.219232 69.249961 \\nL 194.273991 69.412334 \\nL 194.33132 69.573818 \\nL 194.391203 69.734371 \\nL 194.453626 69.893955 \\nL 194.518574 70.052527 \\nL 194.586029 70.21005 \\nL 194.655974 70.366482 \\nL 194.728393 70.521785 \\nL 194.803267 70.675919 \\nL 194.880577 70.828846 \\nL 194.960304 70.980528 \\nL 195.042427 71.130925 \\nL 195.126926 71.28 \\nL 195.213779 71.427716 \\nL 195.302965 71.574035 \\nL 195.394462 71.718921 \\nL 195.488246 71.862337 \\nL 195.584293 72.004247 \\nL 195.68258 72.144615 \\nL 195.783081 72.283406 \\nL 195.885772 72.420585 \\nL 195.990627 72.556117 \\nL 196.097618 72.689969 \\nL 196.20672 72.822106 \\nL 196.317905 72.952496 \\nL 196.431144 73.081105 \\nL 196.54641 73.207902 \\nL 196.663672 73.332853 \\nL 196.782903 73.455929 \\nL 196.904071 73.577097 \\nL 197.027147 73.696328 \\nL 197.152098 73.81359 \\nL 197.278895 73.928856 \\nL 197.407504 74.042095 \\nL 197.537894 74.15328 \\nL 197.670031 74.262382 \\nL 197.803883 74.369373 \\nL 197.939415 74.474228 \\nL 198.076594 74.576919 \\nL 198.215385 74.67742 \\nL 198.355753 74.775707 \\nL 198.497663 74.871754 \\nL 198.641079 74.965538 \\nL 198.785965 75.057035 \\nL 198.932284 75.146221 \\nL 199.08 75.233074 \\nL 199.229075 75.317573 \\nL 199.379472 75.399696 \\nL 199.531154 75.479423 \\nL 199.684081 75.556733 \\nL 199.838215 75.631607 \\nL 199.993518 75.704026 \\nL 200.14995 75.773971 \\nL 200.307473 75.841426 \\nL 200.466045 75.906374 \\nL 200.625629 75.968797 \\nL 200.786182 76.02868 \\nL 200.947666 76.086009 \\nL 201.110039 76.140768 \\nL 201.27326 76.192944 \\nL 201.437288 76.242524 \\nL 201.602083 76.289495 \\nL 201.767602 76.333846 \\nL 201.933803 76.375565 \\nL 202.100646 76.414642 \\nL 202.268088 76.451066 \\nL 202.436087 76.48483 \\nL 202.6046 76.515924 \\nL 202.773585 76.54434 \\nL 202.943 76.570072 \\nL 203.112802 76.593112 \\nL 203.282947 76.613455 \\nL 203.453395 76.631097 \\nL 203.6241 76.646032 \\nL 203.795022 76.658256 \\nL 203.966115 76.667767 \\nL 204.137338 76.674563 \\nL 204.308648 76.678641 \\nL 204.48 76.68 \\nL 344.88 76.68 \\nz\\n\" clip-path=\"url(#p3d847c0288)\" style=\"fill: none; stroke: #000000; stroke-width: 2; stroke-linecap: round\"/>\\n   </g>\\n   <g id=\"line2d_1\">\\n    <path d=\"M 4.68 40.68 \\nL 40.68 40.68 \\nL 43.68 31.68 \\nL 49.68 49.68 \\nL 55.68 31.68 \\nL 61.68 49.68 \\nL 67.68 31.68 \\nL 73.68 49.68 \\nL 76.68 40.68 \\nL 112.68 40.68 \\n\" clip-path=\"url(#p3d847c0288)\" style=\"fill: none; stroke: #000000; stroke-width: 2; stroke-linecap: round\"/>\\n   </g>\\n   <g id=\"line2d_2\">\\n    <path d=\"M 112.68 40.68 \\nL 163.44 40.68 \\nM 163.44 31.68 \\nL 163.44 49.68 \\nM 169.92 31.68 \\nL 169.92 49.68 \\nM 169.92 40.68 \\nL 220.68 40.68 \\n\" clip-path=\"url(#p3d847c0288)\" style=\"fill: none; stroke: #000000; stroke-width: 2; stroke-linecap: round\"/>\\n   </g>\\n   <g id=\"line2d_3\">\\n    <path d=\"M 220.68 40.68 \\nL 268.38 40.68 \\nM 280.98 31.68 \\nL 280.98 49.68 \\nM 280.98 40.68 \\nL 328.68 40.68 \\n\" clip-path=\"url(#p3d847c0288)\" style=\"fill: none; stroke: #000000; stroke-width: 2; stroke-linecap: round\"/>\\n   </g>\\n  </g>\\n </g>\\n <defs>\\n  <clipPath id=\"p3d847c0288\">\\n   <rect x=\"0\" y=\"-0\" width=\"360.36\" height=\"81.36\"/>\\n  </clipPath>\\n </defs>\\n</svg>\\n'"
      ]
     },
     "execution_count": 11,
     "metadata": {},
     "output_type": "execute_result"
    }
   ],
   "source": [
    "# Matplotlib backend\n",
    "d.draw(canvas='matplotlib')\n",
    "d.get_imagedata('svg')"
   ]
  },
  {
   "cell_type": "code",
   "execution_count": 12,
   "id": "cfca9e73",
   "metadata": {},
   "outputs": [
    {
     "data": {
      "text/plain": [
       "b'<svg xmlns=\"http://www.w3.org/2000/svg\" xmlns:xlink=\"http://www.w3.org/1999/xlink\" xml:lang=\"en\" height=\"81.2pt\" width=\"360.20000000000005pt\" viewBox=\"-4.6 -40.6 360.20000000000005 81.2\"><polygon points=\"263.7,-9.0 276.3,-0.0 263.7,9.0 \" style=\"stroke:black;fill:none;stroke-width:2.0;stroke-dasharray:-;stroke-linecap:round;stroke-linejoin:round;\" /><polygon points=\"340.2,36.00000000000001 340.3713524094159,35.998640578877854 340.5426616817791,35.994562657738406 340.7138846908964,35.987767263176494 340.88497833229087,35.97825610589636 341.0558995340533,35.96603158028098 341.22660526768516,35.95109676378932 341.3970525589309,35.93345541618155 341.5671984985965,35.913111978572594 341.7370002533514,35.89007157231408 341.9064150765122,35.864339997705066 342.0754003188028,35.83592373253185 342.24391343909247,35.80482993043724 342.411912015104,35.77106641911961 342.5793537540946,35.7346416983624 342.7461965035018,35.69556493789426 342.9123982615556,35.65384597508065 343.07791718785234,35.60949531244738 343.2427116138874,35.56252411503658 343.4067400535453,35.512944207596 343.5699612135436,35.46076807160222 343.73233400382816,35.406008842118425 343.8938175479172,35.348680304487814 344.0543711931922,35.28879689086315 344.21395452113154,35.22637367657359 344.37252735748575,35.16142637632949 344.53004978239136,35.09397134026635 344.68648214042037,35.02402554982881 344.84178505056303,34.951606613495514 344.9959194161423,34.87673276234643 345.14884643465604,34.799422845473174 345.30052760754495,34.71969632523389 345.4509247498851,34.637573272353684 345.59999999999997,34.55307436087194 345.74771582899274,34.46622086293775 345.89403505019345,34.37703464345476 346.0389208285205,34.28553815457676 346.182336689754,34.19175443005553 346.3242465297179,34.0957070794422 346.4646146233689,33.99742028214363 346.6034056337901,33.89691878133544 346.7405846210867,33.79422787773299 346.8761170511825,33.68937342322211 347.0099688045128,33.58238181435098 347.1421061846146,33.47327998568497 347.27249592660905,33.36209540302599 347.4011052055759,33.248856056498155 347.527901644817,33.13359045350136 347.6528533240068,33.01632761153476 347.7759287872282,32.89709705089172 347.89709705089166,32.77592878722827 348.01632761153473,32.65285332400681 348.1335904535013,32.52790164481703 348.24885605649814,32.40110520557595 348.362095403026,32.27249592660908 348.47327998568494,32.142106184614626 348.5823818143509,32.009968804512845 348.6893734232221,31.87611705118254 348.79422787773296,31.740584621086803 348.8969187813354,31.60340563379012 348.9974202821436,31.464614623368938 349.09570707944215,31.324246529717925 349.19175443005554,31.182336689753992 349.2855381545767,31.038920828520457 349.37703464345475,30.89403505019343 349.46622086293775,30.747715828992792 349.5530743608719,30.599999999999998 349.6375732723536,30.45092474988506 349.7196963252339,30.300527607544975 349.79942284547315,30.148846434656033 349.8767327623464,29.99591941614236 349.95160661349547,29.841785050563054 350.02402554982876,29.686482140420374 350.0939713402663,29.53004978239143 350.1614263763294,29.372527357485794 350.22637367657353,29.213954521131537 350.2887968908631,29.054371193192214 350.34868030448774,28.893817547917223 350.40600884211835,28.732334003828154 350.4607680716022,28.569961213543664 350.512944207596,28.406740053545366 350.5625241150365,28.24271161388744 350.60949531244734,28.07791718785238 350.6538459750807,27.912398261555655 350.69556493789423,27.746196503501814 350.73464169836234,27.579353754094637 350.7710664191196,27.411912015104058 350.8048299304372,27.24391343909243 350.83592373253185,27.075400318802846 350.864339997705,26.906415076512175 350.890071572314,26.73700025335148 350.9131119785726,26.56719849859649 350.9334554161815,26.397052558930916 350.95109676378934,26.22660526768517 350.96603158028097,26.055899534053314 350.9782561058963,25.884978332290896 350.98776726317647,25.713884690896414 350.99456265773836,25.54266168177913 350.9986405788778,25.371352409415923 351.0,25.2 351.0,-25.2 350.9986405788778,-25.371352409415923 350.99456265773836,-25.54266168177913 350.98776726317647,-25.713884690896414 350.9782561058963,-25.884978332290896 350.96603158028097,-26.055899534053314 350.95109676378934,-26.226605267685173 350.9334554161815,-26.397052558930916 350.9131119785726,-26.56719849859649 350.890071572314,-26.73700025335148 350.864339997705,-26.906415076512175 350.83592373253185,-27.075400318802846 350.8048299304372,-27.24391343909243 350.7710664191196,-27.41191201510406 350.73464169836234,-27.579353754094637 350.69556493789423,-27.746196503501814 350.6538459750807,-27.912398261555655 350.60949531244734,-28.07791718785238 350.5625241150365,-28.24271161388744 350.512944207596,-28.406740053545366 350.4607680716022,-28.569961213543664 350.40600884211835,-28.732334003828154 350.34868030448774,-28.893817547917223 350.2887968908631,-29.054371193192214 350.22637367657353,-29.213954521131537 350.1614263763294,-29.372527357485794 350.0939713402663,-29.53004978239143 350.02402554982876,-29.686482140420374 349.95160661349547,-29.841785050563054 349.8767327623464,-29.99591941614236 349.79942284547315,-30.148846434656033 349.7196963252339,-30.300527607544975 349.6375732723536,-30.45092474988506 349.5530743608719,-30.6 349.46622086293775,-30.74771582899279 349.37703464345475,-30.89403505019343 349.2855381545767,-31.038920828520453 349.19175443005554,-31.182336689753992 349.09570707944215,-31.324246529717925 348.9974202821436,-31.464614623368938 348.8969187813354,-31.60340563379012 348.79422787773296,-31.740584621086803 348.6893734232221,-31.87611705118254 348.5823818143509,-32.009968804512845 348.47327998568494,-32.142106184614626 348.362095403026,-32.27249592660908 348.24885605649814,-32.40110520557595 348.1335904535013,-32.52790164481703 348.01632761153473,-32.65285332400681 347.89709705089166,-32.77592878722827 347.7759287872282,-32.89709705089172 347.6528533240068,-33.01632761153476 347.527901644817,-33.13359045350136 347.4011052055759,-33.248856056498155 347.27249592660905,-33.36209540302599 347.1421061846146,-33.47327998568497 347.0099688045128,-33.58238181435098 346.8761170511825,-33.68937342322211 346.7405846210868,-33.794227877732986 346.6034056337901,-33.89691878133544 346.4646146233689,-33.99742028214363 346.3242465297179,-34.0957070794422 346.182336689754,-34.19175443005553 346.0389208285205,-34.28553815457676 345.89403505019345,-34.37703464345476 345.74771582899274,-34.46622086293775 345.59999999999997,-34.55307436087194 345.4509247498851,-34.637573272353684 345.30052760754495,-34.71969632523389 345.14884643465604,-34.799422845473174 344.9959194161423,-34.87673276234643 344.84178505056303,-34.951606613495514 344.68648214042037,-35.02402554982881 344.53004978239136,-35.09397134026636 344.37252735748575,-35.16142637632949 344.21395452113154,-35.22637367657359 344.0543711931922,-35.28879689086315 343.8938175479172,-35.348680304487814 343.73233400382816,-35.406008842118425 343.5699612135436,-35.46076807160222 343.4067400535453,-35.51294420759601 343.2427116138874,-35.56252411503658 343.07791718785234,-35.60949531244738 342.9123982615556,-35.65384597508065 342.7461965035018,-35.69556493789426 342.5793537540946,-35.7346416983624 342.411912015104,-35.77106641911961 342.24391343909235,-35.80482993043724 342.0754003188028,-35.83592373253185 341.9064150765122,-35.864339997705066 341.7370002533514,-35.89007157231408 341.5671984985965,-35.913111978572594 341.3970525589309,-35.93345541618155 341.22660526768516,-35.95109676378932 341.0558995340533,-35.96603158028098 340.88497833229087,-35.97825610589636 340.7138846908964,-35.987767263176494 340.54266168177907,-35.994562657738406 340.3713524094159,-35.998640578877854 340.2,-36.00000000000001 199.79999999999998,-36.0 199.62864759058405,-35.99864057887785 199.45733831822088,-35.9945626577384 199.28611530910356,-35.98776726317649 199.1150216677091,-35.97825610589635 198.9441004659467,-35.966031580280976 198.77339473231484,-35.95109676378931 198.60294744106906,-35.933455416181545 198.4328015014035,-35.91311197857259 198.26299974664852,-35.89007157231407 198.0935849234878,-35.86433999770506 197.92459968119715,-35.835923732531846 197.75608656090756,-35.804829930437236 197.58808798489594,-35.771066419119606 197.42064624590537,-35.734641698362395 197.2538034964982,-35.69556493789425 197.08760173844433,-35.65384597508064 196.9220828121476,-35.60949531244737 196.75728838611255,-35.562524115036574 196.59325994645465,-35.512944207596 196.43003878645632,-35.46076807160221 196.26766599617181,-35.40600884211842 196.10618245208278,-35.34868030448781 195.9456288068078,-35.288796890863146 195.78604547886846,-35.22637367657359 195.6274726425142,-35.16142637632948 195.46995021760856,-35.09397134026635 195.31351785957963,-35.0240255498288 195.15821494943694,-34.95160661349551 195.00408058385764,-34.87673276234642 194.85115356534396,-34.79942284547317 194.69947239245502,-34.71969632523388 194.54907525011492,-34.63757327235368 194.39999999999998,-34.55307436087193 194.2522841710072,-34.46622086293775 194.10596494980658,-34.37703464345475 193.96107917147955,-34.285538154576756 193.81766331024602,-34.191754430055525 193.67575347028207,-34.09570707944219 193.53538537663104,-33.99742028214363 193.39659436620988,-33.89691878133544 193.2594153789132,-33.794227877732986 193.12388294881745,-33.68937342322211 192.99003119548715,-33.58238181435097 192.85789381538538,-33.47327998568496 192.7275040733909,-33.36209540302599 192.59889479442404,-33.24885605649815 192.47209835518296,-33.133590453501355 192.34714667599317,-33.016327611534756 192.22407121277172,-32.897097050891716 192.10290294910828,-32.77592878722827 191.98367238846524,-32.652853324006806 191.86640954649863,-32.52790164481703 191.75114394350186,-32.40110520557595 191.63790459697398,-32.27249592660908 191.52672001431503,-32.14210618461462 191.41761818564902,-32.00996880451284 191.3106265767779,-31.87611705118254 191.205772122267,-31.7405846210868 191.10308121866458,-31.60340563379011 191.00257971785638,-31.464614623368938 190.9042929205578,-31.32424652971792 190.80824556994446,-31.182336689753992 190.71446184542322,-31.038920828520453 190.62296535654525,-30.894035050193427 190.53377913706225,-30.747715828992785 190.44692563912804,-30.599999999999994 190.36242672764632,-30.450924749885058 190.28030367476612,-30.30052760754497 190.20057715452683,-30.148846434656033 190.12326723765355,-29.995919416142357 190.04839338650447,-29.841785050563054 189.97597445017118,-29.68648214042037 189.90602865973364,-29.53004978239143 189.8385736236705,-29.372527357485787 189.7736263234264,-29.213954521131537 189.71120310913685,-29.054371193192214 189.65131969551217,-28.893817547917223 189.59399115788156,-28.732334003828154 189.53923192839778,-28.56996121354366 189.487055792404,-28.40674005354537 189.43747588496345,-28.24271161388744 189.3905046875526,-28.07791718785238 189.34615402491934,-27.912398261555655 189.30443506210574,-27.746196503501814 189.2653583016376,-27.579353754094637 189.22893358088038,-27.411912015104058 189.19517006956278,-27.24391343909243 189.16407626746815,-27.075400318802846 189.13566000229494,-26.906415076512175 189.10992842768593,-26.73700025335148 189.08688802142743,-26.567198498596493 189.06654458381843,-26.397052558930916 189.0489032362107,-26.22660526768517 189.03396841971903,-26.055899534053317 189.02174389410365,-25.884978332290896 189.01223273682348,-25.713884690896414 189.0054373422616,-25.54266168177913 189.00135942112215,-25.371352409415923 189.0,-25.2 189.0,25.200000000000003 189.00135942112215,25.371352409415923 189.0054373422616,25.54266168177913 189.01223273682348,25.713884690896414 189.02174389410365,25.8849783322909 189.03396841971903,26.055899534053317 189.0489032362107,26.226605267685173 189.06654458381843,26.397052558930923 189.08688802142743,26.567198498596493 189.10992842768593,26.73700025335148 189.13566000229494,26.906415076512175 189.16407626746815,27.075400318802846 189.19517006956278,27.243913439092434 189.22893358088038,27.41191201510406 189.2653583016376,27.57935375409464 189.30443506210574,27.746196503501814 189.34615402491934,27.91239826155566 189.3905046875526,28.07791718785238 189.43747588496342,28.24271161388744 189.487055792404,28.40674005354537 189.53923192839778,28.569961213543664 189.59399115788156,28.732334003828154 189.65131969551217,28.893817547917223 189.71120310913685,29.054371193192218 189.7736263234264,29.213954521131537 189.8385736236705,29.372527357485787 189.90602865973364,29.53004978239143 189.97597445017118,29.686482140420374 190.04839338650447,29.841785050563054 190.12326723765355,29.99591941614236 190.20057715452683,30.148846434656033 190.28030367476612,30.300527607544975 190.36242672764632,30.45092474988506 190.44692563912804,30.6 190.53377913706225,30.74771582899279 190.62296535654525,30.89403505019343 190.71446184542322,31.038920828520457 190.80824556994446,31.182336689753992 190.9042929205578,31.324246529717925 191.00257971785638,31.464614623368938 191.10308121866458,31.603405633790118 191.205772122267,31.7405846210868 191.3106265767779,31.87611705118254 191.41761818564902,32.009968804512845 191.52672001431503,32.142106184614626 191.63790459697398,32.27249592660908 191.75114394350183,32.40110520557595 191.86640954649863,32.52790164481703 191.98367238846524,32.652853324006806 192.10290294910828,32.775928787228274 192.22407121277172,32.89709705089172 192.34714667599317,33.01632761153476 192.47209835518296,33.133590453501355 192.59889479442404,33.24885605649815 192.7275040733909,33.36209540302599 192.85789381538538,33.47327998568497 192.99003119548715,33.58238181435098 193.12388294881745,33.68937342322211 193.2594153789132,33.794227877732986 193.39659436620988,33.89691878133544 193.53538537663104,33.99742028214363 193.67575347028205,34.09570707944219 193.81766331024602,34.19175443005553 193.96107917147955,34.28553815457676 194.10596494980658,34.377034643454756 194.2522841710072,34.46622086293775 194.4,34.55307436087194 194.54907525011492,34.63757327235368 194.69947239245502,34.71969632523388 194.85115356534396,34.799422845473174 195.00408058385764,34.87673276234643 195.15821494943694,34.95160661349551 195.31351785957963,35.0240255498288 195.46995021760856,35.09397134026635 195.6274726425142,35.16142637632948 195.78604547886846,35.22637367657359 195.9456288068078,35.28879689086315 196.10618245208278,35.348680304487814 196.26766599617181,35.406008842118425 196.43003878645632,35.46076807160221 196.59325994645462,35.512944207596 196.75728838611255,35.562524115036574 196.9220828121476,35.60949531244737 197.08760173844433,35.65384597508065 197.2538034964982,35.695564937894254 197.42064624590535,35.734641698362395 197.58808798489594,35.77106641911961 197.75608656090756,35.804829930437236 197.92459968119715,35.835923732531846 198.0935849234878,35.86433999770506 198.26299974664852,35.89007157231407 198.4328015014035,35.913111978572594 198.60294744106906,35.933455416181545 198.77339473231484,35.951096763789316 198.9441004659467,35.966031580280976 199.1150216677091,35.97825610589636 199.28611530910356,35.98776726317649 199.45733831822088,35.9945626577384 199.62864759058408,35.998640578877854 199.79999999999998,36.0 340.2,36.00000000000001 \" style=\"stroke:black;fill:none;stroke-width:2.0;stroke-dasharray:-;stroke-linecap:round;stroke-linejoin:round;\" /><path d=\"M 0.0,-0.0 L 36.0,-0.0 L 39.0,-9.0 L 45.0,9.0 L 50.99999999999999,-9.0 L 57.0,9.0 L 63.0,-9.0 L 69.0,9.0 L 72.0,-0.0 L 108.0,-0.0\" style=\"stroke:black;fill:none;stroke-width:2.0;stroke-dasharray:-;stroke-linecap:round;stroke-linejoin:round;\" /><path d=\"M 108.0,-0.0 L 158.76,-0.0 M 158.76,-9.0 L 158.76,9.0 M 165.24,-9.0 L 165.24,9.0 M 165.24,-0.0 L 216.0,-0.0\" style=\"stroke:black;fill:none;stroke-width:2.0;stroke-dasharray:-;stroke-linecap:round;stroke-linejoin:round;\" /><path d=\"M 216.0,-0.0 L 263.7,-0.0 M 276.3,-9.0 L 276.3,9.0 M 276.3,-0.0 L 324.0,-0.0\" style=\"stroke:black;fill:none;stroke-width:2.0;stroke-dasharray:-;stroke-linecap:round;stroke-linejoin:round;\" /></svg>'"
      ]
     },
     "execution_count": 12,
     "metadata": {},
     "output_type": "execute_result"
    }
   ],
   "source": [
    "# SVG backend\n",
    "d.draw(canvas='svg')\n",
    "d.get_imagedata('svg')"
   ]
  },
  {
   "cell_type": "code",
   "execution_count": 13,
   "id": "4cdf72b5",
   "metadata": {},
   "outputs": [],
   "source": [
    "schemdraw.svgconfig.text = 'path'  # use ziamath"
   ]
  },
  {
   "cell_type": "code",
   "execution_count": 14,
   "id": "96c01c22",
   "metadata": {},
   "outputs": [
    {
     "data": {
      "image/png": "[encoded data removed]",
      "image/svg+xml": [
       "<?xml version=\"1.0\" encoding=\"utf-8\" standalone=\"no\"?>\n",
       "<!DOCTYPE svg PUBLIC \"-//W3C//DTD SVG 1.1//EN\"\n",
       "  \"http://www.w3.org/Graphics/SVG/1.1/DTD/svg11.dtd\">\n",
       "<svg xmlns:xlink=\"http://www.w3.org/1999/xlink\" width=\"117.36pt\" height=\"45.63625pt\" viewBox=\"0 0 117.36 45.63625\" xmlns=\"http://www.w3.org/2000/svg\" version=\"1.1\">\n",
       " <metadata>\n",
       "  <rdf:RDF xmlns:dc=\"http://purl.org/dc/elements/1.1/\" xmlns:cc=\"http://creativecommons.org/ns#\" xmlns:rdf=\"http://www.w3.org/1999/02/22-rdf-syntax-ns#\">\n",
       "   <cc:Work>\n",
       "    <dc:type rdf:resource=\"http://purl.org/dc/dcmitype/StillImage\"/>\n",
       "    <dc:date>2025-07-27T10:57:13.072686</dc:date>\n",
       "    <dc:format>image/svg+xml</dc:format>\n",
       "    <dc:creator>\n",
       "     <cc:Agent>\n",
       "      <dc:title>Matplotlib v3.8.4, https://matplotlib.org/</dc:title>\n",
       "     </cc:Agent>\n",
       "    </dc:creator>\n",
       "   </cc:Work>\n",
       "  </rdf:RDF>\n",
       " </metadata>\n",
       " <defs>\n",
       "  <style type=\"text/css\">*{stroke-linejoin: round; stroke-linecap: butt}</style>\n",
       " </defs>\n",
       " <g id=\"figure_1\">\n",
       "  <g id=\"patch_1\">\n",
       "   <path d=\"M 0 45.63625 \n",
       "L 117.36 45.63625 \n",
       "L 117.36 0 \n",
       "L 0 0 \n",
       "z\n",
       "\" style=\"fill: #ffffff\"/>\n",
       "  </g>\n",
       "  <g id=\"axes_1\">\n",
       "   <g id=\"line2d_1\">\n",
       "    <path d=\"M 4.68 31.95625 \n",
       "L 40.68 31.95625 \n",
       "L 43.68 22.95625 \n",
       "L 49.68 40.95625 \n",
       "L 55.68 22.95625 \n",
       "L 61.68 40.95625 \n",
       "L 67.68 22.95625 \n",
       "L 73.68 40.95625 \n",
       "L 76.68 31.95625 \n",
       "L 112.68 31.95625 \n",
       "\" clip-path=\"url(#p24d17cbeae)\" style=\"fill: none; stroke: #000000; stroke-width: 2; stroke-linecap: round\"/>\n",
       "   </g>\n",
       "   <g id=\"text_1\">\n",
       "    <!-- Hello -->\n",
       "    <g transform=\"translate(31.62375 15.196875) scale(0.2 -0.2)\">\n",
       "     <defs>\n",
       "      <path id=\"DejaVuSerif-48\" d=\"M 353 0 \n",
       "L 353 331 \n",
       "L 947 331 \n",
       "L 947 4331 \n",
       "L 353 4331 \n",
       "L 353 4666 \n",
       "L 2175 4666 \n",
       "L 2175 4331 \n",
       "L 1581 4331 \n",
       "L 1581 2719 \n",
       "L 4000 2719 \n",
       "L 4000 4331 \n",
       "L 3406 4331 \n",
       "L 3406 4666 \n",
       "L 5228 4666 \n",
       "L 5228 4331 \n",
       "L 4634 4331 \n",
       "L 4634 331 \n",
       "L 5228 331 \n",
       "L 5228 0 \n",
       "L 3406 0 \n",
       "L 3406 331 \n",
       "L 4000 331 \n",
       "L 4000 2338 \n",
       "L 1581 2338 \n",
       "L 1581 331 \n",
       "L 2175 331 \n",
       "L 2175 0 \n",
       "L 353 0 \n",
       "z\n",
       "\" transform=\"scale(0.015625)\"/>\n",
       "      <path id=\"DejaVuSerif-65\" d=\"M 3469 1600 \n",
       "L 991 1600 \n",
       "L 991 1575 \n",
       "Q 991 903 1244 561 \n",
       "Q 1497 219 1991 219 \n",
       "Q 2369 219 2611 417 \n",
       "Q 2853 616 2950 1006 \n",
       "L 3413 1006 \n",
       "Q 3275 459 2904 184 \n",
       "Q 2534 -91 1931 -91 \n",
       "Q 1203 -91 761 389 \n",
       "Q 319 869 319 1663 \n",
       "Q 319 2450 753 2931 \n",
       "Q 1188 3413 1894 3413 \n",
       "Q 2647 3413 3050 2948 \n",
       "Q 3453 2484 3469 1600 \n",
       "z\n",
       "M 2791 1931 \n",
       "Q 2772 2513 2545 2808 \n",
       "Q 2319 3103 1894 3103 \n",
       "Q 1497 3103 1269 2806 \n",
       "Q 1041 2509 991 1931 \n",
       "L 2791 1931 \n",
       "z\n",
       "\" transform=\"scale(0.015625)\"/>\n",
       "      <path id=\"DejaVuSerif-6c\" d=\"M 1313 331 \n",
       "L 1856 331 \n",
       "L 1856 0 \n",
       "L 184 0 \n",
       "L 184 331 \n",
       "L 738 331 \n",
       "L 738 4531 \n",
       "L 184 4531 \n",
       "L 184 4863 \n",
       "L 1313 4863 \n",
       "L 1313 331 \n",
       "z\n",
       "\" transform=\"scale(0.015625)\"/>\n",
       "      <path id=\"DejaVuSerif-6f\" d=\"M 1925 219 \n",
       "Q 2388 219 2623 584 \n",
       "Q 2859 950 2859 1663 \n",
       "Q 2859 2375 2623 2739 \n",
       "Q 2388 3103 1925 3103 \n",
       "Q 1463 3103 1227 2739 \n",
       "Q 991 2375 991 1663 \n",
       "Q 991 950 1228 584 \n",
       "Q 1466 219 1925 219 \n",
       "z\n",
       "M 1925 -91 \n",
       "Q 1200 -91 759 389 \n",
       "Q 319 869 319 1663 \n",
       "Q 319 2456 758 2934 \n",
       "Q 1197 3413 1925 3413 \n",
       "Q 2653 3413 3092 2934 \n",
       "Q 3531 2456 3531 1663 \n",
       "Q 3531 869 3092 389 \n",
       "Q 2653 -91 1925 -91 \n",
       "z\n",
       "\" transform=\"scale(0.015625)\"/>\n",
       "     </defs>\n",
       "     <use xlink:href=\"#DejaVuSerif-48\"/>\n",
       "     <use xlink:href=\"#DejaVuSerif-65\" x=\"87.207031\"/>\n",
       "     <use xlink:href=\"#DejaVuSerif-6c\" x=\"146.386719\"/>\n",
       "     <use xlink:href=\"#DejaVuSerif-6c\" x=\"178.369141\"/>\n",
       "     <use xlink:href=\"#DejaVuSerif-6f\" x=\"210.351562\"/>\n",
       "    </g>\n",
       "   </g>\n",
       "  </g>\n",
       " </g>\n",
       " <defs>\n",
       "  <clipPath id=\"p24d17cbeae\">\n",
       "   <rect x=\"0\" y=\"0.35625\" width=\"117.36\" height=\"45.28\"/>\n",
       "  </clipPath>\n",
       " </defs>\n",
       "</svg>\n"
      ],
      "text/plain": [
       "<schemdraw.backends.mpl.Figure object at 0x7dd7d40445d0>"
      ]
     },
     "execution_count": 14,
     "metadata": {},
     "output_type": "execute_result"
    }
   ],
   "source": [
    "d = schemdraw.Drawing(font='serif', fontsize=20)\n",
    "d += elm.Resistor().label('Hello')\n",
    "d.draw(canvas='matplotlib')"
   ]
  },
  {
   "cell_type": "code",
   "execution_count": 15,
   "id": "5764c299",
   "metadata": {},
   "outputs": [
    {
     "data": {
      "image/svg+xml": [
       "<svg xmlns=\"http://www.w3.org/2000/svg\" xmlns:xlink=\"http://www.w3.org/1999/xlink\" xml:lang=\"en\" height=\"45.120000000000005pt\" width=\"117.2pt\" viewBox=\"-4.6 -31.52 117.2 45.120000000000005\"><path d=\"M 0.0,-0.0 L 36.0,-0.0 L 39.0,-9.0 L 45.0,9.0 L 50.99999999999999,-9.0 L 57.0,9.0 L 63.0,-9.0 L 69.0,9.0 L 72.0,-0.0 L 108.0,-0.0\" style=\"stroke:black;fill:none;stroke-width:2.0;stroke-dasharray:-;stroke-linecap:round;stroke-linejoin:round;\" /><g><g><g><symbol id=\"STIXTwoMathRegular_10\" viewBox=\"0 -31.524 9.072 51.216\"><path d=\"M 2.868 -6.3 L 2.868 -6.3 L 2.868 -4.284 L 6.804 -4.284 L 6.804 -6.3 Q 6.804 -6.768 6.744 -7.038 Q 6.684 -7.308 6.438 -7.416 Q 6.192 -7.524 5.64 -7.524 L 5.64 -7.884 L 9.072 -7.884 L 9.072 -7.524 Q 8.508 -7.524 8.256 -7.416 Q 8.004 -7.308 7.95 -7.044 Q 7.896 -6.78 7.896 -6.3 L 7.896 -1.572 Q 7.896 -1.056 7.962 -0.792 Q 8.028 -0.528 8.28 -0.444 Q 8.532 -0.36 9.072 -0.36 L 9.072 0 L 5.64 0 L 5.64 -0.36 Q 6.18 -0.36 6.426 -0.444 Q 6.672 -0.528 6.738 -0.792 Q 6.804 -1.056 6.804 -1.572 L 6.804 -3.816 L 2.868 -3.816 L 2.868 -1.572 Q 2.868 -1.044 2.934 -0.786 Q 3 -0.528 3.252 -0.444 Q 3.504 -0.36 4.044 -0.36 L 4.044 0 L 0.6 0 L 0.6 -0.36 Q 1.14 -0.36 1.386 -0.438 Q 1.632 -0.516 1.698 -0.78 Q 1.764 -1.044 1.764 -1.572 L 1.764 -6.3 Q 1.764 -6.768 1.704 -7.038 Q 1.644 -7.308 1.398 -7.416 Q 1.152 -7.524 0.6 -7.524 L 0.6 -7.884 L 4.044 -7.884 L 4.044 -7.524 Q 3.48 -7.524 3.228 -7.416 Q 2.976 -7.308 2.922 -7.038 Q 2.868 -6.768 2.868 -6.3 Z \" /></symbol><use href=\"#STIXTwoMathRegular_10\" x=\"31.29\" y=\"-65.34\" width=\"15.12\" height=\"85.36\" fill=\"black\" /><symbol id=\"STIXTwoMathRegular_259\" viewBox=\"0 -31.524 5.208 51.216\"><path d=\"M 4.98 -1.716 L 4.98 -1.716 L 5.208 -1.548 Q 4.992 -1.092 4.704 -0.714 Q 4.416 -0.336 4.002 -0.108 Q 3.588 0.12 2.964 0.12 Q 2.244 0.12 1.662 -0.222 Q 1.08 -0.564 0.744 -1.23 Q 0.408 -1.896 0.408 -2.856 Q 0.408 -3.864 0.75 -4.518 Q 1.092 -5.172 1.668 -5.496 Q 2.244 -5.82 2.94 -5.82 Q 3.924 -5.82 4.524 -5.136 Q 5.124 -4.452 5.172 -3.192 L 1.38 -3.192 Q 1.38 -2.364 1.65 -1.83 Q 1.92 -1.296 2.346 -1.038 Q 2.772 -0.78 3.252 -0.78 Q 3.744 -0.78 4.05 -0.912 Q 4.356 -1.044 4.572 -1.254 Q 4.788 -1.464 4.98 -1.716 Z M 1.368 -3.636 L 1.368 -3.636 L 4.044 -3.636 Q 4.032 -4.08 3.888 -4.47 Q 3.744 -4.86 3.468 -5.1 Q 3.192 -5.34 2.76 -5.34 Q 1.512 -5.34 1.368 -3.636 Z \" /></symbol><use href=\"#STIXTwoMathRegular_259\" x=\"46.83\" y=\"-65.34\" width=\"8.68\" height=\"85.36\" fill=\"black\" /><symbol id=\"STIXTwoMathRegular_267\" viewBox=\"0 -31.524 3.12 51.216\"><path d=\"M 3.12 -0.348 L 3.12 -0.348 L 3.12 0 L 0.36 0 L 0.36 -0.348 Q 0.756 -0.348 0.936 -0.426 Q 1.116 -0.504 1.158 -0.69 Q 1.2 -0.876 1.2 -1.212 L 1.2 -7.236 Q 1.2 -7.608 1.062 -7.68 Q 0.924 -7.752 0.696 -7.752 Q 0.54 -7.752 0.426 -7.74 Q 0.312 -7.728 0.312 -7.728 L 0.312 -8.052 L 1.896 -8.472 L 2.196 -8.472 L 2.196 -1.212 Q 2.196 -0.864 2.25 -0.678 Q 2.304 -0.492 2.496 -0.42 Q 2.688 -0.348 3.12 -0.348 Z \" /></symbol><use href=\"#STIXTwoMathRegular_267\" x=\"56.11\" y=\"-65.34\" width=\"5.2\" height=\"85.36\" fill=\"black\" /><use href=\"#STIXTwoMathRegular_267\" x=\"61.77\" y=\"-65.34\" width=\"5.2\" height=\"85.36\" fill=\"black\" /><symbol id=\"STIXTwoMathRegular_270\" viewBox=\"0 -31.524 5.76 51.216\"><path d=\"M 3.096 -5.82 L 3.096 -5.82 Q 4.332 -5.82 5.046 -5.052 Q 5.76 -4.284 5.76 -2.952 Q 5.76 -1.944 5.418 -1.26 Q 5.076 -0.576 4.476 -0.228 Q 3.876 0.12 3.096 0.12 Q 1.836 0.12 1.122 -0.666 Q 0.408 -1.452 0.408 -2.904 Q 0.408 -3.78 0.744 -4.434 Q 1.08 -5.088 1.686 -5.454 Q 2.292 -5.82 3.096 -5.82 Z M 3.048 -5.364 L 3.048 -5.364 Q 2.364 -5.364 1.944 -4.788 Q 1.524 -4.212 1.524 -3.06 Q 1.524 -1.632 1.95 -0.99 Q 2.376 -0.348 3.144 -0.36 Q 3.636 -0.36 3.972 -0.588 Q 4.308 -0.816 4.482 -1.368 Q 4.656 -1.92 4.656 -2.892 Q 4.656 -3.996 4.254 -4.68 Q 3.852 -5.364 3.048 -5.364 Z \" /></symbol><use href=\"#STIXTwoMathRegular_270\" x=\"67.43\" y=\"-65.34\" width=\"9.6\" height=\"85.36\" fill=\"black\" /></g></g></g></svg>"
      ],
      "text/plain": [
       "<svg xmlns=\"http://www.w3.org/2000/svg\" xmlns:xlink=\"http://www.w3.org/1999/xlink\" xml:lang=\"en\" height=\"45.120000000000005pt\" width=\"117.2pt\" viewBox=\"-4.6 -31.52 117.2 45.120000000000005\"><path d=\"M 0.0,-0.0 L 36.0,-0.0 L 39.0,-9.0 L 45.0,9.0 L 50.99999999999999,-9.0 L 57.0,9.0 L 63.0,-9.0 L 69.0,9.0 L 72.0,-0.0 L 108.0,-0.0\" style=\"stroke:black;fill:none;stroke-width:2.0;stroke-dasharray:-;stroke-linecap:round;stroke-linejoin:round;\" /><g><g><g><symbol id=\"STIXTwoMathRegular_10\" viewBox=\"0 -31.524 9.072 51.216\"><path d=\"M 2.868 -6.3 L 2.868 -6.3 L 2.868 -4.284 L 6.804 -4.284 L 6.804 -6.3 Q 6.804 -6.768 6.744 -7.038 Q 6.684 -7.308 6.438 -7.416 Q 6.192 -7.524 5.64 -7.524 L 5.64 -7.884 L 9.072 -7.884 L 9.072 -7.524 Q 8.508 -7.524 8.256 -7.416 Q 8.004 -7.308 7.95 -7.044 Q 7.896 -6.78 7.896 -6.3 L 7.896 -1.572 Q 7.896 -1.056 7.962 -0.792 Q 8.028 -0.528 8.28 -0.444 Q 8.532 -0.36 9.072 -0.36 L 9.072 0 L 5.64 0 L 5.64 -0.36 Q 6.18 -0.36 6.426 -0.444 Q 6.672 -0.528 6.738 -0.792 Q 6.804 -1.056 6.804 -1.572 L 6.804 -3.816 L 2.868 -3.816 L 2.868 -1.572 Q 2.868 -1.044 2.934 -0.786 Q 3 -0.528 3.252 -0.444 Q 3.504 -0.36 4.044 -0.36 L 4.044 0 L 0.6 0 L 0.6 -0.36 Q 1.14 -0.36 1.386 -0.438 Q 1.632 -0.516 1.698 -0.78 Q 1.764 -1.044 1.764 -1.572 L 1.764 -6.3 Q 1.764 -6.768 1.704 -7.038 Q 1.644 -7.308 1.398 -7.416 Q 1.152 -7.524 0.6 -7.524 L 0.6 -7.884 L 4.044 -7.884 L 4.044 -7.524 Q 3.48 -7.524 3.228 -7.416 Q 2.976 -7.308 2.922 -7.038 Q 2.868 -6.768 2.868 -6.3 Z \" /></symbol><use href=\"#STIXTwoMathRegular_10\" x=\"31.29\" y=\"-65.34\" width=\"15.12\" height=\"85.36\" fill=\"black\" /><symbol id=\"STIXTwoMathRegular_259\" viewBox=\"0 -31.524 5.208 51.216\"><path d=\"M 4.98 -1.716 L 4.98 -1.716 L 5.208 -1.548 Q 4.992 -1.092 4.704 -0.714 Q 4.416 -0.336 4.002 -0.108 Q 3.588 0.12 2.964 0.12 Q 2.244 0.12 1.662 -0.222 Q 1.08 -0.564 0.744 -1.23 Q 0.408 -1.896 0.408 -2.856 Q 0.408 -3.864 0.75 -4.518 Q 1.092 -5.172 1.668 -5.496 Q 2.244 -5.82 2.94 -5.82 Q 3.924 -5.82 4.524 -5.136 Q 5.124 -4.452 5.172 -3.192 L 1.38 -3.192 Q 1.38 -2.364 1.65 -1.83 Q 1.92 -1.296 2.346 -1.038 Q 2.772 -0.78 3.252 -0.78 Q 3.744 -0.78 4.05 -0.912 Q 4.356 -1.044 4.572 -1.254 Q 4.788 -1.464 4.98 -1.716 Z M 1.368 -3.636 L 1.368 -3.636 L 4.044 -3.636 Q 4.032 -4.08 3.888 -4.47 Q 3.744 -4.86 3.468 -5.1 Q 3.192 -5.34 2.76 -5.34 Q 1.512 -5.34 1.368 -3.636 Z \" /></symbol><use href=\"#STIXTwoMathRegular_259\" x=\"46.83\" y=\"-65.34\" width=\"8.68\" height=\"85.36\" fill=\"black\" /><symbol id=\"STIXTwoMathRegular_267\" viewBox=\"0 -31.524 3.12 51.216\"><path d=\"M 3.12 -0.348 L 3.12 -0.348 L 3.12 0 L 0.36 0 L 0.36 -0.348 Q 0.756 -0.348 0.936 -0.426 Q 1.116 -0.504 1.158 -0.69 Q 1.2 -0.876 1.2 -1.212 L 1.2 -7.236 Q 1.2 -7.608 1.062 -7.68 Q 0.924 -7.752 0.696 -7.752 Q 0.54 -7.752 0.426 -7.74 Q 0.312 -7.728 0.312 -7.728 L 0.312 -8.052 L 1.896 -8.472 L 2.196 -8.472 L 2.196 -1.212 Q 2.196 -0.864 2.25 -0.678 Q 2.304 -0.492 2.496 -0.42 Q 2.688 -0.348 3.12 -0.348 Z \" /></symbol><use href=\"#STIXTwoMathRegular_267\" x=\"56.11\" y=\"-65.34\" width=\"5.2\" height=\"85.36\" fill=\"black\" /><use href=\"#STIXTwoMathRegular_267\" x=\"61.77\" y=\"-65.34\" width=\"5.2\" height=\"85.36\" fill=\"black\" /><symbol id=\"STIXTwoMathRegular_270\" viewBox=\"0 -31.524 5.76 51.216\"><path d=\"M 3.096 -5.82 L 3.096 -5.82 Q 4.332 -5.82 5.046 -5.052 Q 5.76 -4.284 5.76 -2.952 Q 5.76 -1.944 5.418 -1.26 Q 5.076 -0.576 4.476 -0.228 Q 3.876 0.12 3.096 0.12 Q 1.836 0.12 1.122 -0.666 Q 0.408 -1.452 0.408 -2.904 Q 0.408 -3.78 0.744 -4.434 Q 1.08 -5.088 1.686 -5.454 Q 2.292 -5.82 3.096 -5.82 Z M 3.048 -5.364 L 3.048 -5.364 Q 2.364 -5.364 1.944 -4.788 Q 1.524 -4.212 1.524 -3.06 Q 1.524 -1.632 1.95 -0.99 Q 2.376 -0.348 3.144 -0.36 Q 3.636 -0.36 3.972 -0.588 Q 4.308 -0.816 4.482 -1.368 Q 4.656 -1.92 4.656 -2.892 Q 4.656 -3.996 4.254 -4.68 Q 3.852 -5.364 3.048 -5.364 Z \" /></symbol><use href=\"#STIXTwoMathRegular_270\" x=\"67.43\" y=\"-65.34\" width=\"9.6\" height=\"85.36\" fill=\"black\" /></g></g></g></svg>"
      ]
     },
     "execution_count": 15,
     "metadata": {},
     "output_type": "execute_result"
    }
   ],
   "source": [
    "d = schemdraw.Drawing(font='serif', fontsize=20)\n",
    "d += elm.Resistor().label('Hello')\n",
    "d.draw(canvas='svg')"
   ]
  },
  {
   "cell_type": "code",
   "execution_count": 16,
   "id": "4fddb4ef",
   "metadata": {},
   "outputs": [],
   "source": [
    "d.save('savetest.svg')"
   ]
  },
  {
   "cell_type": "code",
   "execution_count": 17,
   "id": "2869515f",
   "metadata": {},
   "outputs": [
    {
     "data": {
      "image/svg+xml": [
       "<svg xmlns=\"http://www.w3.org/2000/svg\" xmlns:xlink=\"http://www.w3.org/1999/xlink\" xml:lang=\"en\" height=\"45.279999999999994pt\" width=\"441.20000000000005pt\" viewBox=\"-4.6 -31.679999999999996 441.20000000000005 45.279999999999994\"><path d=\"M 0.0,-0.0 L 36.0,-0.0 L 39.0,-9.0 L 45.0,9.0 L 50.99999999999999,-9.0 L 57.0,9.0 L 63.0,-9.0 L 69.0,9.0 L 72.0,-0.0 L 108.0,-0.0\" style=\"stroke:black;fill:none;stroke-width:2.0;stroke-dasharray:-;stroke-linecap:round;stroke-linejoin:round;\" /><path d=\"M 108.0,-0.0 L 144.0,-0.0 L 147.0,-9.0 L 153.0,9.0 L 158.99999999999997,-9.0 L 165.0,9.0 L 171.0,-9.0 L 176.99999999999997,9.0 L 180.0,-0.0 L 216.0,-0.0\" style=\"stroke:black;fill:none;stroke-width:2.0;stroke-dasharray:-;stroke-linecap:round;stroke-linejoin:round;\" /><path d=\"M 216.0,-0.0 L 252.0,-0.0 L 255.0,-9.0 L 261.0,9.0 L 267.0,-9.0 L 273.0,9.0 L 279.0,-9.0 L 285.0,9.0 L 288.0,-0.0 L 324.0,-0.0\" style=\"stroke:black;fill:none;stroke-width:2.0;stroke-dasharray:-;stroke-linecap:round;stroke-linejoin:round;\" /><path d=\"M 324.0,-0.0 L 360.0,-0.0 L 363.0,-9.0 L 369.0,9.0 L 375.0,-9.0 L 381.0,9.0 L 387.0,-9.0 L 393.0,9.0 L 396.0,-0.0 L 432.0,-0.0\" style=\"stroke:black;fill:none;stroke-width:2.0;stroke-dasharray:-;stroke-linecap:round;stroke-linejoin:round;\" /><g><g><g><symbol id=\"STIXTwoMathRegular_3705\" viewBox=\"0 -31.524 4.488 51.216\"><path d=\"M 2.472 0.144 L 2.472 0.144 Q 1.824 0.144 1.272 -0.084 Q 0.72 -0.312 0.324 -0.648 L 0.792 -1.284 Q 1.176 -0.984 1.566 -0.798 Q 1.956 -0.612 2.436 -0.612 Q 3.012 -0.612 3.294 -0.87 Q 3.576 -1.128 3.576 -1.476 Q 3.576 -1.776 3.396 -1.974 Q 3.216 -2.172 2.922 -2.31 Q 2.628 -2.448 2.28 -2.568 Q 1.884 -2.724 1.494 -2.922 Q 1.104 -3.12 0.852 -3.432 Q 0.6 -3.744 0.6 -4.224 Q 0.6 -4.896 1.122 -5.358 Q 1.644 -5.82 2.52 -5.82 Q 3.12 -5.82 3.558 -5.628 Q 3.996 -5.436 4.308 -5.196 L 3.852 -4.572 Q 3.552 -4.788 3.24 -4.932 Q 2.928 -5.076 2.544 -5.076 Q 2.028 -5.076 1.776 -4.83 Q 1.524 -4.584 1.524 -4.272 Q 1.524 -3.996 1.698 -3.822 Q 1.872 -3.648 2.16 -3.528 Q 2.448 -3.408 2.772 -3.276 Q 3.156 -3.132 3.552 -2.946 Q 3.948 -2.76 4.218 -2.436 Q 4.488 -2.112 4.488 -1.572 Q 4.488 -0.864 3.96 -0.36 Q 3.432 0.144 2.472 0.144 Z \" /></symbol><use href=\"#STIXTwoMathRegular_3705\" x=\"35.98\" y=\"-65.38\" width=\"7.48\" height=\"85.36\" fill=\"black\" /><symbol id=\"STIXTwoMathRegular_3685\" viewBox=\"0 -31.524 5.028 51.216\"><path d=\"M 2.244 0.144 L 2.244 0.144 Q 1.548 0.144 1.074 -0.282 Q 0.6 -0.708 0.6 -1.476 Q 0.6 -2.412 1.428 -2.91 Q 2.256 -3.408 4.068 -3.6 Q 4.068 -3.972 3.972 -4.296 Q 3.876 -4.62 3.618 -4.824 Q 3.36 -5.028 2.892 -5.028 Q 2.424 -5.028 1.992 -4.836 Q 1.56 -4.644 1.224 -4.428 L 0.84 -5.088 Q 1.236 -5.352 1.812 -5.586 Q 2.388 -5.82 3.06 -5.82 Q 4.092 -5.82 4.56 -5.19 Q 5.028 -4.56 5.028 -3.492 L 5.028 0 L 4.236 0 L 4.152 -0.684 L 4.128 -0.684 Q 3.72 -0.348 3.252 -0.102 Q 2.784 0.144 2.244 0.144 Z M 2.532 -0.636 L 2.532 -0.636 Q 2.94 -0.636 3.3 -0.834 Q 3.66 -1.032 4.068 -1.38 L 4.068 -2.964 Q 2.676 -2.796 2.106 -2.448 Q 1.536 -2.1 1.536 -1.536 Q 1.536 -1.068 1.83 -0.852 Q 2.124 -0.636 2.532 -0.636 Z \" /></symbol><use href=\"#STIXTwoMathRegular_3685\" x=\"44.1\" y=\"-65.38\" width=\"8.38\" height=\"85.36\" fill=\"black\" /><symbol id=\"STIXTwoMathRegular_3700\" viewBox=\"0 -31.524 5.484 51.216\"><path d=\"M 0.948 0 L 0.948 0 L 0.948 -5.688 L 1.74 -5.688 L 1.824 -4.872 L 1.86 -4.872 Q 2.268 -5.268 2.712 -5.544 Q 3.156 -5.82 3.78 -5.82 Q 4.632 -5.82 5.058 -5.256 Q 5.484 -4.692 5.484 -3.6 L 5.484 0 L 4.512 0 L 4.512 -3.48 Q 4.512 -4.272 4.266 -4.626 Q 4.02 -4.98 3.468 -4.98 Q 3.024 -4.98 2.676 -4.764 Q 2.328 -4.548 1.908 -4.116 L 1.908 0 Z \" /></symbol><use href=\"#STIXTwoMathRegular_3700\" x=\"53.86\" y=\"-65.38\" width=\"9.14\" height=\"85.36\" fill=\"black\" /><use href=\"#STIXTwoMathRegular_3705\" x=\"64.44\" y=\"-65.38\" width=\"7.48\" height=\"85.36\" fill=\"black\" /></g></g></g><g><g><g><symbol id=\"STIXTwoMathRegular_274\" viewBox=\"0 -31.524 4.416 51.216\"><path d=\"M 0.468 -1.968 L 0.468 -1.968 L 0.78 -1.968 Q 0.972 -1.044 1.344 -0.678 Q 1.716 -0.312 2.376 -0.312 Q 2.832 -0.312 3.12 -0.498 Q 3.408 -0.684 3.408 -1.104 Q 3.408 -1.392 3.306 -1.584 Q 3.204 -1.776 2.916 -1.974 Q 2.628 -2.172 2.064 -2.448 Q 1.248 -2.868 0.864 -3.258 Q 0.48 -3.648 0.48 -4.308 Q 0.48 -5.052 1.014 -5.436 Q 1.548 -5.82 2.316 -5.82 Q 2.772 -5.82 3.06 -5.718 Q 3.348 -5.616 3.576 -5.508 L 3.588 -5.508 L 3.792 -5.76 L 4.032 -5.76 L 4.068 -3.924 L 3.744 -3.924 Q 3.552 -4.776 3.204 -5.094 Q 2.856 -5.412 2.304 -5.412 Q 1.896 -5.412 1.614 -5.22 Q 1.332 -5.028 1.332 -4.62 Q 1.332 -4.272 1.656 -3.996 Q 1.98 -3.72 2.736 -3.336 Q 3.552 -2.904 3.984 -2.502 Q 4.416 -2.1 4.416 -1.428 Q 4.416 -0.864 4.14 -0.522 Q 3.864 -0.18 3.402 -0.024 Q 2.94 0.132 2.4 0.132 Q 1.884 0.132 1.578 0.024 Q 1.272 -0.084 1.032 -0.18 L 1.008 -0.18 L 0.756 0.096 L 0.504 0.096 Z \" /></symbol><use href=\"#STIXTwoMathRegular_274\" x=\"144.08\" y=\"-65.36\" width=\"7.36\" height=\"85.36\" fill=\"black\" /><symbol id=\"STIXTwoMathRegular_259\" viewBox=\"0 -31.524 5.208 51.216\"><path d=\"M 4.98 -1.716 L 4.98 -1.716 L 5.208 -1.548 Q 4.992 -1.092 4.704 -0.714 Q 4.416 -0.336 4.002 -0.108 Q 3.588 0.12 2.964 0.12 Q 2.244 0.12 1.662 -0.222 Q 1.08 -0.564 0.744 -1.23 Q 0.408 -1.896 0.408 -2.856 Q 0.408 -3.864 0.75 -4.518 Q 1.092 -5.172 1.668 -5.496 Q 2.244 -5.82 2.94 -5.82 Q 3.924 -5.82 4.524 -5.136 Q 5.124 -4.452 5.172 -3.192 L 1.38 -3.192 Q 1.38 -2.364 1.65 -1.83 Q 1.92 -1.296 2.346 -1.038 Q 2.772 -0.78 3.252 -0.78 Q 3.744 -0.78 4.05 -0.912 Q 4.356 -1.044 4.572 -1.254 Q 4.788 -1.464 4.98 -1.716 Z M 1.368 -3.636 L 1.368 -3.636 L 4.044 -3.636 Q 4.032 -4.08 3.888 -4.47 Q 3.744 -4.86 3.468 -5.1 Q 3.192 -5.34 2.76 -5.34 Q 1.512 -5.34 1.368 -3.636 Z \" /></symbol><use href=\"#STIXTwoMathRegular_259\" x=\"151.98\" y=\"-65.36\" width=\"8.68\" height=\"85.36\" fill=\"black\" /><symbol id=\"STIXTwoMathRegular_273\" viewBox=\"0 -31.524 4.476 51.216\"><path d=\"M 2.196 -5.784 L 2.196 -5.784 L 2.196 -4.548 L 2.232 -4.548 Q 2.688 -5.22 3.018 -5.538 Q 3.348 -5.856 3.78 -5.856 Q 4.128 -5.856 4.302 -5.676 Q 4.476 -5.496 4.476 -5.184 Q 4.476 -4.848 4.314 -4.692 Q 4.152 -4.536 3.948 -4.536 Q 3.756 -4.536 3.606 -4.638 Q 3.456 -4.74 3.348 -4.842 Q 3.24 -4.944 3.168 -4.944 Q 2.964 -4.944 2.7 -4.632 Q 2.436 -4.32 2.22 -3.96 L 2.22 -1.224 Q 2.22 -0.852 2.316 -0.66 Q 2.412 -0.468 2.658 -0.408 Q 2.904 -0.348 3.348 -0.348 L 3.348 0 L 0.348 0 L 0.348 -0.348 Q 0.744 -0.348 0.93 -0.414 Q 1.116 -0.48 1.17 -0.654 Q 1.224 -0.828 1.224 -1.164 L 1.224 -4.464 Q 1.224 -4.788 1.17 -4.95 Q 1.116 -5.112 0.792 -5.112 Q 0.612 -5.112 0.516 -5.1 Q 0.42 -5.088 0.42 -5.088 L 0.42 -5.424 L 1.908 -5.784 Z \" /></symbol><use href=\"#STIXTwoMathRegular_273\" x=\"161.26\" y=\"-65.36\" width=\"7.46\" height=\"85.36\" fill=\"black\" /><symbol id=\"STIXTwoMathRegular_263\" viewBox=\"0 -31.524 3.084 51.216\"><path d=\"M 3.084 -0.336 L 3.084 -0.336 L 3.084 0 L 0.384 0 L 0.384 -0.336 Q 0.792 -0.336 0.966 -0.414 Q 1.14 -0.492 1.182 -0.684 Q 1.224 -0.876 1.224 -1.212 L 1.224 -4.56 Q 1.224 -4.944 1.092 -5.034 Q 0.96 -5.124 0.696 -5.124 Q 0.576 -5.124 0.486 -5.112 Q 0.396 -5.1 0.396 -5.1 L 0.396 -5.448 L 1.908 -5.784 L 2.22 -5.784 L 2.22 -1.212 Q 2.22 -0.864 2.268 -0.672 Q 2.316 -0.48 2.502 -0.408 Q 2.688 -0.336 3.084 -0.336 Z M 1.74 -8.076 L 1.74 -8.076 Q 2.052 -8.076 2.238 -7.878 Q 2.424 -7.68 2.424 -7.404 Q 2.424 -7.128 2.238 -6.924 Q 2.052 -6.72 1.74 -6.72 Q 1.44 -6.72 1.248 -6.924 Q 1.056 -7.128 1.056 -7.404 Q 1.056 -7.68 1.242 -7.878 Q 1.428 -8.076 1.74 -8.076 Z \" /></symbol><use href=\"#STIXTwoMathRegular_263\" x=\"168.86\" y=\"-65.36\" width=\"5.14\" height=\"85.36\" fill=\"black\" /><symbol id=\"STIXTwoMathRegular_260\" viewBox=\"0 -31.524 4.548 51.216\"><path d=\"M 0.312 -5.616 L 0.312 -5.616 L 1.224 -5.616 Q 1.224 -6.348 1.302 -6.81 Q 1.38 -7.272 1.608 -7.68 Q 1.848 -8.1 2.214 -8.328 Q 2.58 -8.556 3.204 -8.556 Q 3.792 -8.556 4.17 -8.34 Q 4.548 -8.124 4.548 -7.716 Q 4.548 -7.452 4.404 -7.326 Q 4.26 -7.2 4.056 -7.2 Q 3.828 -7.2 3.684 -7.338 Q 3.54 -7.476 3.426 -7.656 Q 3.312 -7.836 3.168 -7.974 Q 3.024 -8.112 2.796 -8.112 Q 2.46 -8.112 2.34 -7.806 Q 2.22 -7.5 2.22 -6.744 L 2.22 -5.616 L 3.684 -5.616 L 3.684 -5.112 L 2.22 -5.112 L 2.22 -1.428 Q 2.22 -0.96 2.316 -0.732 Q 2.412 -0.504 2.676 -0.426 Q 2.94 -0.348 3.444 -0.348 L 3.444 0 L 0.216 0 L 0.216 -0.348 Q 0.66 -0.348 0.87 -0.426 Q 1.08 -0.504 1.152 -0.732 Q 1.224 -0.96 1.224 -1.428 L 1.224 -5.112 L 0.312 -5.112 Z \" /></symbol><use href=\"#STIXTwoMathRegular_260\" x=\"174.56\" y=\"-65.36\" width=\"7.58\" height=\"85.36\" fill=\"black\" /></g></g></g><g><g><g><symbol id=\"STIXTwoMathRegular_3273\" viewBox=\"0 -31.524 6.456 51.216\"><path d=\"M 3.144 0.132 L 3.144 0.132 Q 2.256 0.132 1.692 -0.054 Q 1.128 -0.24 0.864 -0.36 L 0.864 -6.924 Q 0.864 -7.332 0.774 -7.446 Q 0.684 -7.56 0.348 -7.56 Q 0.192 -7.56 0.096 -7.548 Q 0 -7.536 0 -7.536 L 0 -8.052 L 1.932 -8.472 L 2.544 -8.472 L 2.544 -4.824 L 2.592 -4.824 Q 2.904 -5.184 3.36 -5.502 Q 3.816 -5.82 4.452 -5.82 Q 5.412 -5.82 5.934 -5.148 Q 6.456 -4.476 6.456 -3.168 Q 6.456 -2.016 6.036 -1.29 Q 5.616 -0.564 4.872 -0.216 Q 4.128 0.132 3.144 0.132 Z M 3.456 -0.492 L 3.456 -0.492 Q 3.876 -0.492 4.122 -0.798 Q 4.368 -1.104 4.482 -1.638 Q 4.596 -2.172 4.596 -2.844 Q 4.596 -3.756 4.368 -4.23 Q 4.14 -4.704 3.66 -4.704 Q 3.276 -4.704 2.988 -4.494 Q 2.7 -4.284 2.544 -4.116 L 2.544 -1.032 Q 2.664 -0.828 2.892 -0.66 Q 3.12 -0.492 3.456 -0.492 Z \" /></symbol><use href=\"#STIXTwoMathRegular_3273\" x=\"249.91\" y=\"-65.36\" width=\"10.76\" height=\"85.36\" fill=\"black\" /><symbol id=\"STIXTwoMathRegular_3288\" viewBox=\"0 -31.524 6.144 51.216\"><path d=\"M 3.24 0.12 L 3.24 0.12 Q 1.824 0.12 1.08 -0.6 Q 0.336 -1.32 0.336 -2.88 Q 0.336 -3.72 0.648 -4.386 Q 0.96 -5.052 1.614 -5.436 Q 2.268 -5.82 3.276 -5.82 Q 4.716 -5.82 5.43 -5.064 Q 6.144 -4.308 6.144 -3.012 Q 6.144 -1.476 5.4 -0.678 Q 4.656 0.12 3.24 0.12 Z M 3.276 -0.468 L 3.276 -0.468 Q 3.876 -0.468 4.098 -1.074 Q 4.32 -1.68 4.32 -2.916 Q 4.32 -4.044 4.05 -4.644 Q 3.78 -5.244 3.18 -5.244 Q 2.604 -5.244 2.382 -4.638 Q 2.16 -4.032 2.16 -3 Q 2.16 -1.716 2.424 -1.092 Q 2.688 -0.468 3.276 -0.468 Z \" /></symbol><use href=\"#STIXTwoMathRegular_3288\" x=\"261.23\" y=\"-65.36\" width=\"10.24\" height=\"85.36\" fill=\"black\" /><symbol id=\"STIXTwoMathRegular_3285\" viewBox=\"0 -31.524 3.72 51.216\"><path d=\"M 3.72 0 L 3.72 0 L 0.216 0 L 0.216 -0.48 Q 0.612 -0.48 0.798 -0.558 Q 0.984 -0.636 1.038 -0.828 Q 1.092 -1.02 1.092 -1.344 L 1.092 -7.14 Q 1.092 -7.488 0.912 -7.566 Q 0.732 -7.644 0.504 -7.644 Q 0.36 -7.644 0.246 -7.632 Q 0.132 -7.62 0.132 -7.62 L 0.132 -8.1 L 2.016 -8.472 L 2.76 -8.472 L 2.76 -1.344 Q 2.76 -1.008 2.82 -0.816 Q 2.88 -0.624 3.084 -0.552 Q 3.288 -0.48 3.72 -0.48 Z \" /></symbol><use href=\"#STIXTwoMathRegular_3285\" x=\"272.03\" y=\"-65.36\" width=\"6.2\" height=\"85.36\" fill=\"black\" /><symbol id=\"STIXTwoMathRegular_3275\" viewBox=\"0 -31.524 6.852 51.216\"><path d=\"M 2.388 0.12 L 2.388 0.12 Q 1.704 0.12 1.248 -0.258 Q 0.792 -0.636 0.564 -1.266 Q 0.336 -1.896 0.336 -2.664 Q 0.336 -3.768 0.702 -4.464 Q 1.068 -5.16 1.686 -5.49 Q 2.304 -5.82 3.06 -5.82 Q 3.348 -5.82 3.654 -5.766 Q 3.96 -5.712 4.26 -5.556 L 4.26 -6.924 Q 4.26 -7.32 4.17 -7.434 Q 4.08 -7.548 3.732 -7.548 Q 3.648 -7.548 3.516 -7.542 Q 3.384 -7.536 3.384 -7.536 L 3.384 -8.052 L 5.304 -8.472 L 5.976 -8.472 L 5.976 -1.368 Q 5.976 -0.912 6.12 -0.774 Q 6.264 -0.636 6.6 -0.636 L 6.852 -0.636 L 6.852 -0.144 L 4.704 0.06 L 4.284 0.06 L 4.284 -0.708 L 4.236 -0.708 Q 3.9 -0.408 3.444 -0.144 Q 2.988 0.12 2.388 0.12 Z M 3.156 -0.876 L 3.156 -0.876 Q 3.504 -0.876 3.732 -0.99 Q 3.96 -1.104 4.26 -1.308 L 4.26 -4.212 Q 4.176 -4.536 3.924 -4.824 Q 3.672 -5.112 3.18 -5.112 Q 2.724 -5.112 2.46 -4.608 Q 2.196 -4.104 2.196 -3.024 Q 2.196 -1.896 2.436 -1.386 Q 2.676 -0.876 3.156 -0.876 Z \" /></symbol><use href=\"#STIXTwoMathRegular_3275\" x=\"278.57\" y=\"-65.36\" width=\"11.42\" height=\"85.36\" fill=\"black\" /></g></g></g><g><g><g><symbol id=\"STIXTwoMathRegular_3334\" viewBox=\"0 -31.524 3.06 51.216\"><path d=\"M 2.628 -5.712 L 2.628 -5.712 L 1.728 -1.44 Q 1.728 -1.44 1.698 -1.254 Q 1.668 -1.068 1.668 -0.936 Q 1.668 -0.708 1.884 -0.708 Q 2.196 -0.708 2.436 -0.942 Q 2.676 -1.176 2.82 -1.332 L 3.06 -1.152 Q 2.856 -0.864 2.616 -0.57 Q 2.376 -0.276 2.076 -0.084 Q 1.776 0.108 1.38 0.108 Q 0.624 0.108 0.624 -0.528 Q 0.624 -0.684 0.666 -0.93 Q 0.708 -1.176 0.828 -1.704 L 1.44 -4.56 Q 1.44 -4.56 1.458 -4.668 Q 1.476 -4.776 1.476 -4.932 Q 1.476 -5.052 1.404 -5.166 Q 1.332 -5.28 1.092 -5.28 Q 0.936 -5.28 0.81 -5.268 Q 0.684 -5.256 0.684 -5.256 L 0.684 -5.58 L 2.364 -5.712 Z M 2.916 -7.32 L 2.916 -7.32 Q 2.916 -7.02 2.724 -6.846 Q 2.532 -6.672 2.256 -6.672 Q 1.992 -6.672 1.812 -6.84 Q 1.632 -7.008 1.632 -7.32 Q 1.632 -7.632 1.812 -7.806 Q 1.992 -7.98 2.292 -7.98 Q 2.592 -7.98 2.754 -7.8 Q 2.916 -7.62 2.916 -7.32 Z \" /></symbol><use href=\"#STIXTwoMathRegular_3334\" x=\"357.19\" y=\"-65.38\" width=\"5.1\" height=\"85.36\" fill=\"black\" /><symbol id=\"STIXTwoMathRegular_3347\" viewBox=\"0 -31.524 3.804 51.216\"><path d=\"M 3.804 -5.604 L 3.804 -5.604 L 3.708 -5.136 L 2.496 -5.136 L 1.788 -1.56 Q 1.788 -1.56 1.746 -1.338 Q 1.704 -1.116 1.704 -0.96 Q 1.704 -0.864 1.746 -0.786 Q 1.788 -0.708 1.908 -0.708 Q 2.172 -0.708 2.394 -0.864 Q 2.616 -1.02 2.928 -1.428 L 3.168 -1.248 Q 3 -1.02 2.76 -0.696 Q 2.52 -0.372 2.184 -0.132 Q 1.848 0.108 1.368 0.108 Q 0.996 0.108 0.816 -0.072 Q 0.636 -0.252 0.636 -0.528 Q 0.636 -0.684 0.672 -0.906 Q 0.708 -1.128 0.72 -1.212 L 1.536 -5.136 L 0.852 -5.136 L 0.9 -5.388 Q 1.284 -5.592 1.542 -5.784 Q 1.8 -5.976 2.034 -6.288 Q 2.268 -6.6 2.568 -7.116 L 2.928 -7.116 L 2.592 -5.604 Z \" /></symbol><use href=\"#STIXTwoMathRegular_3347\" x=\"362.67\" y=\"-65.38\" width=\"6.34\" height=\"85.36\" fill=\"black\" /><symbol id=\"STIXTwoMathRegular_3326\" viewBox=\"0 -31.524 6.468 51.216\"><path d=\"M 6.024 -5.664 L 6.024 -5.664 L 5.16 -1.416 Q 5.16 -1.416 5.13 -1.26 Q 5.1 -1.104 5.1 -0.972 Q 5.1 -0.852 5.148 -0.786 Q 5.196 -0.72 5.34 -0.72 Q 5.532 -0.72 5.706 -0.834 Q 5.88 -0.948 6.018 -1.098 Q 6.156 -1.248 6.228 -1.344 L 6.468 -1.164 Q 6.096 -0.588 5.688 -0.234 Q 5.28 0.12 4.74 0.12 Q 4.068 0.12 4.068 -0.456 Q 4.068 -0.588 4.098 -0.726 Q 4.128 -0.864 4.152 -1.02 L 4.068 -1.02 Q 3.12 0.144 2.064 0.144 Q 1.416 0.144 1.002 -0.36 Q 0.588 -0.864 0.588 -1.908 Q 0.588 -2.724 0.846 -3.426 Q 1.104 -4.128 1.536 -4.65 Q 1.968 -5.172 2.52 -5.46 Q 3.072 -5.748 3.66 -5.748 Q 4.14 -5.748 4.428 -5.568 Q 4.716 -5.388 4.908 -5.112 L 4.956 -5.112 L 5.388 -5.664 Z M 4.668 -4.128 L 4.668 -4.128 Q 4.668 -4.608 4.398 -4.95 Q 4.128 -5.292 3.624 -5.292 Q 3.18 -5.292 2.814 -5.01 Q 2.448 -4.728 2.19 -4.26 Q 1.932 -3.792 1.794 -3.21 Q 1.656 -2.628 1.656 -2.028 Q 1.656 -1.2 1.914 -0.924 Q 2.172 -0.648 2.616 -0.648 Q 3.216 -0.648 3.624 -1.026 Q 4.032 -1.404 4.296 -2.172 Q 4.416 -2.532 4.5 -2.91 Q 4.584 -3.288 4.626 -3.618 Q 4.668 -3.948 4.668 -4.128 Z \" /></symbol><use href=\"#STIXTwoMathRegular_3326\" x=\"369.43\" y=\"-65.38\" width=\"10.78\" height=\"85.36\" fill=\"black\" /><symbol id=\"STIXTwoMathRegular_3339\" viewBox=\"0 -31.524 3.072 51.216\"><path d=\"M 3.072 -8.46 L 3.072 -8.46 L 1.752 -1.44 Q 1.752 -1.44 1.722 -1.254 Q 1.692 -1.068 1.692 -0.936 Q 1.692 -0.708 1.908 -0.708 Q 2.22 -0.708 2.448 -0.942 Q 2.676 -1.176 2.82 -1.332 L 3.06 -1.152 Q 2.856 -0.864 2.616 -0.57 Q 2.376 -0.276 2.076 -0.084 Q 1.776 0.108 1.38 0.108 Q 0.624 0.108 0.624 -0.528 Q 0.624 -0.732 0.672 -1.038 Q 0.72 -1.344 0.792 -1.728 L 1.896 -7.296 Q 1.896 -7.296 1.914 -7.416 Q 1.932 -7.536 1.932 -7.68 Q 1.932 -7.8 1.866 -7.92 Q 1.8 -8.04 1.56 -8.04 Q 1.404 -8.04 1.278 -8.028 Q 1.152 -8.016 1.152 -8.016 L 1.152 -8.328 L 2.808 -8.46 Z \" /></symbol><use href=\"#STIXTwoMathRegular_3339\" x=\"380.53\" y=\"-65.38\" width=\"5.12\" height=\"85.36\" fill=\"black\" /><use href=\"#STIXTwoMathRegular_3334\" x=\"386.09\" y=\"-65.38\" width=\"5.1\" height=\"85.36\" fill=\"black\" /><symbol id=\"STIXTwoMathRegular_3328\" viewBox=\"0 -31.524 4.848 51.216\"><path d=\"M 4.296 -1.476 L 4.296 -1.476 L 4.5 -1.296 Q 4.128 -0.72 3.546 -0.288 Q 2.964 0.144 2.148 0.144 Q 1.5 0.144 1.092 -0.144 Q 0.684 -0.432 0.498 -0.93 Q 0.312 -1.428 0.312 -2.028 Q 0.312 -2.772 0.564 -3.444 Q 0.816 -4.116 1.254 -4.632 Q 1.692 -5.148 2.262 -5.448 Q 2.832 -5.748 3.48 -5.748 Q 4.044 -5.748 4.446 -5.484 Q 4.848 -5.22 4.848 -4.632 Q 4.848 -4.272 4.68 -4.02 Q 4.512 -3.768 4.176 -3.768 Q 3.72 -3.768 3.72 -4.188 Q 3.72 -4.428 3.834 -4.656 Q 3.948 -4.884 3.948 -5.028 Q 3.948 -5.16 3.798 -5.256 Q 3.648 -5.352 3.36 -5.352 Q 2.868 -5.352 2.484 -5.064 Q 2.1 -4.776 1.836 -4.302 Q 1.572 -3.828 1.44 -3.282 Q 1.308 -2.736 1.308 -2.208 Q 1.308 -1.572 1.494 -1.242 Q 1.68 -0.912 1.98 -0.798 Q 2.28 -0.684 2.628 -0.684 Q 3.252 -0.684 3.636 -0.912 Q 4.02 -1.14 4.296 -1.476 Z \" /></symbol><use href=\"#STIXTwoMathRegular_3328\" x=\"391.57\" y=\"-65.38\" width=\"8.08\" height=\"85.36\" fill=\"black\" /></g></g></g></svg>"
      ],
      "text/plain": [
       "<svg xmlns=\"http://www.w3.org/2000/svg\" xmlns:xlink=\"http://www.w3.org/1999/xlink\" xml:lang=\"en\" height=\"45.279999999999994pt\" width=\"441.20000000000005pt\" viewBox=\"-4.6 -31.679999999999996 441.20000000000005 45.279999999999994\"><path d=\"M 0.0,-0.0 L 36.0,-0.0 L 39.0,-9.0 L 45.0,9.0 L 50.99999999999999,-9.0 L 57.0,9.0 L 63.0,-9.0 L 69.0,9.0 L 72.0,-0.0 L 108.0,-0.0\" style=\"stroke:black;fill:none;stroke-width:2.0;stroke-dasharray:-;stroke-linecap:round;stroke-linejoin:round;\" /><path d=\"M 108.0,-0.0 L 144.0,-0.0 L 147.0,-9.0 L 153.0,9.0 L 158.99999999999997,-9.0 L 165.0,9.0 L 171.0,-9.0 L 176.99999999999997,9.0 L 180.0,-0.0 L 216.0,-0.0\" style=\"stroke:black;fill:none;stroke-width:2.0;stroke-dasharray:-;stroke-linecap:round;stroke-linejoin:round;\" /><path d=\"M 216.0,-0.0 L 252.0,-0.0 L 255.0,-9.0 L 261.0,9.0 L 267.0,-9.0 L 273.0,9.0 L 279.0,-9.0 L 285.0,9.0 L 288.0,-0.0 L 324.0,-0.0\" style=\"stroke:black;fill:none;stroke-width:2.0;stroke-dasharray:-;stroke-linecap:round;stroke-linejoin:round;\" /><path d=\"M 324.0,-0.0 L 360.0,-0.0 L 363.0,-9.0 L 369.0,9.0 L 375.0,-9.0 L 381.0,9.0 L 387.0,-9.0 L 393.0,9.0 L 396.0,-0.0 L 432.0,-0.0\" style=\"stroke:black;fill:none;stroke-width:2.0;stroke-dasharray:-;stroke-linecap:round;stroke-linejoin:round;\" /><g><g><g><symbol id=\"STIXTwoMathRegular_3705\" viewBox=\"0 -31.524 4.488 51.216\"><path d=\"M 2.472 0.144 L 2.472 0.144 Q 1.824 0.144 1.272 -0.084 Q 0.72 -0.312 0.324 -0.648 L 0.792 -1.284 Q 1.176 -0.984 1.566 -0.798 Q 1.956 -0.612 2.436 -0.612 Q 3.012 -0.612 3.294 -0.87 Q 3.576 -1.128 3.576 -1.476 Q 3.576 -1.776 3.396 -1.974 Q 3.216 -2.172 2.922 -2.31 Q 2.628 -2.448 2.28 -2.568 Q 1.884 -2.724 1.494 -2.922 Q 1.104 -3.12 0.852 -3.432 Q 0.6 -3.744 0.6 -4.224 Q 0.6 -4.896 1.122 -5.358 Q 1.644 -5.82 2.52 -5.82 Q 3.12 -5.82 3.558 -5.628 Q 3.996 -5.436 4.308 -5.196 L 3.852 -4.572 Q 3.552 -4.788 3.24 -4.932 Q 2.928 -5.076 2.544 -5.076 Q 2.028 -5.076 1.776 -4.83 Q 1.524 -4.584 1.524 -4.272 Q 1.524 -3.996 1.698 -3.822 Q 1.872 -3.648 2.16 -3.528 Q 2.448 -3.408 2.772 -3.276 Q 3.156 -3.132 3.552 -2.946 Q 3.948 -2.76 4.218 -2.436 Q 4.488 -2.112 4.488 -1.572 Q 4.488 -0.864 3.96 -0.36 Q 3.432 0.144 2.472 0.144 Z \" /></symbol><use href=\"#STIXTwoMathRegular_3705\" x=\"35.98\" y=\"-65.38\" width=\"7.48\" height=\"85.36\" fill=\"black\" /><symbol id=\"STIXTwoMathRegular_3685\" viewBox=\"0 -31.524 5.028 51.216\"><path d=\"M 2.244 0.144 L 2.244 0.144 Q 1.548 0.144 1.074 -0.282 Q 0.6 -0.708 0.6 -1.476 Q 0.6 -2.412 1.428 -2.91 Q 2.256 -3.408 4.068 -3.6 Q 4.068 -3.972 3.972 -4.296 Q 3.876 -4.62 3.618 -4.824 Q 3.36 -5.028 2.892 -5.028 Q 2.424 -5.028 1.992 -4.836 Q 1.56 -4.644 1.224 -4.428 L 0.84 -5.088 Q 1.236 -5.352 1.812 -5.586 Q 2.388 -5.82 3.06 -5.82 Q 4.092 -5.82 4.56 -5.19 Q 5.028 -4.56 5.028 -3.492 L 5.028 0 L 4.236 0 L 4.152 -0.684 L 4.128 -0.684 Q 3.72 -0.348 3.252 -0.102 Q 2.784 0.144 2.244 0.144 Z M 2.532 -0.636 L 2.532 -0.636 Q 2.94 -0.636 3.3 -0.834 Q 3.66 -1.032 4.068 -1.38 L 4.068 -2.964 Q 2.676 -2.796 2.106 -2.448 Q 1.536 -2.1 1.536 -1.536 Q 1.536 -1.068 1.83 -0.852 Q 2.124 -0.636 2.532 -0.636 Z \" /></symbol><use href=\"#STIXTwoMathRegular_3685\" x=\"44.1\" y=\"-65.38\" width=\"8.38\" height=\"85.36\" fill=\"black\" /><symbol id=\"STIXTwoMathRegular_3700\" viewBox=\"0 -31.524 5.484 51.216\"><path d=\"M 0.948 0 L 0.948 0 L 0.948 -5.688 L 1.74 -5.688 L 1.824 -4.872 L 1.86 -4.872 Q 2.268 -5.268 2.712 -5.544 Q 3.156 -5.82 3.78 -5.82 Q 4.632 -5.82 5.058 -5.256 Q 5.484 -4.692 5.484 -3.6 L 5.484 0 L 4.512 0 L 4.512 -3.48 Q 4.512 -4.272 4.266 -4.626 Q 4.02 -4.98 3.468 -4.98 Q 3.024 -4.98 2.676 -4.764 Q 2.328 -4.548 1.908 -4.116 L 1.908 0 Z \" /></symbol><use href=\"#STIXTwoMathRegular_3700\" x=\"53.86\" y=\"-65.38\" width=\"9.14\" height=\"85.36\" fill=\"black\" /><use href=\"#STIXTwoMathRegular_3705\" x=\"64.44\" y=\"-65.38\" width=\"7.48\" height=\"85.36\" fill=\"black\" /></g></g></g><g><g><g><symbol id=\"STIXTwoMathRegular_274\" viewBox=\"0 -31.524 4.416 51.216\"><path d=\"M 0.468 -1.968 L 0.468 -1.968 L 0.78 -1.968 Q 0.972 -1.044 1.344 -0.678 Q 1.716 -0.312 2.376 -0.312 Q 2.832 -0.312 3.12 -0.498 Q 3.408 -0.684 3.408 -1.104 Q 3.408 -1.392 3.306 -1.584 Q 3.204 -1.776 2.916 -1.974 Q 2.628 -2.172 2.064 -2.448 Q 1.248 -2.868 0.864 -3.258 Q 0.48 -3.648 0.48 -4.308 Q 0.48 -5.052 1.014 -5.436 Q 1.548 -5.82 2.316 -5.82 Q 2.772 -5.82 3.06 -5.718 Q 3.348 -5.616 3.576 -5.508 L 3.588 -5.508 L 3.792 -5.76 L 4.032 -5.76 L 4.068 -3.924 L 3.744 -3.924 Q 3.552 -4.776 3.204 -5.094 Q 2.856 -5.412 2.304 -5.412 Q 1.896 -5.412 1.614 -5.22 Q 1.332 -5.028 1.332 -4.62 Q 1.332 -4.272 1.656 -3.996 Q 1.98 -3.72 2.736 -3.336 Q 3.552 -2.904 3.984 -2.502 Q 4.416 -2.1 4.416 -1.428 Q 4.416 -0.864 4.14 -0.522 Q 3.864 -0.18 3.402 -0.024 Q 2.94 0.132 2.4 0.132 Q 1.884 0.132 1.578 0.024 Q 1.272 -0.084 1.032 -0.18 L 1.008 -0.18 L 0.756 0.096 L 0.504 0.096 Z \" /></symbol><use href=\"#STIXTwoMathRegular_274\" x=\"144.08\" y=\"-65.36\" width=\"7.36\" height=\"85.36\" fill=\"black\" /><symbol id=\"STIXTwoMathRegular_259\" viewBox=\"0 -31.524 5.208 51.216\"><path d=\"M 4.98 -1.716 L 4.98 -1.716 L 5.208 -1.548 Q 4.992 -1.092 4.704 -0.714 Q 4.416 -0.336 4.002 -0.108 Q 3.588 0.12 2.964 0.12 Q 2.244 0.12 1.662 -0.222 Q 1.08 -0.564 0.744 -1.23 Q 0.408 -1.896 0.408 -2.856 Q 0.408 -3.864 0.75 -4.518 Q 1.092 -5.172 1.668 -5.496 Q 2.244 -5.82 2.94 -5.82 Q 3.924 -5.82 4.524 -5.136 Q 5.124 -4.452 5.172 -3.192 L 1.38 -3.192 Q 1.38 -2.364 1.65 -1.83 Q 1.92 -1.296 2.346 -1.038 Q 2.772 -0.78 3.252 -0.78 Q 3.744 -0.78 4.05 -0.912 Q 4.356 -1.044 4.572 -1.254 Q 4.788 -1.464 4.98 -1.716 Z M 1.368 -3.636 L 1.368 -3.636 L 4.044 -3.636 Q 4.032 -4.08 3.888 -4.47 Q 3.744 -4.86 3.468 -5.1 Q 3.192 -5.34 2.76 -5.34 Q 1.512 -5.34 1.368 -3.636 Z \" /></symbol><use href=\"#STIXTwoMathRegular_259\" x=\"151.98\" y=\"-65.36\" width=\"8.68\" height=\"85.36\" fill=\"black\" /><symbol id=\"STIXTwoMathRegular_273\" viewBox=\"0 -31.524 4.476 51.216\"><path d=\"M 2.196 -5.784 L 2.196 -5.784 L 2.196 -4.548 L 2.232 -4.548 Q 2.688 -5.22 3.018 -5.538 Q 3.348 -5.856 3.78 -5.856 Q 4.128 -5.856 4.302 -5.676 Q 4.476 -5.496 4.476 -5.184 Q 4.476 -4.848 4.314 -4.692 Q 4.152 -4.536 3.948 -4.536 Q 3.756 -4.536 3.606 -4.638 Q 3.456 -4.74 3.348 -4.842 Q 3.24 -4.944 3.168 -4.944 Q 2.964 -4.944 2.7 -4.632 Q 2.436 -4.32 2.22 -3.96 L 2.22 -1.224 Q 2.22 -0.852 2.316 -0.66 Q 2.412 -0.468 2.658 -0.408 Q 2.904 -0.348 3.348 -0.348 L 3.348 0 L 0.348 0 L 0.348 -0.348 Q 0.744 -0.348 0.93 -0.414 Q 1.116 -0.48 1.17 -0.654 Q 1.224 -0.828 1.224 -1.164 L 1.224 -4.464 Q 1.224 -4.788 1.17 -4.95 Q 1.116 -5.112 0.792 -5.112 Q 0.612 -5.112 0.516 -5.1 Q 0.42 -5.088 0.42 -5.088 L 0.42 -5.424 L 1.908 -5.784 Z \" /></symbol><use href=\"#STIXTwoMathRegular_273\" x=\"161.26\" y=\"-65.36\" width=\"7.46\" height=\"85.36\" fill=\"black\" /><symbol id=\"STIXTwoMathRegular_263\" viewBox=\"0 -31.524 3.084 51.216\"><path d=\"M 3.084 -0.336 L 3.084 -0.336 L 3.084 0 L 0.384 0 L 0.384 -0.336 Q 0.792 -0.336 0.966 -0.414 Q 1.14 -0.492 1.182 -0.684 Q 1.224 -0.876 1.224 -1.212 L 1.224 -4.56 Q 1.224 -4.944 1.092 -5.034 Q 0.96 -5.124 0.696 -5.124 Q 0.576 -5.124 0.486 -5.112 Q 0.396 -5.1 0.396 -5.1 L 0.396 -5.448 L 1.908 -5.784 L 2.22 -5.784 L 2.22 -1.212 Q 2.22 -0.864 2.268 -0.672 Q 2.316 -0.48 2.502 -0.408 Q 2.688 -0.336 3.084 -0.336 Z M 1.74 -8.076 L 1.74 -8.076 Q 2.052 -8.076 2.238 -7.878 Q 2.424 -7.68 2.424 -7.404 Q 2.424 -7.128 2.238 -6.924 Q 2.052 -6.72 1.74 -6.72 Q 1.44 -6.72 1.248 -6.924 Q 1.056 -7.128 1.056 -7.404 Q 1.056 -7.68 1.242 -7.878 Q 1.428 -8.076 1.74 -8.076 Z \" /></symbol><use href=\"#STIXTwoMathRegular_263\" x=\"168.86\" y=\"-65.36\" width=\"5.14\" height=\"85.36\" fill=\"black\" /><symbol id=\"STIXTwoMathRegular_260\" viewBox=\"0 -31.524 4.548 51.216\"><path d=\"M 0.312 -5.616 L 0.312 -5.616 L 1.224 -5.616 Q 1.224 -6.348 1.302 -6.81 Q 1.38 -7.272 1.608 -7.68 Q 1.848 -8.1 2.214 -8.328 Q 2.58 -8.556 3.204 -8.556 Q 3.792 -8.556 4.17 -8.34 Q 4.548 -8.124 4.548 -7.716 Q 4.548 -7.452 4.404 -7.326 Q 4.26 -7.2 4.056 -7.2 Q 3.828 -7.2 3.684 -7.338 Q 3.54 -7.476 3.426 -7.656 Q 3.312 -7.836 3.168 -7.974 Q 3.024 -8.112 2.796 -8.112 Q 2.46 -8.112 2.34 -7.806 Q 2.22 -7.5 2.22 -6.744 L 2.22 -5.616 L 3.684 -5.616 L 3.684 -5.112 L 2.22 -5.112 L 2.22 -1.428 Q 2.22 -0.96 2.316 -0.732 Q 2.412 -0.504 2.676 -0.426 Q 2.94 -0.348 3.444 -0.348 L 3.444 0 L 0.216 0 L 0.216 -0.348 Q 0.66 -0.348 0.87 -0.426 Q 1.08 -0.504 1.152 -0.732 Q 1.224 -0.96 1.224 -1.428 L 1.224 -5.112 L 0.312 -5.112 Z \" /></symbol><use href=\"#STIXTwoMathRegular_260\" x=\"174.56\" y=\"-65.36\" width=\"7.58\" height=\"85.36\" fill=\"black\" /></g></g></g><g><g><g><symbol id=\"STIXTwoMathRegular_3273\" viewBox=\"0 -31.524 6.456 51.216\"><path d=\"M 3.144 0.132 L 3.144 0.132 Q 2.256 0.132 1.692 -0.054 Q 1.128 -0.24 0.864 -0.36 L 0.864 -6.924 Q 0.864 -7.332 0.774 -7.446 Q 0.684 -7.56 0.348 -7.56 Q 0.192 -7.56 0.096 -7.548 Q 0 -7.536 0 -7.536 L 0 -8.052 L 1.932 -8.472 L 2.544 -8.472 L 2.544 -4.824 L 2.592 -4.824 Q 2.904 -5.184 3.36 -5.502 Q 3.816 -5.82 4.452 -5.82 Q 5.412 -5.82 5.934 -5.148 Q 6.456 -4.476 6.456 -3.168 Q 6.456 -2.016 6.036 -1.29 Q 5.616 -0.564 4.872 -0.216 Q 4.128 0.132 3.144 0.132 Z M 3.456 -0.492 L 3.456 -0.492 Q 3.876 -0.492 4.122 -0.798 Q 4.368 -1.104 4.482 -1.638 Q 4.596 -2.172 4.596 -2.844 Q 4.596 -3.756 4.368 -4.23 Q 4.14 -4.704 3.66 -4.704 Q 3.276 -4.704 2.988 -4.494 Q 2.7 -4.284 2.544 -4.116 L 2.544 -1.032 Q 2.664 -0.828 2.892 -0.66 Q 3.12 -0.492 3.456 -0.492 Z \" /></symbol><use href=\"#STIXTwoMathRegular_3273\" x=\"249.91\" y=\"-65.36\" width=\"10.76\" height=\"85.36\" fill=\"black\" /><symbol id=\"STIXTwoMathRegular_3288\" viewBox=\"0 -31.524 6.144 51.216\"><path d=\"M 3.24 0.12 L 3.24 0.12 Q 1.824 0.12 1.08 -0.6 Q 0.336 -1.32 0.336 -2.88 Q 0.336 -3.72 0.648 -4.386 Q 0.96 -5.052 1.614 -5.436 Q 2.268 -5.82 3.276 -5.82 Q 4.716 -5.82 5.43 -5.064 Q 6.144 -4.308 6.144 -3.012 Q 6.144 -1.476 5.4 -0.678 Q 4.656 0.12 3.24 0.12 Z M 3.276 -0.468 L 3.276 -0.468 Q 3.876 -0.468 4.098 -1.074 Q 4.32 -1.68 4.32 -2.916 Q 4.32 -4.044 4.05 -4.644 Q 3.78 -5.244 3.18 -5.244 Q 2.604 -5.244 2.382 -4.638 Q 2.16 -4.032 2.16 -3 Q 2.16 -1.716 2.424 -1.092 Q 2.688 -0.468 3.276 -0.468 Z \" /></symbol><use href=\"#STIXTwoMathRegular_3288\" x=\"261.23\" y=\"-65.36\" width=\"10.24\" height=\"85.36\" fill=\"black\" /><symbol id=\"STIXTwoMathRegular_3285\" viewBox=\"0 -31.524 3.72 51.216\"><path d=\"M 3.72 0 L 3.72 0 L 0.216 0 L 0.216 -0.48 Q 0.612 -0.48 0.798 -0.558 Q 0.984 -0.636 1.038 -0.828 Q 1.092 -1.02 1.092 -1.344 L 1.092 -7.14 Q 1.092 -7.488 0.912 -7.566 Q 0.732 -7.644 0.504 -7.644 Q 0.36 -7.644 0.246 -7.632 Q 0.132 -7.62 0.132 -7.62 L 0.132 -8.1 L 2.016 -8.472 L 2.76 -8.472 L 2.76 -1.344 Q 2.76 -1.008 2.82 -0.816 Q 2.88 -0.624 3.084 -0.552 Q 3.288 -0.48 3.72 -0.48 Z \" /></symbol><use href=\"#STIXTwoMathRegular_3285\" x=\"272.03\" y=\"-65.36\" width=\"6.2\" height=\"85.36\" fill=\"black\" /><symbol id=\"STIXTwoMathRegular_3275\" viewBox=\"0 -31.524 6.852 51.216\"><path d=\"M 2.388 0.12 L 2.388 0.12 Q 1.704 0.12 1.248 -0.258 Q 0.792 -0.636 0.564 -1.266 Q 0.336 -1.896 0.336 -2.664 Q 0.336 -3.768 0.702 -4.464 Q 1.068 -5.16 1.686 -5.49 Q 2.304 -5.82 3.06 -5.82 Q 3.348 -5.82 3.654 -5.766 Q 3.96 -5.712 4.26 -5.556 L 4.26 -6.924 Q 4.26 -7.32 4.17 -7.434 Q 4.08 -7.548 3.732 -7.548 Q 3.648 -7.548 3.516 -7.542 Q 3.384 -7.536 3.384 -7.536 L 3.384 -8.052 L 5.304 -8.472 L 5.976 -8.472 L 5.976 -1.368 Q 5.976 -0.912 6.12 -0.774 Q 6.264 -0.636 6.6 -0.636 L 6.852 -0.636 L 6.852 -0.144 L 4.704 0.06 L 4.284 0.06 L 4.284 -0.708 L 4.236 -0.708 Q 3.9 -0.408 3.444 -0.144 Q 2.988 0.12 2.388 0.12 Z M 3.156 -0.876 L 3.156 -0.876 Q 3.504 -0.876 3.732 -0.99 Q 3.96 -1.104 4.26 -1.308 L 4.26 -4.212 Q 4.176 -4.536 3.924 -4.824 Q 3.672 -5.112 3.18 -5.112 Q 2.724 -5.112 2.46 -4.608 Q 2.196 -4.104 2.196 -3.024 Q 2.196 -1.896 2.436 -1.386 Q 2.676 -0.876 3.156 -0.876 Z \" /></symbol><use href=\"#STIXTwoMathRegular_3275\" x=\"278.57\" y=\"-65.36\" width=\"11.42\" height=\"85.36\" fill=\"black\" /></g></g></g><g><g><g><symbol id=\"STIXTwoMathRegular_3334\" viewBox=\"0 -31.524 3.06 51.216\"><path d=\"M 2.628 -5.712 L 2.628 -5.712 L 1.728 -1.44 Q 1.728 -1.44 1.698 -1.254 Q 1.668 -1.068 1.668 -0.936 Q 1.668 -0.708 1.884 -0.708 Q 2.196 -0.708 2.436 -0.942 Q 2.676 -1.176 2.82 -1.332 L 3.06 -1.152 Q 2.856 -0.864 2.616 -0.57 Q 2.376 -0.276 2.076 -0.084 Q 1.776 0.108 1.38 0.108 Q 0.624 0.108 0.624 -0.528 Q 0.624 -0.684 0.666 -0.93 Q 0.708 -1.176 0.828 -1.704 L 1.44 -4.56 Q 1.44 -4.56 1.458 -4.668 Q 1.476 -4.776 1.476 -4.932 Q 1.476 -5.052 1.404 -5.166 Q 1.332 -5.28 1.092 -5.28 Q 0.936 -5.28 0.81 -5.268 Q 0.684 -5.256 0.684 -5.256 L 0.684 -5.58 L 2.364 -5.712 Z M 2.916 -7.32 L 2.916 -7.32 Q 2.916 -7.02 2.724 -6.846 Q 2.532 -6.672 2.256 -6.672 Q 1.992 -6.672 1.812 -6.84 Q 1.632 -7.008 1.632 -7.32 Q 1.632 -7.632 1.812 -7.806 Q 1.992 -7.98 2.292 -7.98 Q 2.592 -7.98 2.754 -7.8 Q 2.916 -7.62 2.916 -7.32 Z \" /></symbol><use href=\"#STIXTwoMathRegular_3334\" x=\"357.19\" y=\"-65.38\" width=\"5.1\" height=\"85.36\" fill=\"black\" /><symbol id=\"STIXTwoMathRegular_3347\" viewBox=\"0 -31.524 3.804 51.216\"><path d=\"M 3.804 -5.604 L 3.804 -5.604 L 3.708 -5.136 L 2.496 -5.136 L 1.788 -1.56 Q 1.788 -1.56 1.746 -1.338 Q 1.704 -1.116 1.704 -0.96 Q 1.704 -0.864 1.746 -0.786 Q 1.788 -0.708 1.908 -0.708 Q 2.172 -0.708 2.394 -0.864 Q 2.616 -1.02 2.928 -1.428 L 3.168 -1.248 Q 3 -1.02 2.76 -0.696 Q 2.52 -0.372 2.184 -0.132 Q 1.848 0.108 1.368 0.108 Q 0.996 0.108 0.816 -0.072 Q 0.636 -0.252 0.636 -0.528 Q 0.636 -0.684 0.672 -0.906 Q 0.708 -1.128 0.72 -1.212 L 1.536 -5.136 L 0.852 -5.136 L 0.9 -5.388 Q 1.284 -5.592 1.542 -5.784 Q 1.8 -5.976 2.034 -6.288 Q 2.268 -6.6 2.568 -7.116 L 2.928 -7.116 L 2.592 -5.604 Z \" /></symbol><use href=\"#STIXTwoMathRegular_3347\" x=\"362.67\" y=\"-65.38\" width=\"6.34\" height=\"85.36\" fill=\"black\" /><symbol id=\"STIXTwoMathRegular_3326\" viewBox=\"0 -31.524 6.468 51.216\"><path d=\"M 6.024 -5.664 L 6.024 -5.664 L 5.16 -1.416 Q 5.16 -1.416 5.13 -1.26 Q 5.1 -1.104 5.1 -0.972 Q 5.1 -0.852 5.148 -0.786 Q 5.196 -0.72 5.34 -0.72 Q 5.532 -0.72 5.706 -0.834 Q 5.88 -0.948 6.018 -1.098 Q 6.156 -1.248 6.228 -1.344 L 6.468 -1.164 Q 6.096 -0.588 5.688 -0.234 Q 5.28 0.12 4.74 0.12 Q 4.068 0.12 4.068 -0.456 Q 4.068 -0.588 4.098 -0.726 Q 4.128 -0.864 4.152 -1.02 L 4.068 -1.02 Q 3.12 0.144 2.064 0.144 Q 1.416 0.144 1.002 -0.36 Q 0.588 -0.864 0.588 -1.908 Q 0.588 -2.724 0.846 -3.426 Q 1.104 -4.128 1.536 -4.65 Q 1.968 -5.172 2.52 -5.46 Q 3.072 -5.748 3.66 -5.748 Q 4.14 -5.748 4.428 -5.568 Q 4.716 -5.388 4.908 -5.112 L 4.956 -5.112 L 5.388 -5.664 Z M 4.668 -4.128 L 4.668 -4.128 Q 4.668 -4.608 4.398 -4.95 Q 4.128 -5.292 3.624 -5.292 Q 3.18 -5.292 2.814 -5.01 Q 2.448 -4.728 2.19 -4.26 Q 1.932 -3.792 1.794 -3.21 Q 1.656 -2.628 1.656 -2.028 Q 1.656 -1.2 1.914 -0.924 Q 2.172 -0.648 2.616 -0.648 Q 3.216 -0.648 3.624 -1.026 Q 4.032 -1.404 4.296 -2.172 Q 4.416 -2.532 4.5 -2.91 Q 4.584 -3.288 4.626 -3.618 Q 4.668 -3.948 4.668 -4.128 Z \" /></symbol><use href=\"#STIXTwoMathRegular_3326\" x=\"369.43\" y=\"-65.38\" width=\"10.78\" height=\"85.36\" fill=\"black\" /><symbol id=\"STIXTwoMathRegular_3339\" viewBox=\"0 -31.524 3.072 51.216\"><path d=\"M 3.072 -8.46 L 3.072 -8.46 L 1.752 -1.44 Q 1.752 -1.44 1.722 -1.254 Q 1.692 -1.068 1.692 -0.936 Q 1.692 -0.708 1.908 -0.708 Q 2.22 -0.708 2.448 -0.942 Q 2.676 -1.176 2.82 -1.332 L 3.06 -1.152 Q 2.856 -0.864 2.616 -0.57 Q 2.376 -0.276 2.076 -0.084 Q 1.776 0.108 1.38 0.108 Q 0.624 0.108 0.624 -0.528 Q 0.624 -0.732 0.672 -1.038 Q 0.72 -1.344 0.792 -1.728 L 1.896 -7.296 Q 1.896 -7.296 1.914 -7.416 Q 1.932 -7.536 1.932 -7.68 Q 1.932 -7.8 1.866 -7.92 Q 1.8 -8.04 1.56 -8.04 Q 1.404 -8.04 1.278 -8.028 Q 1.152 -8.016 1.152 -8.016 L 1.152 -8.328 L 2.808 -8.46 Z \" /></symbol><use href=\"#STIXTwoMathRegular_3339\" x=\"380.53\" y=\"-65.38\" width=\"5.12\" height=\"85.36\" fill=\"black\" /><use href=\"#STIXTwoMathRegular_3334\" x=\"386.09\" y=\"-65.38\" width=\"5.1\" height=\"85.36\" fill=\"black\" /><symbol id=\"STIXTwoMathRegular_3328\" viewBox=\"0 -31.524 4.848 51.216\"><path d=\"M 4.296 -1.476 L 4.296 -1.476 L 4.5 -1.296 Q 4.128 -0.72 3.546 -0.288 Q 2.964 0.144 2.148 0.144 Q 1.5 0.144 1.092 -0.144 Q 0.684 -0.432 0.498 -0.93 Q 0.312 -1.428 0.312 -2.028 Q 0.312 -2.772 0.564 -3.444 Q 0.816 -4.116 1.254 -4.632 Q 1.692 -5.148 2.262 -5.448 Q 2.832 -5.748 3.48 -5.748 Q 4.044 -5.748 4.446 -5.484 Q 4.848 -5.22 4.848 -4.632 Q 4.848 -4.272 4.68 -4.02 Q 4.512 -3.768 4.176 -3.768 Q 3.72 -3.768 3.72 -4.188 Q 3.72 -4.428 3.834 -4.656 Q 3.948 -4.884 3.948 -5.028 Q 3.948 -5.16 3.798 -5.256 Q 3.648 -5.352 3.36 -5.352 Q 2.868 -5.352 2.484 -5.064 Q 2.1 -4.776 1.836 -4.302 Q 1.572 -3.828 1.44 -3.282 Q 1.308 -2.736 1.308 -2.208 Q 1.308 -1.572 1.494 -1.242 Q 1.68 -0.912 1.98 -0.798 Q 2.28 -0.684 2.628 -0.684 Q 3.252 -0.684 3.636 -0.912 Q 4.02 -1.14 4.296 -1.476 Z \" /></symbol><use href=\"#STIXTwoMathRegular_3328\" x=\"391.57\" y=\"-65.38\" width=\"8.08\" height=\"85.36\" fill=\"black\" /></g></g></g></svg>"
      ]
     },
     "execution_count": 17,
     "metadata": {},
     "output_type": "execute_result"
    }
   ],
   "source": [
    "# These text styles only work in SVG backend\n",
    "d = schemdraw.Drawing(fontsize=20)\n",
    "d += elm.Resistor().label('sans', font='sans')\n",
    "d += elm.Resistor().label('serif', font='serif')\n",
    "d += elm.Resistor().label('bold', font='bold')\n",
    "d += elm.Resistor().label('italic', font='italic')\n",
    "d.draw(canvas='svg')"
   ]
  },
  {
   "cell_type": "code",
   "execution_count": null,
   "id": "1fd6de2a-7049-4a3c-baa4-4394cca91a05",
   "metadata": {},
   "outputs": [],
   "source": []
  },
  {
   "cell_type": "code",
   "execution_count": 18,
   "id": "1bdafc08-a26f-4b04-931a-07ce23db49d6",
   "metadata": {},
   "outputs": [
    {
     "data": {
      "text/plain": [
       "'<svg xmlns=\"http://www.w3.org/2000/svg\" xmlns:xlink=\"http://www.w3.org/1999/xlink\" xml:lang=\"en\" height=\"45.279999999999994pt\" width=\"441.20000000000005pt\" viewBox=\"-4.6 -31.679999999999996 441.20000000000005 45.279999999999994\"><path d=\"M 0.0,-0.0 L 36.0,-0.0 L 39.0,-9.0 L 45.0,9.0 L 50.99999999999999,-9.0 L 57.0,9.0 L 63.0,-9.0 L 69.0,9.0 L 72.0,-0.0 L 108.0,-0.0\" style=\"stroke:black;fill:none;stroke-width:2.0;stroke-dasharray:-;stroke-linecap:round;stroke-linejoin:round;\" /><path d=\"M 108.0,-0.0 L 144.0,-0.0 L 147.0,-9.0 L 153.0,9.0 L 158.99999999999997,-9.0 L 165.0,9.0 L 171.0,-9.0 L 176.99999999999997,9.0 L 180.0,-0.0 L 216.0,-0.0\" style=\"stroke:black;fill:none;stroke-width:2.0;stroke-dasharray:-;stroke-linecap:round;stroke-linejoin:round;\" /><path d=\"M 216.0,-0.0 L 252.0,-0.0 L 255.0,-9.0 L 261.0,9.0 L 267.0,-9.0 L 273.0,9.0 L 279.0,-9.0 L 285.0,9.0 L 288.0,-0.0 L 324.0,-0.0\" style=\"stroke:black;fill:none;stroke-width:2.0;stroke-dasharray:-;stroke-linecap:round;stroke-linejoin:round;\" /><path d=\"M 324.0,-0.0 L 360.0,-0.0 L 363.0,-9.0 L 369.0,9.0 L 375.0,-9.0 L 381.0,9.0 L 387.0,-9.0 L 393.0,9.0 L 396.0,-0.0 L 432.0,-0.0\" style=\"stroke:black;fill:none;stroke-width:2.0;stroke-dasharray:-;stroke-linecap:round;stroke-linejoin:round;\" /><g><g><g><symbol id=\"STIXTwoMathRegular_3705\" viewBox=\"0 -31.524 4.488 51.216\"><path d=\"M 2.472 0.144 L 2.472 0.144 Q 1.824 0.144 1.272 -0.084 Q 0.72 -0.312 0.324 -0.648 L 0.792 -1.284 Q 1.176 -0.984 1.566 -0.798 Q 1.956 -0.612 2.436 -0.612 Q 3.012 -0.612 3.294 -0.87 Q 3.576 -1.128 3.576 -1.476 Q 3.576 -1.776 3.396 -1.974 Q 3.216 -2.172 2.922 -2.31 Q 2.628 -2.448 2.28 -2.568 Q 1.884 -2.724 1.494 -2.922 Q 1.104 -3.12 0.852 -3.432 Q 0.6 -3.744 0.6 -4.224 Q 0.6 -4.896 1.122 -5.358 Q 1.644 -5.82 2.52 -5.82 Q 3.12 -5.82 3.558 -5.628 Q 3.996 -5.436 4.308 -5.196 L 3.852 -4.572 Q 3.552 -4.788 3.24 -4.932 Q 2.928 -5.076 2.544 -5.076 Q 2.028 -5.076 1.776 -4.83 Q 1.524 -4.584 1.524 -4.272 Q 1.524 -3.996 1.698 -3.822 Q 1.872 -3.648 2.16 -3.528 Q 2.448 -3.408 2.772 -3.276 Q 3.156 -3.132 3.552 -2.946 Q 3.948 -2.76 4.218 -2.436 Q 4.488 -2.112 4.488 -1.572 Q 4.488 -0.864 3.96 -0.36 Q 3.432 0.144 2.472 0.144 Z \" /></symbol><use href=\"#STIXTwoMathRegular_3705\" x=\"35.98\" y=\"-65.38\" width=\"7.48\" height=\"85.36\" fill=\"black\" /><symbol id=\"STIXTwoMathRegular_3685\" viewBox=\"0 -31.524 5.028 51.216\"><path d=\"M 2.244 0.144 L 2.244 0.144 Q 1.548 0.144 1.074 -0.282 Q 0.6 -0.708 0.6 -1.476 Q 0.6 -2.412 1.428 -2.91 Q 2.256 -3.408 4.068 -3.6 Q 4.068 -3.972 3.972 -4.296 Q 3.876 -4.62 3.618 -4.824 Q 3.36 -5.028 2.892 -5.028 Q 2.424 -5.028 1.992 -4.836 Q 1.56 -4.644 1.224 -4.428 L 0.84 -5.088 Q 1.236 -5.352 1.812 -5.586 Q 2.388 -5.82 3.06 -5.82 Q 4.092 -5.82 4.56 -5.19 Q 5.028 -4.56 5.028 -3.492 L 5.028 0 L 4.236 0 L 4.152 -0.684 L 4.128 -0.684 Q 3.72 -0.348 3.252 -0.102 Q 2.784 0.144 2.244 0.144 Z M 2.532 -0.636 L 2.532 -0.636 Q 2.94 -0.636 3.3 -0.834 Q 3.66 -1.032 4.068 -1.38 L 4.068 -2.964 Q 2.676 -2.796 2.106 -2.448 Q 1.536 -2.1 1.536 -1.536 Q 1.536 -1.068 1.83 -0.852 Q 2.124 -0.636 2.532 -0.636 Z \" /></symbol><use href=\"#STIXTwoMathRegular_3685\" x=\"44.1\" y=\"-65.38\" width=\"8.38\" height=\"85.36\" fill=\"black\" /><symbol id=\"STIXTwoMathRegular_3700\" viewBox=\"0 -31.524 5.484 51.216\"><path d=\"M 0.948 0 L 0.948 0 L 0.948 -5.688 L 1.74 -5.688 L 1.824 -4.872 L 1.86 -4.872 Q 2.268 -5.268 2.712 -5.544 Q 3.156 -5.82 3.78 -5.82 Q 4.632 -5.82 5.058 -5.256 Q 5.484 -4.692 5.484 -3.6 L 5.484 0 L 4.512 0 L 4.512 -3.48 Q 4.512 -4.272 4.266 -4.626 Q 4.02 -4.98 3.468 -4.98 Q 3.024 -4.98 2.676 -4.764 Q 2.328 -4.548 1.908 -4.116 L 1.908 0 Z \" /></symbol><use href=\"#STIXTwoMathRegular_3700\" x=\"53.86\" y=\"-65.38\" width=\"9.14\" height=\"85.36\" fill=\"black\" /><use href=\"#STIXTwoMathRegular_3705\" x=\"64.44\" y=\"-65.38\" width=\"7.48\" height=\"85.36\" fill=\"black\" /></g></g></g><g><g><g><symbol id=\"STIXTwoMathRegular_274\" viewBox=\"0 -31.524 4.416 51.216\"><path d=\"M 0.468 -1.968 L 0.468 -1.968 L 0.78 -1.968 Q 0.972 -1.044 1.344 -0.678 Q 1.716 -0.312 2.376 -0.312 Q 2.832 -0.312 3.12 -0.498 Q 3.408 -0.684 3.408 -1.104 Q 3.408 -1.392 3.306 -1.584 Q 3.204 -1.776 2.916 -1.974 Q 2.628 -2.172 2.064 -2.448 Q 1.248 -2.868 0.864 -3.258 Q 0.48 -3.648 0.48 -4.308 Q 0.48 -5.052 1.014 -5.436 Q 1.548 -5.82 2.316 -5.82 Q 2.772 -5.82 3.06 -5.718 Q 3.348 -5.616 3.576 -5.508 L 3.588 -5.508 L 3.792 -5.76 L 4.032 -5.76 L 4.068 -3.924 L 3.744 -3.924 Q 3.552 -4.776 3.204 -5.094 Q 2.856 -5.412 2.304 -5.412 Q 1.896 -5.412 1.614 -5.22 Q 1.332 -5.028 1.332 -4.62 Q 1.332 -4.272 1.656 -3.996 Q 1.98 -3.72 2.736 -3.336 Q 3.552 -2.904 3.984 -2.502 Q 4.416 -2.1 4.416 -1.428 Q 4.416 -0.864 4.14 -0.522 Q 3.864 -0.18 3.402 -0.024 Q 2.94 0.132 2.4 0.132 Q 1.884 0.132 1.578 0.024 Q 1.272 -0.084 1.032 -0.18 L 1.008 -0.18 L 0.756 0.096 L 0.504 0.096 Z \" /></symbol><use href=\"#STIXTwoMathRegular_274\" x=\"144.08\" y=\"-65.36\" width=\"7.36\" height=\"85.36\" fill=\"black\" /><symbol id=\"STIXTwoMathRegular_259\" viewBox=\"0 -31.524 5.208 51.216\"><path d=\"M 4.98 -1.716 L 4.98 -1.716 L 5.208 -1.548 Q 4.992 -1.092 4.704 -0.714 Q 4.416 -0.336 4.002 -0.108 Q 3.588 0.12 2.964 0.12 Q 2.244 0.12 1.662 -0.222 Q 1.08 -0.564 0.744 -1.23 Q 0.408 -1.896 0.408 -2.856 Q 0.408 -3.864 0.75 -4.518 Q 1.092 -5.172 1.668 -5.496 Q 2.244 -5.82 2.94 -5.82 Q 3.924 -5.82 4.524 -5.136 Q 5.124 -4.452 5.172 -3.192 L 1.38 -3.192 Q 1.38 -2.364 1.65 -1.83 Q 1.92 -1.296 2.346 -1.038 Q 2.772 -0.78 3.252 -0.78 Q 3.744 -0.78 4.05 -0.912 Q 4.356 -1.044 4.572 -1.254 Q 4.788 -1.464 4.98 -1.716 Z M 1.368 -3.636 L 1.368 -3.636 L 4.044 -3.636 Q 4.032 -4.08 3.888 -4.47 Q 3.744 -4.86 3.468 -5.1 Q 3.192 -5.34 2.76 -5.34 Q 1.512 -5.34 1.368 -3.636 Z \" /></symbol><use href=\"#STIXTwoMathRegular_259\" x=\"151.98\" y=\"-65.36\" width=\"8.68\" height=\"85.36\" fill=\"black\" /><symbol id=\"STIXTwoMathRegular_273\" viewBox=\"0 -31.524 4.476 51.216\"><path d=\"M 2.196 -5.784 L 2.196 -5.784 L 2.196 -4.548 L 2.232 -4.548 Q 2.688 -5.22 3.018 -5.538 Q 3.348 -5.856 3.78 -5.856 Q 4.128 -5.856 4.302 -5.676 Q 4.476 -5.496 4.476 -5.184 Q 4.476 -4.848 4.314 -4.692 Q 4.152 -4.536 3.948 -4.536 Q 3.756 -4.536 3.606 -4.638 Q 3.456 -4.74 3.348 -4.842 Q 3.24 -4.944 3.168 -4.944 Q 2.964 -4.944 2.7 -4.632 Q 2.436 -4.32 2.22 -3.96 L 2.22 -1.224 Q 2.22 -0.852 2.316 -0.66 Q 2.412 -0.468 2.658 -0.408 Q 2.904 -0.348 3.348 -0.348 L 3.348 0 L 0.348 0 L 0.348 -0.348 Q 0.744 -0.348 0.93 -0.414 Q 1.116 -0.48 1.17 -0.654 Q 1.224 -0.828 1.224 -1.164 L 1.224 -4.464 Q 1.224 -4.788 1.17 -4.95 Q 1.116 -5.112 0.792 -5.112 Q 0.612 -5.112 0.516 -5.1 Q 0.42 -5.088 0.42 -5.088 L 0.42 -5.424 L 1.908 -5.784 Z \" /></symbol><use href=\"#STIXTwoMathRegular_273\" x=\"161.26\" y=\"-65.36\" width=\"7.46\" height=\"85.36\" fill=\"black\" /><symbol id=\"STIXTwoMathRegular_263\" viewBox=\"0 -31.524 3.084 51.216\"><path d=\"M 3.084 -0.336 L 3.084 -0.336 L 3.084 0 L 0.384 0 L 0.384 -0.336 Q 0.792 -0.336 0.966 -0.414 Q 1.14 -0.492 1.182 -0.684 Q 1.224 -0.876 1.224 -1.212 L 1.224 -4.56 Q 1.224 -4.944 1.092 -5.034 Q 0.96 -5.124 0.696 -5.124 Q 0.576 -5.124 0.486 -5.112 Q 0.396 -5.1 0.396 -5.1 L 0.396 -5.448 L 1.908 -5.784 L 2.22 -5.784 L 2.22 -1.212 Q 2.22 -0.864 2.268 -0.672 Q 2.316 -0.48 2.502 -0.408 Q 2.688 -0.336 3.084 -0.336 Z M 1.74 -8.076 L 1.74 -8.076 Q 2.052 -8.076 2.238 -7.878 Q 2.424 -7.68 2.424 -7.404 Q 2.424 -7.128 2.238 -6.924 Q 2.052 -6.72 1.74 -6.72 Q 1.44 -6.72 1.248 -6.924 Q 1.056 -7.128 1.056 -7.404 Q 1.056 -7.68 1.242 -7.878 Q 1.428 -8.076 1.74 -8.076 Z \" /></symbol><use href=\"#STIXTwoMathRegular_263\" x=\"168.86\" y=\"-65.36\" width=\"5.14\" height=\"85.36\" fill=\"black\" /><symbol id=\"STIXTwoMathRegular_260\" viewBox=\"0 -31.524 4.548 51.216\"><path d=\"M 0.312 -5.616 L 0.312 -5.616 L 1.224 -5.616 Q 1.224 -6.348 1.302 -6.81 Q 1.38 -7.272 1.608 -7.68 Q 1.848 -8.1 2.214 -8.328 Q 2.58 -8.556 3.204 -8.556 Q 3.792 -8.556 4.17 -8.34 Q 4.548 -8.124 4.548 -7.716 Q 4.548 -7.452 4.404 -7.326 Q 4.26 -7.2 4.056 -7.2 Q 3.828 -7.2 3.684 -7.338 Q 3.54 -7.476 3.426 -7.656 Q 3.312 -7.836 3.168 -7.974 Q 3.024 -8.112 2.796 -8.112 Q 2.46 -8.112 2.34 -7.806 Q 2.22 -7.5 2.22 -6.744 L 2.22 -5.616 L 3.684 -5.616 L 3.684 -5.112 L 2.22 -5.112 L 2.22 -1.428 Q 2.22 -0.96 2.316 -0.732 Q 2.412 -0.504 2.676 -0.426 Q 2.94 -0.348 3.444 -0.348 L 3.444 0 L 0.216 0 L 0.216 -0.348 Q 0.66 -0.348 0.87 -0.426 Q 1.08 -0.504 1.152 -0.732 Q 1.224 -0.96 1.224 -1.428 L 1.224 -5.112 L 0.312 -5.112 Z \" /></symbol><use href=\"#STIXTwoMathRegular_260\" x=\"174.56\" y=\"-65.36\" width=\"7.58\" height=\"85.36\" fill=\"black\" /></g></g></g><g><g><g><symbol id=\"STIXTwoMathRegular_3273\" viewBox=\"0 -31.524 6.456 51.216\"><path d=\"M 3.144 0.132 L 3.144 0.132 Q 2.256 0.132 1.692 -0.054 Q 1.128 -0.24 0.864 -0.36 L 0.864 -6.924 Q 0.864 -7.332 0.774 -7.446 Q 0.684 -7.56 0.348 -7.56 Q 0.192 -7.56 0.096 -7.548 Q 0 -7.536 0 -7.536 L 0 -8.052 L 1.932 -8.472 L 2.544 -8.472 L 2.544 -4.824 L 2.592 -4.824 Q 2.904 -5.184 3.36 -5.502 Q 3.816 -5.82 4.452 -5.82 Q 5.412 -5.82 5.934 -5.148 Q 6.456 -4.476 6.456 -3.168 Q 6.456 -2.016 6.036 -1.29 Q 5.616 -0.564 4.872 -0.216 Q 4.128 0.132 3.144 0.132 Z M 3.456 -0.492 L 3.456 -0.492 Q 3.876 -0.492 4.122 -0.798 Q 4.368 -1.104 4.482 -1.638 Q 4.596 -2.172 4.596 -2.844 Q 4.596 -3.756 4.368 -4.23 Q 4.14 -4.704 3.66 -4.704 Q 3.276 -4.704 2.988 -4.494 Q 2.7 -4.284 2.544 -4.116 L 2.544 -1.032 Q 2.664 -0.828 2.892 -0.66 Q 3.12 -0.492 3.456 -0.492 Z \" /></symbol><use href=\"#STIXTwoMathRegular_3273\" x=\"249.91\" y=\"-65.36\" width=\"10.76\" height=\"85.36\" fill=\"black\" /><symbol id=\"STIXTwoMathRegular_3288\" viewBox=\"0 -31.524 6.144 51.216\"><path d=\"M 3.24 0.12 L 3.24 0.12 Q 1.824 0.12 1.08 -0.6 Q 0.336 -1.32 0.336 -2.88 Q 0.336 -3.72 0.648 -4.386 Q 0.96 -5.052 1.614 -5.436 Q 2.268 -5.82 3.276 -5.82 Q 4.716 -5.82 5.43 -5.064 Q 6.144 -4.308 6.144 -3.012 Q 6.144 -1.476 5.4 -0.678 Q 4.656 0.12 3.24 0.12 Z M 3.276 -0.468 L 3.276 -0.468 Q 3.876 -0.468 4.098 -1.074 Q 4.32 -1.68 4.32 -2.916 Q 4.32 -4.044 4.05 -4.644 Q 3.78 -5.244 3.18 -5.244 Q 2.604 -5.244 2.382 -4.638 Q 2.16 -4.032 2.16 -3 Q 2.16 -1.716 2.424 -1.092 Q 2.688 -0.468 3.276 -0.468 Z \" /></symbol><use href=\"#STIXTwoMathRegular_3288\" x=\"261.23\" y=\"-65.36\" width=\"10.24\" height=\"85.36\" fill=\"black\" /><symbol id=\"STIXTwoMathRegular_3285\" viewBox=\"0 -31.524 3.72 51.216\"><path d=\"M 3.72 0 L 3.72 0 L 0.216 0 L 0.216 -0.48 Q 0.612 -0.48 0.798 -0.558 Q 0.984 -0.636 1.038 -0.828 Q 1.092 -1.02 1.092 -1.344 L 1.092 -7.14 Q 1.092 -7.488 0.912 -7.566 Q 0.732 -7.644 0.504 -7.644 Q 0.36 -7.644 0.246 -7.632 Q 0.132 -7.62 0.132 -7.62 L 0.132 -8.1 L 2.016 -8.472 L 2.76 -8.472 L 2.76 -1.344 Q 2.76 -1.008 2.82 -0.816 Q 2.88 -0.624 3.084 -0.552 Q 3.288 -0.48 3.72 -0.48 Z \" /></symbol><use href=\"#STIXTwoMathRegular_3285\" x=\"272.03\" y=\"-65.36\" width=\"6.2\" height=\"85.36\" fill=\"black\" /><symbol id=\"STIXTwoMathRegular_3275\" viewBox=\"0 -31.524 6.852 51.216\"><path d=\"M 2.388 0.12 L 2.388 0.12 Q 1.704 0.12 1.248 -0.258 Q 0.792 -0.636 0.564 -1.266 Q 0.336 -1.896 0.336 -2.664 Q 0.336 -3.768 0.702 -4.464 Q 1.068 -5.16 1.686 -5.49 Q 2.304 -5.82 3.06 -5.82 Q 3.348 -5.82 3.654 -5.766 Q 3.96 -5.712 4.26 -5.556 L 4.26 -6.924 Q 4.26 -7.32 4.17 -7.434 Q 4.08 -7.548 3.732 -7.548 Q 3.648 -7.548 3.516 -7.542 Q 3.384 -7.536 3.384 -7.536 L 3.384 -8.052 L 5.304 -8.472 L 5.976 -8.472 L 5.976 -1.368 Q 5.976 -0.912 6.12 -0.774 Q 6.264 -0.636 6.6 -0.636 L 6.852 -0.636 L 6.852 -0.144 L 4.704 0.06 L 4.284 0.06 L 4.284 -0.708 L 4.236 -0.708 Q 3.9 -0.408 3.444 -0.144 Q 2.988 0.12 2.388 0.12 Z M 3.156 -0.876 L 3.156 -0.876 Q 3.504 -0.876 3.732 -0.99 Q 3.96 -1.104 4.26 -1.308 L 4.26 -4.212 Q 4.176 -4.536 3.924 -4.824 Q 3.672 -5.112 3.18 -5.112 Q 2.724 -5.112 2.46 -4.608 Q 2.196 -4.104 2.196 -3.024 Q 2.196 -1.896 2.436 -1.386 Q 2.676 -0.876 3.156 -0.876 Z \" /></symbol><use href=\"#STIXTwoMathRegular_3275\" x=\"278.57\" y=\"-65.36\" width=\"11.42\" height=\"85.36\" fill=\"black\" /></g></g></g><g><g><g><symbol id=\"STIXTwoMathRegular_3334\" viewBox=\"0 -31.524 3.06 51.216\"><path d=\"M 2.628 -5.712 L 2.628 -5.712 L 1.728 -1.44 Q 1.728 -1.44 1.698 -1.254 Q 1.668 -1.068 1.668 -0.936 Q 1.668 -0.708 1.884 -0.708 Q 2.196 -0.708 2.436 -0.942 Q 2.676 -1.176 2.82 -1.332 L 3.06 -1.152 Q 2.856 -0.864 2.616 -0.57 Q 2.376 -0.276 2.076 -0.084 Q 1.776 0.108 1.38 0.108 Q 0.624 0.108 0.624 -0.528 Q 0.624 -0.684 0.666 -0.93 Q 0.708 -1.176 0.828 -1.704 L 1.44 -4.56 Q 1.44 -4.56 1.458 -4.668 Q 1.476 -4.776 1.476 -4.932 Q 1.476 -5.052 1.404 -5.166 Q 1.332 -5.28 1.092 -5.28 Q 0.936 -5.28 0.81 -5.268 Q 0.684 -5.256 0.684 -5.256 L 0.684 -5.58 L 2.364 -5.712 Z M 2.916 -7.32 L 2.916 -7.32 Q 2.916 -7.02 2.724 -6.846 Q 2.532 -6.672 2.256 -6.672 Q 1.992 -6.672 1.812 -6.84 Q 1.632 -7.008 1.632 -7.32 Q 1.632 -7.632 1.812 -7.806 Q 1.992 -7.98 2.292 -7.98 Q 2.592 -7.98 2.754 -7.8 Q 2.916 -7.62 2.916 -7.32 Z \" /></symbol><use href=\"#STIXTwoMathRegular_3334\" x=\"357.19\" y=\"-65.38\" width=\"5.1\" height=\"85.36\" fill=\"black\" /><symbol id=\"STIXTwoMathRegular_3347\" viewBox=\"0 -31.524 3.804 51.216\"><path d=\"M 3.804 -5.604 L 3.804 -5.604 L 3.708 -5.136 L 2.496 -5.136 L 1.788 -1.56 Q 1.788 -1.56 1.746 -1.338 Q 1.704 -1.116 1.704 -0.96 Q 1.704 -0.864 1.746 -0.786 Q 1.788 -0.708 1.908 -0.708 Q 2.172 -0.708 2.394 -0.864 Q 2.616 -1.02 2.928 -1.428 L 3.168 -1.248 Q 3 -1.02 2.76 -0.696 Q 2.52 -0.372 2.184 -0.132 Q 1.848 0.108 1.368 0.108 Q 0.996 0.108 0.816 -0.072 Q 0.636 -0.252 0.636 -0.528 Q 0.636 -0.684 0.672 -0.906 Q 0.708 -1.128 0.72 -1.212 L 1.536 -5.136 L 0.852 -5.136 L 0.9 -5.388 Q 1.284 -5.592 1.542 -5.784 Q 1.8 -5.976 2.034 -6.288 Q 2.268 -6.6 2.568 -7.116 L 2.928 -7.116 L 2.592 -5.604 Z \" /></symbol><use href=\"#STIXTwoMathRegular_3347\" x=\"362.67\" y=\"-65.38\" width=\"6.34\" height=\"85.36\" fill=\"black\" /><symbol id=\"STIXTwoMathRegular_3326\" viewBox=\"0 -31.524 6.468 51.216\"><path d=\"M 6.024 -5.664 L 6.024 -5.664 L 5.16 -1.416 Q 5.16 -1.416 5.13 -1.26 Q 5.1 -1.104 5.1 -0.972 Q 5.1 -0.852 5.148 -0.786 Q 5.196 -0.72 5.34 -0.72 Q 5.532 -0.72 5.706 -0.834 Q 5.88 -0.948 6.018 -1.098 Q 6.156 -1.248 6.228 -1.344 L 6.468 -1.164 Q 6.096 -0.588 5.688 -0.234 Q 5.28 0.12 4.74 0.12 Q 4.068 0.12 4.068 -0.456 Q 4.068 -0.588 4.098 -0.726 Q 4.128 -0.864 4.152 -1.02 L 4.068 -1.02 Q 3.12 0.144 2.064 0.144 Q 1.416 0.144 1.002 -0.36 Q 0.588 -0.864 0.588 -1.908 Q 0.588 -2.724 0.846 -3.426 Q 1.104 -4.128 1.536 -4.65 Q 1.968 -5.172 2.52 -5.46 Q 3.072 -5.748 3.66 -5.748 Q 4.14 -5.748 4.428 -5.568 Q 4.716 -5.388 4.908 -5.112 L 4.956 -5.112 L 5.388 -5.664 Z M 4.668 -4.128 L 4.668 -4.128 Q 4.668 -4.608 4.398 -4.95 Q 4.128 -5.292 3.624 -5.292 Q 3.18 -5.292 2.814 -5.01 Q 2.448 -4.728 2.19 -4.26 Q 1.932 -3.792 1.794 -3.21 Q 1.656 -2.628 1.656 -2.028 Q 1.656 -1.2 1.914 -0.924 Q 2.172 -0.648 2.616 -0.648 Q 3.216 -0.648 3.624 -1.026 Q 4.032 -1.404 4.296 -2.172 Q 4.416 -2.532 4.5 -2.91 Q 4.584 -3.288 4.626 -3.618 Q 4.668 -3.948 4.668 -4.128 Z \" /></symbol><use href=\"#STIXTwoMathRegular_3326\" x=\"369.43\" y=\"-65.38\" width=\"10.78\" height=\"85.36\" fill=\"black\" /><symbol id=\"STIXTwoMathRegular_3339\" viewBox=\"0 -31.524 3.072 51.216\"><path d=\"M 3.072 -8.46 L 3.072 -8.46 L 1.752 -1.44 Q 1.752 -1.44 1.722 -1.254 Q 1.692 -1.068 1.692 -0.936 Q 1.692 -0.708 1.908 -0.708 Q 2.22 -0.708 2.448 -0.942 Q 2.676 -1.176 2.82 -1.332 L 3.06 -1.152 Q 2.856 -0.864 2.616 -0.57 Q 2.376 -0.276 2.076 -0.084 Q 1.776 0.108 1.38 0.108 Q 0.624 0.108 0.624 -0.528 Q 0.624 -0.732 0.672 -1.038 Q 0.72 -1.344 0.792 -1.728 L 1.896 -7.296 Q 1.896 -7.296 1.914 -7.416 Q 1.932 -7.536 1.932 -7.68 Q 1.932 -7.8 1.866 -7.92 Q 1.8 -8.04 1.56 -8.04 Q 1.404 -8.04 1.278 -8.028 Q 1.152 -8.016 1.152 -8.016 L 1.152 -8.328 L 2.808 -8.46 Z \" /></symbol><use href=\"#STIXTwoMathRegular_3339\" x=\"380.53\" y=\"-65.38\" width=\"5.12\" height=\"85.36\" fill=\"black\" /><use href=\"#STIXTwoMathRegular_3334\" x=\"386.09\" y=\"-65.38\" width=\"5.1\" height=\"85.36\" fill=\"black\" /><symbol id=\"STIXTwoMathRegular_3328\" viewBox=\"0 -31.524 4.848 51.216\"><path d=\"M 4.296 -1.476 L 4.296 -1.476 L 4.5 -1.296 Q 4.128 -0.72 3.546 -0.288 Q 2.964 0.144 2.148 0.144 Q 1.5 0.144 1.092 -0.144 Q 0.684 -0.432 0.498 -0.93 Q 0.312 -1.428 0.312 -2.028 Q 0.312 -2.772 0.564 -3.444 Q 0.816 -4.116 1.254 -4.632 Q 1.692 -5.148 2.262 -5.448 Q 2.832 -5.748 3.48 -5.748 Q 4.044 -5.748 4.446 -5.484 Q 4.848 -5.22 4.848 -4.632 Q 4.848 -4.272 4.68 -4.02 Q 4.512 -3.768 4.176 -3.768 Q 3.72 -3.768 3.72 -4.188 Q 3.72 -4.428 3.834 -4.656 Q 3.948 -4.884 3.948 -5.028 Q 3.948 -5.16 3.798 -5.256 Q 3.648 -5.352 3.36 -5.352 Q 2.868 -5.352 2.484 -5.064 Q 2.1 -4.776 1.836 -4.302 Q 1.572 -3.828 1.44 -3.282 Q 1.308 -2.736 1.308 -2.208 Q 1.308 -1.572 1.494 -1.242 Q 1.68 -0.912 1.98 -0.798 Q 2.28 -0.684 2.628 -0.684 Q 3.252 -0.684 3.636 -0.912 Q 4.02 -1.14 4.296 -1.476 Z \" /></symbol><use href=\"#STIXTwoMathRegular_3328\" x=\"391.57\" y=\"-65.38\" width=\"8.08\" height=\"85.36\" fill=\"black\" /></g></g></g></svg>'"
      ]
     },
     "execution_count": 18,
     "metadata": {},
     "output_type": "execute_result"
    }
   ],
   "source": [
    "d.get_imagedata('svg').decode()"
   ]
  },
  {
   "cell_type": "code",
   "execution_count": 19,
   "id": "e44fce8c",
   "metadata": {},
   "outputs": [],
   "source": [
    "schemdraw.svgconfig.text = 'path'\n",
    "d = schemdraw.Drawing(font='serif', fontsize=20)\n",
    "d += elm.Resistor().label(r'$x^2$', valign='bottom')\n",
    "d.draw(canvas='svg')\n",
    "assert '<symbol' in d.get_imagedata('svg').decode()"
   ]
  },
  {
   "cell_type": "code",
   "execution_count": 20,
   "id": "ad6bdb8c",
   "metadata": {},
   "outputs": [],
   "source": [
    "schemdraw.svgconfig.svg2 = False   # use ziamath with SVG1.x\n",
    "d = schemdraw.Drawing(font='serif', fontsize=20)\n",
    "d += elm.Resistor().label(r'$x^2$', valign='bottom')\n",
    "d.draw(canvas='svg')\n",
    "d.get_imagedata('svg').decode()\n",
    "assert '<symbol' not in d.get_imagedata('svg').decode()"
   ]
  },
  {
   "cell_type": "code",
   "execution_count": 21,
   "id": "4f7a20a8",
   "metadata": {},
   "outputs": [],
   "source": [
    "schemdraw.svgconfig.text = 'text'   # use <text>\n",
    "d = schemdraw.Drawing(font='serif', fontsize=20)\n",
    "d += elm.Resistor().label(r'$x^2$', valign='bottom')\n",
    "d.draw(canvas='svg')\n",
    "assert '<text' in d.get_imagedata('svg').decode()"
   ]
  },
  {
   "cell_type": "code",
   "execution_count": null,
   "id": "26e1c624-365d-45e4-830b-6f9e87f81e1e",
   "metadata": {},
   "outputs": [],
   "source": []
  },
  {
   "cell_type": "code",
   "execution_count": 22,
   "id": "28267d40",
   "metadata": {},
   "outputs": [],
   "source": [
    "schemdraw.svgconfig.text = 'path'\n",
    "schemdraw.svgconfig.svg2 = True"
   ]
  },
  {
   "cell_type": "code",
   "execution_count": null,
   "id": "874e5110",
   "metadata": {},
   "outputs": [],
   "source": []
  },
  {
   "cell_type": "code",
   "execution_count": 23,
   "id": "4d6c2d77",
   "metadata": {},
   "outputs": [],
   "source": [
    "# Draw on matplotlib axis, or specify existing axis\n",
    "import matplotlib.pyplot as plt"
   ]
  },
  {
   "cell_type": "code",
   "execution_count": 24,
   "id": "782d3764",
   "metadata": {},
   "outputs": [
    {
     "data": {
      "image/png": "[encoded data removed]",
      "image/svg+xml": [
       "<?xml version=\"1.0\" encoding=\"utf-8\" standalone=\"no\"?>\n",
       "<!DOCTYPE svg PUBLIC \"-//W3C//DTD SVG 1.1//EN\"\n",
       "  \"http://www.w3.org/Graphics/SVG/1.1/DTD/svg11.dtd\">\n",
       "<svg xmlns:xlink=\"http://www.w3.org/1999/xlink\" width=\"117.36pt\" height=\"27.36pt\" viewBox=\"0 0 117.36 27.36\" xmlns=\"http://www.w3.org/2000/svg\" version=\"1.1\">\n",
       " <metadata>\n",
       "  <rdf:RDF xmlns:dc=\"http://purl.org/dc/elements/1.1/\" xmlns:cc=\"http://creativecommons.org/ns#\" xmlns:rdf=\"http://www.w3.org/1999/02/22-rdf-syntax-ns#\">\n",
       "   <cc:Work>\n",
       "    <dc:type rdf:resource=\"http://purl.org/dc/dcmitype/StillImage\"/>\n",
       "    <dc:date>2025-07-27T10:57:13.529697</dc:date>\n",
       "    <dc:format>image/svg+xml</dc:format>\n",
       "    <dc:creator>\n",
       "     <cc:Agent>\n",
       "      <dc:title>Matplotlib v3.8.4, https://matplotlib.org/</dc:title>\n",
       "     </cc:Agent>\n",
       "    </dc:creator>\n",
       "   </cc:Work>\n",
       "  </rdf:RDF>\n",
       " </metadata>\n",
       " <defs>\n",
       "  <style type=\"text/css\">*{stroke-linejoin: round; stroke-linecap: butt}</style>\n",
       " </defs>\n",
       " <g id=\"figure_1\">\n",
       "  <g id=\"patch_1\">\n",
       "   <path d=\"M 0 27.36 \n",
       "L 117.36 27.36 \n",
       "L 117.36 0 \n",
       "L 0 0 \n",
       "z\n",
       "\" style=\"fill: #ffffff\"/>\n",
       "  </g>\n",
       "  <g id=\"axes_1\">\n",
       "   <g id=\"line2d_1\">\n",
       "    <path d=\"M 4.68 13.68 \n",
       "L 40.68 13.68 \n",
       "L 43.68 4.68 \n",
       "L 49.68 22.68 \n",
       "L 55.68 4.68 \n",
       "L 61.68 22.68 \n",
       "L 67.68 4.68 \n",
       "L 73.68 22.68 \n",
       "L 76.68 13.68 \n",
       "L 112.68 13.68 \n",
       "\" clip-path=\"url(#p7039f1daaf)\" style=\"fill: none; stroke: #000000; stroke-width: 2; stroke-linecap: round\"/>\n",
       "   </g>\n",
       "   <g id=\"line2d_2\">\n",
       "    <path d=\"M 22.68 27.36 \n",
       "L 22.68 -0 \n",
       "\" clip-path=\"url(#p7039f1daaf)\" style=\"fill: none; stroke-dasharray: 5.55,2.4; stroke-dashoffset: 0; stroke: #800080; stroke-width: 1.5\"/>\n",
       "   </g>\n",
       "   <g id=\"line2d_3\">\n",
       "    <path d=\"M 94.68 27.36 \n",
       "L 94.68 -0 \n",
       "\" clip-path=\"url(#p7039f1daaf)\" style=\"fill: none; stroke: #ffa500; stroke-width: 3; stroke-linecap: square\"/>\n",
       "   </g>\n",
       "  </g>\n",
       " </g>\n",
       " <defs>\n",
       "  <clipPath id=\"p7039f1daaf\">\n",
       "   <rect x=\"0\" y=\"-0\" width=\"117.36\" height=\"27.36\"/>\n",
       "  </clipPath>\n",
       " </defs>\n",
       "</svg>\n"
      ],
      "text/plain": [
       "<schemdraw.backends.mpl.Figure object at 0x7dd7d4cedad0>"
      ]
     },
     "metadata": {},
     "output_type": "display_data"
    }
   ],
   "source": [
    "schemdraw.use('matplotlib')\n",
    "d = schemdraw.Drawing()\n",
    "d.add(elm.Resistor())\n",
    "schemfig = d.draw()\n",
    "schemfig.ax.axvline(.5, color='purple', ls='--')\n",
    "schemfig.ax.axvline(2.5, color='orange', ls='-', lw=3);\n",
    "display(schemfig)"
   ]
  },
  {
   "cell_type": "code",
   "execution_count": 25,
   "id": "842379a0",
   "metadata": {},
   "outputs": [
    {
     "data": {
      "image/png": "[encoded data removed]",
      "text/plain": [
       "<Figure size 640x480 with 1 Axes>"
      ]
     },
     "metadata": {},
     "output_type": "display_data"
    }
   ],
   "source": [
    "fig, ax = plt.subplots()\n",
    "ax.set_aspect('equal')\n",
    "d = schemdraw.Drawing()\n",
    "d += elm.Inductor()\n",
    "d.draw(canvas=ax)\n",
    "ax.axvline(0, ls='--', color='red');"
   ]
  },
  {
   "cell_type": "code",
   "execution_count": 26,
   "id": "f9ca19c3",
   "metadata": {},
   "outputs": [
    {
     "data": {
      "image/png": "[encoded data removed]",
      "image/svg+xml": [
       "<?xml version=\"1.0\" encoding=\"utf-8\" standalone=\"no\"?>\n",
       "<!DOCTYPE svg PUBLIC \"-//W3C//DTD SVG 1.1//EN\"\n",
       "  \"http://www.w3.org/Graphics/SVG/1.1/DTD/svg11.dtd\">\n",
       "<svg xmlns:xlink=\"http://www.w3.org/1999/xlink\" width=\"117.36pt\" height=\"27.350752pt\" viewBox=\"0 0 117.36 27.350752\" xmlns=\"http://www.w3.org/2000/svg\" version=\"1.1\">\n",
       " <metadata>\n",
       "  <rdf:RDF xmlns:dc=\"http://purl.org/dc/elements/1.1/\" xmlns:cc=\"http://creativecommons.org/ns#\" xmlns:rdf=\"http://www.w3.org/1999/02/22-rdf-syntax-ns#\">\n",
       "   <cc:Work>\n",
       "    <dc:type rdf:resource=\"http://purl.org/dc/dcmitype/StillImage\"/>\n",
       "    <dc:date>2025-07-27T10:57:13.627942</dc:date>\n",
       "    <dc:format>image/svg+xml</dc:format>\n",
       "    <dc:creator>\n",
       "     <cc:Agent>\n",
       "      <dc:title>Matplotlib v3.8.4, https://matplotlib.org/</dc:title>\n",
       "     </cc:Agent>\n",
       "    </dc:creator>\n",
       "   </cc:Work>\n",
       "  </rdf:RDF>\n",
       " </metadata>\n",
       " <defs>\n",
       "  <style type=\"text/css\">*{stroke-linejoin: round; stroke-linecap: butt}</style>\n",
       " </defs>\n",
       " <g id=\"figure_1\">\n",
       "  <g id=\"patch_1\">\n",
       "   <path d=\"M 0 27.350752 \n",
       "L 117.36 27.350752 \n",
       "L 117.36 0 \n",
       "L 0 0 \n",
       "z\n",
       "\"/>\n",
       "  </g>\n",
       "  <g id=\"axes_1\">\n",
       "   <g id=\"line2d_1\">\n",
       "    <path d=\"M 4.68 13.675376 \n",
       "L 42.84 13.675376 \n",
       "L 43.486531 12.524481 \n",
       "L 44.133061 11.392485 \n",
       "L 44.779592 10.297973 \n",
       "L 45.426122 9.258918 \n",
       "L 46.072653 8.292381 \n",
       "L 46.719184 7.414233 \n",
       "L 47.365714 6.638893 \n",
       "L 48.012245 5.979091 \n",
       "L 48.658776 5.445662 \n",
       "L 49.305306 5.047365 \n",
       "L 49.951837 4.79074 \n",
       "L 50.598367 4.68 \n",
       "L 51.244898 4.716964 \n",
       "L 51.891429 4.901025 \n",
       "L 52.537959 5.22916 \n",
       "L 53.18449 5.695982 \n",
       "L 53.83102 6.293826 \n",
       "L 54.477551 7.012874 \n",
       "L 55.124082 7.84132 \n",
       "L 55.770612 8.765562 \n",
       "L 56.417143 9.770422 \n",
       "L 57.063673 10.839402 \n",
       "L 57.710204 11.954948 \n",
       "L 58.356735 13.098744 \n",
       "L 59.003265 14.252008 \n",
       "L 59.649796 15.395804 \n",
       "L 60.296327 16.51135 \n",
       "L 60.942857 17.58033 \n",
       "L 61.589388 18.58519 \n",
       "L 62.235918 19.509432 \n",
       "L 62.882449 20.337878 \n",
       "L 63.52898 21.056926 \n",
       "L 64.17551 21.65477 \n",
       "L 64.822041 22.121592 \n",
       "L 65.468571 22.449727 \n",
       "L 66.115102 22.633788 \n",
       "L 66.761633 22.670752 \n",
       "L 67.408163 22.560012 \n",
       "L 68.054694 22.303387 \n",
       "L 68.701224 21.90509 \n",
       "L 69.347755 21.371661 \n",
       "L 69.994286 20.711859 \n",
       "L 70.640816 19.936519 \n",
       "L 71.287347 19.058371 \n",
       "L 71.933878 18.091834 \n",
       "L 72.580408 17.052779 \n",
       "L 73.226939 15.958267 \n",
       "L 73.873469 14.82627 \n",
       "L 74.52 13.675376 \n",
       "L 112.68 13.675376 \n",
       "\" clip-path=\"url(#p4aefa5e758)\" style=\"fill: none; stroke: #ffffff; stroke-width: 2; stroke-linecap: round\"/>\n",
       "   </g>\n",
       "   <g id=\"line2d_2\">\n",
       "    <path d=\"M 34.2 13.675376 \n",
       "M 83.16 13.675376 \n",
       "\" clip-path=\"url(#p4aefa5e758)\" style=\"fill: none; stroke: #ffffff; stroke-width: 2; stroke-linecap: round\"/>\n",
       "   </g>\n",
       "   <g id=\"patch_2\">\n",
       "    <path d=\"M 38.52 17.995376 \n",
       "C 39.665677 17.995376 40.764585 17.540193 41.574701 16.730077 \n",
       "C 42.384818 15.919961 42.84 14.821053 42.84 13.675376 \n",
       "C 42.84 12.529699 42.384818 11.430791 41.574701 10.620675 \n",
       "C 40.764585 9.810558 39.665677 9.355376 38.52 9.355376 \n",
       "C 37.374323 9.355376 36.275415 9.810558 35.465299 10.620675 \n",
       "C 34.655182 11.430791 34.2 12.529699 34.2 13.675376 \n",
       "C 34.2 14.821053 34.655182 15.919961 35.465299 16.730077 \n",
       "C 36.275415 17.540193 37.374323 17.995376 38.52 17.995376 \n",
       "z\n",
       "\" clip-path=\"url(#p4aefa5e758)\" style=\"stroke: #ffffff; stroke-width: 2; stroke-linejoin: miter\"/>\n",
       "   </g>\n",
       "   <g id=\"patch_3\">\n",
       "    <path d=\"M 78.84 17.995376 \n",
       "C 79.985677 17.995376 81.084585 17.540193 81.894701 16.730077 \n",
       "C 82.704818 15.919961 83.16 14.821053 83.16 13.675376 \n",
       "C 83.16 12.529699 82.704818 11.430791 81.894701 10.620675 \n",
       "C 81.084585 9.810558 79.985677 9.355376 78.84 9.355376 \n",
       "C 77.694323 9.355376 76.595415 9.810558 75.785299 10.620675 \n",
       "C 74.975182 11.430791 74.52 12.529699 74.52 13.675376 \n",
       "C 74.52 14.821053 74.975182 15.919961 75.785299 16.730077 \n",
       "C 76.595415 17.540193 77.694323 17.995376 78.84 17.995376 \n",
       "z\n",
       "\" clip-path=\"url(#p4aefa5e758)\" style=\"stroke: #ffffff; stroke-width: 2; stroke-linejoin: miter\"/>\n",
       "   </g>\n",
       "  </g>\n",
       " </g>\n",
       " <defs>\n",
       "  <clipPath id=\"p4aefa5e758\">\n",
       "   <rect x=\"0\" y=\"0\" width=\"117.36\" height=\"27.350752\"/>\n",
       "  </clipPath>\n",
       " </defs>\n",
       "</svg>\n"
      ],
      "text/plain": [
       "<schemdraw.backends.mpl.Figure object at 0x7dd7d4014bd0>"
      ]
     },
     "execution_count": 26,
     "metadata": {},
     "output_type": "execute_result"
    }
   ],
   "source": [
    "schemdraw.theme('dark')\n",
    "d = schemdraw.Drawing()\n",
    "d += elm.FuseUS()\n",
    "d.draw()"
   ]
  },
  {
   "cell_type": "code",
   "execution_count": 27,
   "id": "2ea55813",
   "metadata": {},
   "outputs": [],
   "source": [
    "d.save('testMPL.png')"
   ]
  },
  {
   "cell_type": "code",
   "execution_count": null,
   "id": "828a22f1",
   "metadata": {},
   "outputs": [],
   "source": []
  },
  {
   "cell_type": "code",
   "execution_count": 28,
   "id": "92a13128",
   "metadata": {},
   "outputs": [
    {
     "data": {
      "image/png": "[encoded data removed]",
      "image/svg+xml": [
       "<?xml version=\"1.0\" encoding=\"utf-8\" standalone=\"no\"?>\n",
       "<!DOCTYPE svg PUBLIC \"-//W3C//DTD SVG 1.1//EN\"\n",
       "  \"http://www.w3.org/Graphics/SVG/1.1/DTD/svg11.dtd\">\n",
       "<svg xmlns:xlink=\"http://www.w3.org/1999/xlink\" width=\"225.36pt\" height=\"27.36pt\" viewBox=\"0 0 225.36 27.36\" xmlns=\"http://www.w3.org/2000/svg\" version=\"1.1\">\n",
       " <metadata>\n",
       "  <rdf:RDF xmlns:dc=\"http://purl.org/dc/elements/1.1/\" xmlns:cc=\"http://creativecommons.org/ns#\" xmlns:rdf=\"http://www.w3.org/1999/02/22-rdf-syntax-ns#\">\n",
       "   <cc:Work>\n",
       "    <dc:type rdf:resource=\"http://purl.org/dc/dcmitype/StillImage\"/>\n",
       "    <dc:date>2025-07-27T10:57:13.665431</dc:date>\n",
       "    <dc:format>image/svg+xml</dc:format>\n",
       "    <dc:creator>\n",
       "     <cc:Agent>\n",
       "      <dc:title>Matplotlib v3.8.4, https://matplotlib.org/</dc:title>\n",
       "     </cc:Agent>\n",
       "    </dc:creator>\n",
       "   </cc:Work>\n",
       "  </rdf:RDF>\n",
       " </metadata>\n",
       " <defs>\n",
       "  <style type=\"text/css\">*{stroke-linejoin: round; stroke-linecap: butt}</style>\n",
       " </defs>\n",
       " <g id=\"figure_1\">\n",
       "  <g id=\"patch_1\">\n",
       "   <path d=\"M 0 27.36 \n",
       "L 225.36 27.36 \n",
       "L 225.36 0 \n",
       "L 0 0 \n",
       "z\n",
       "\"/>\n",
       "  </g>\n",
       "  <g id=\"axes_1\">\n",
       "   <g id=\"line2d_1\">\n",
       "    <path d=\"M 4.68 13.68 \n",
       "L 40.68 13.68 \n",
       "L 43.68 4.68 \n",
       "L 49.68 22.68 \n",
       "L 55.68 4.68 \n",
       "L 61.68 22.68 \n",
       "L 67.68 4.68 \n",
       "L 73.68 22.68 \n",
       "L 76.68 13.68 \n",
       "L 112.68 13.68 \n",
       "\" clip-path=\"url(#p09ad2291ee)\" style=\"fill: none; stroke: #ffffff; stroke-width: 2\"/>\n",
       "   </g>\n",
       "   <g id=\"line2d_2\">\n",
       "    <path d=\"M 112.68 13.68 \n",
       "L 148.68 13.68 \n",
       "L 151.68 4.68 \n",
       "L 157.68 22.68 \n",
       "L 163.68 4.68 \n",
       "L 169.68 22.68 \n",
       "L 175.68 4.68 \n",
       "L 181.68 22.68 \n",
       "L 184.68 13.68 \n",
       "L 220.68 13.68 \n",
       "\" clip-path=\"url(#p09ad2291ee)\" style=\"fill: none; stroke: #ffffff; stroke-width: 2; stroke-linecap: square\"/>\n",
       "   </g>\n",
       "  </g>\n",
       " </g>\n",
       " <defs>\n",
       "  <clipPath id=\"p09ad2291ee\">\n",
       "   <rect x=\"0\" y=\"-0\" width=\"225.36\" height=\"27.36\"/>\n",
       "  </clipPath>\n",
       " </defs>\n",
       "</svg>\n"
      ],
      "text/plain": [
       "<schemdraw.backends.mpl.Figure object at 0x7dd7d3e03590>"
      ]
     },
     "execution_count": 28,
     "metadata": {},
     "output_type": "execute_result"
    }
   ],
   "source": [
    "# Capstyle names are different in SVG vs Matplotlib\n",
    "# projecting == butt\n",
    "d = schemdraw.Drawing()\n",
    "d += elm.Resistor(capstyle='butt')\n",
    "d += elm.Resistor(capstyle='projecting')\n",
    "d.draw()"
   ]
  },
  {
   "cell_type": "code",
   "execution_count": 29,
   "id": "1735cb1a",
   "metadata": {},
   "outputs": [
    {
     "data": {
      "image/svg+xml": [
       "<svg xmlns=\"http://www.w3.org/2000/svg\" xmlns:xlink=\"http://www.w3.org/1999/xlink\" xml:lang=\"en\" height=\"27.2pt\" width=\"225.20000000000005pt\" viewBox=\"-4.6 -13.6 225.20000000000005 27.2\" style=\"background-color:black;\"><path d=\"M 0.0,-0.0 L 36.0,-0.0 L 39.0,-9.0 L 45.0,9.0 L 50.99999999999999,-9.0 L 57.0,9.0 L 63.0,-9.0 L 69.0,9.0 L 72.0,-0.0 L 108.0,-0.0\" style=\"stroke:white;fill:none;stroke-width:2.0;stroke-dasharray:-;stroke-linecap:butt;stroke-linejoin:round;\" /><path d=\"M 108.0,-0.0 L 144.0,-0.0 L 147.0,-9.0 L 153.0,9.0 L 158.99999999999997,-9.0 L 165.0,9.0 L 171.0,-9.0 L 176.99999999999997,9.0 L 180.0,-0.0 L 216.0,-0.0\" style=\"stroke:white;fill:none;stroke-width:2.0;stroke-dasharray:-;stroke-linecap:square;stroke-linejoin:round;\" /></svg>"
      ],
      "text/plain": [
       "<svg xmlns=\"http://www.w3.org/2000/svg\" xmlns:xlink=\"http://www.w3.org/1999/xlink\" xml:lang=\"en\" height=\"27.2pt\" width=\"225.20000000000005pt\" viewBox=\"-4.6 -13.6 225.20000000000005 27.2\" style=\"background-color:black;\"><path d=\"M 0.0,-0.0 L 36.0,-0.0 L 39.0,-9.0 L 45.0,9.0 L 50.99999999999999,-9.0 L 57.0,9.0 L 63.0,-9.0 L 69.0,9.0 L 72.0,-0.0 L 108.0,-0.0\" style=\"stroke:white;fill:none;stroke-width:2.0;stroke-dasharray:-;stroke-linecap:butt;stroke-linejoin:round;\" /><path d=\"M 108.0,-0.0 L 144.0,-0.0 L 147.0,-9.0 L 153.0,9.0 L 158.99999999999997,-9.0 L 165.0,9.0 L 171.0,-9.0 L 176.99999999999997,9.0 L 180.0,-0.0 L 216.0,-0.0\" style=\"stroke:white;fill:none;stroke-width:2.0;stroke-dasharray:-;stroke-linecap:square;stroke-linejoin:round;\" /></svg>"
      ]
     },
     "execution_count": 29,
     "metadata": {},
     "output_type": "execute_result"
    }
   ],
   "source": [
    "d = schemdraw.Drawing()\n",
    "d += elm.Resistor(capstyle='butt')\n",
    "d += elm.Resistor(capstyle='projecting')\n",
    "d.draw(canvas='svg')"
   ]
  },
  {
   "cell_type": "code",
   "execution_count": null,
   "id": "0ef22aaa",
   "metadata": {},
   "outputs": [],
   "source": []
  },
  {
   "cell_type": "code",
   "execution_count": 30,
   "id": "b0d0afef",
   "metadata": {},
   "outputs": [
    {
     "data": {
      "image/png": "[encoded data removed]",
      "image/svg+xml": [
       "<?xml version=\"1.0\" encoding=\"utf-8\" standalone=\"no\"?>\n",
       "<!DOCTYPE svg PUBLIC \"-//W3C//DTD SVG 1.1//EN\"\n",
       "  \"http://www.w3.org/Graphics/SVG/1.1/DTD/svg11.dtd\">\n",
       "<svg xmlns:xlink=\"http://www.w3.org/1999/xlink\" width=\"36.42pt\" height=\"59.52pt\" viewBox=\"0 0 36.42 59.52\" xmlns=\"http://www.w3.org/2000/svg\" version=\"1.1\">\n",
       " <metadata>\n",
       "  <rdf:RDF xmlns:dc=\"http://purl.org/dc/elements/1.1/\" xmlns:cc=\"http://creativecommons.org/ns#\" xmlns:rdf=\"http://www.w3.org/1999/02/22-rdf-syntax-ns#\">\n",
       "   <cc:Work>\n",
       "    <dc:type rdf:resource=\"http://purl.org/dc/dcmitype/StillImage\"/>\n",
       "    <dc:date>2025-07-27T10:57:13.700421</dc:date>\n",
       "    <dc:format>image/svg+xml</dc:format>\n",
       "    <dc:creator>\n",
       "     <cc:Agent>\n",
       "      <dc:title>Matplotlib v3.8.4, https://matplotlib.org/</dc:title>\n",
       "     </cc:Agent>\n",
       "    </dc:creator>\n",
       "   </cc:Work>\n",
       "  </rdf:RDF>\n",
       " </metadata>\n",
       " <defs>\n",
       "  <style type=\"text/css\">*{stroke-linejoin: round; stroke-linecap: butt}</style>\n",
       " </defs>\n",
       " <g id=\"figure_1\">\n",
       "  <g id=\"patch_1\">\n",
       "   <path d=\"M 0 59.52 \n",
       "L 36.42 59.52 \n",
       "L 36.42 0 \n",
       "L 0 0 \n",
       "z\n",
       "\" style=\"fill: #ffffff\"/>\n",
       "  </g>\n",
       "  <g id=\"axes_1\">\n",
       "   <g id=\"line2d_1\">\n",
       "    <path d=\"M 4.68 29.76 \n",
       "L 17.88 29.76 \n",
       "\" clip-path=\"url(#p8cf7e912e8)\" style=\"fill: none; stroke: #000000; stroke-width: 2; stroke-linecap: round\"/>\n",
       "   </g>\n",
       "   <g id=\"line2d_2\">\n",
       "    <path d=\"M 17.88 16.56 \n",
       "L 17.88 42.96 \n",
       "\" clip-path=\"url(#p8cf7e912e8)\" style=\"fill: none; stroke: #000000; stroke-width: 2; stroke-linecap: round\"/>\n",
       "   </g>\n",
       "   <g id=\"line2d_3\">\n",
       "    <path d=\"M 17.88 23.16 \n",
       "L 31.74 11.28 \n",
       "L 31.74 4.68 \n",
       "\" clip-path=\"url(#p8cf7e912e8)\" style=\"fill: none; stroke: #000000; stroke-width: 2; stroke-linecap: round\"/>\n",
       "   </g>\n",
       "   <g id=\"line2d_4\">\n",
       "    <path d=\"M 17.88 36.36 \n",
       "L 31.74 48.24 \n",
       "L 31.74 54.84 \n",
       "\" clip-path=\"url(#p8cf7e912e8)\" style=\"fill: none; stroke: #000000; stroke-width: 2; stroke-linecap: round\"/>\n",
       "   </g>\n",
       "   <g id=\"line2d_5\">\n",
       "    <path d=\"M 4.68 54.84 \n",
       "L 31.74 54.84 \n",
       "L 31.74 4.68 \n",
       "L 4.68 4.68 \n",
       "L 4.68 54.84 \n",
       "\" clip-path=\"url(#p8cf7e912e8)\" style=\"fill: none; stroke: #0000ff; stroke-width: 0.5; stroke-linecap: round\"/>\n",
       "   </g>\n",
       "   <g id=\"line2d_6\">\n",
       "    <path d=\"M 4.68 54.84 \n",
       "L 4.68 4.68 \n",
       "L 31.74 4.68 \n",
       "L 31.74 54.84 \n",
       "L 4.68 54.84 \n",
       "\" clip-path=\"url(#p8cf7e912e8)\" style=\"fill: none; stroke: #ff0000; stroke-width: 0.5; stroke-linecap: round\"/>\n",
       "   </g>\n",
       "   <g id=\"line2d_7\">\n",
       "    <path d=\"M 0 59.52 \n",
       "L 0 -0 \n",
       "L 36.42 -0 \n",
       "L 36.42 59.52 \n",
       "L 0 59.52 \n",
       "\" clip-path=\"url(#p8cf7e912e8)\" style=\"fill: none; stroke: #000000; stroke-width: 0.5; stroke-linecap: round\"/>\n",
       "   </g>\n",
       "  </g>\n",
       " </g>\n",
       " <defs>\n",
       "  <clipPath id=\"p8cf7e912e8\">\n",
       "   <rect x=\"0\" y=\"-0\" width=\"36.42\" height=\"59.52\"/>\n",
       "  </clipPath>\n",
       " </defs>\n",
       "</svg>\n"
      ],
      "text/plain": [
       "<schemdraw.backends.mpl.Figure object at 0x7dd7d3fd9950>"
      ]
     },
     "execution_count": 30,
     "metadata": {},
     "output_type": "execute_result"
    }
   ],
   "source": [
    "schemdraw.theme('default')\n",
    "schemdraw.debug()\n",
    "d = schemdraw.Drawing()\n",
    "d += elm.Bjt()\n",
    "d.draw(canvas='matplotlib')"
   ]
  },
  {
   "cell_type": "code",
   "execution_count": 31,
   "id": "4c03a06a",
   "metadata": {},
   "outputs": [
    {
     "data": {
      "image/svg+xml": [
       "<svg xmlns=\"http://www.w3.org/2000/svg\" xmlns:xlink=\"http://www.w3.org/1999/xlink\" xml:lang=\"en\" height=\"124.16pt\" width=\"101.05999999999999pt\" viewBox=\"-37.0 -62.08 101.05999999999999 124.16\" style=\"background-color:white;\"><rect x=\"-37.0\" y=\"-62.08\" width=\"101.05999999999999\" height=\"124.16\" style=\"fill:none; stroke-width:0.5; stroke:black;\" /><rect x=\"0.0\" y=\"-25.080000000000005\" width=\"27.059999999999995\" height=\"50.16000000000001\" style=\"fill:none; stroke-width:1; stroke:red;\" /><path d=\"M 0.0,-0.0 L 13.2,-0.0\" style=\"stroke:black;fill:none;stroke-width:2.0;stroke-dasharray:-;stroke-linecap:round;stroke-linejoin:round;\" /><path d=\"M 13.2,-13.2 L 13.2,13.2\" style=\"stroke:black;fill:none;stroke-width:2.0;stroke-dasharray:-;stroke-linecap:round;stroke-linejoin:round;\" /><path d=\"M 13.2,-6.6 L 27.06,-18.48 L 27.06,-25.08\" style=\"stroke:black;fill:none;stroke-width:2.0;stroke-dasharray:-;stroke-linecap:round;stroke-linejoin:round;\" /><path d=\"M 13.2,6.6 L 27.06,18.48 L 27.06,25.08\" style=\"stroke:black;fill:none;stroke-width:2.0;stroke-dasharray:-;stroke-linecap:round;stroke-linejoin:round;\" /><path d=\"M 0.0,25.08 L 27.06,25.08 L 27.06,-25.08 L 0.0,-25.08 L 0.0,25.08\" style=\"stroke:blue;fill:none;stroke-width:0.5;stroke-dasharray:-;stroke-linecap:round;stroke-linejoin:round;\" /></svg>"
      ],
      "text/plain": [
       "<svg xmlns=\"http://www.w3.org/2000/svg\" xmlns:xlink=\"http://www.w3.org/1999/xlink\" xml:lang=\"en\" height=\"124.16pt\" width=\"101.05999999999999pt\" viewBox=\"-37.0 -62.08 101.05999999999999 124.16\" style=\"background-color:white;\"><rect x=\"-37.0\" y=\"-62.08\" width=\"101.05999999999999\" height=\"124.16\" style=\"fill:none; stroke-width:0.5; stroke:black;\" /><rect x=\"0.0\" y=\"-25.080000000000005\" width=\"27.059999999999995\" height=\"50.16000000000001\" style=\"fill:none; stroke-width:1; stroke:red;\" /><path d=\"M 0.0,-0.0 L 13.2,-0.0\" style=\"stroke:black;fill:none;stroke-width:2.0;stroke-dasharray:-;stroke-linecap:round;stroke-linejoin:round;\" /><path d=\"M 13.2,-13.2 L 13.2,13.2\" style=\"stroke:black;fill:none;stroke-width:2.0;stroke-dasharray:-;stroke-linecap:round;stroke-linejoin:round;\" /><path d=\"M 13.2,-6.6 L 27.06,-18.48 L 27.06,-25.08\" style=\"stroke:black;fill:none;stroke-width:2.0;stroke-dasharray:-;stroke-linecap:round;stroke-linejoin:round;\" /><path d=\"M 13.2,6.6 L 27.06,18.48 L 27.06,25.08\" style=\"stroke:black;fill:none;stroke-width:2.0;stroke-dasharray:-;stroke-linecap:round;stroke-linejoin:round;\" /><path d=\"M 0.0,25.08 L 27.06,25.08 L 27.06,-25.08 L 0.0,-25.08 L 0.0,25.08\" style=\"stroke:blue;fill:none;stroke-width:0.5;stroke-dasharray:-;stroke-linecap:round;stroke-linejoin:round;\" /></svg>"
      ]
     },
     "execution_count": 31,
     "metadata": {},
     "output_type": "execute_result"
    }
   ],
   "source": [
    "d = schemdraw.Drawing()\n",
    "d.config(margin=1)\n",
    "d += elm.Bjt()\n",
    "d.draw(canvas='svg')"
   ]
  },
  {
   "cell_type": "code",
   "execution_count": 32,
   "id": "f2d3b961",
   "metadata": {},
   "outputs": [
    {
     "data": {
      "image/svg+xml": [
       "<svg xmlns=\"http://www.w3.org/2000/svg\" xmlns:xlink=\"http://www.w3.org/1999/xlink\" xml:lang=\"en\" height=\"119.41799999999999pt\" width=\"657.1999999999999pt\" viewBox=\"-4.6 -33.818 657.1999999999999 119.41799999999999\" style=\"background-color:white;\"><rect x=\"-4.6\" y=\"-33.818\" width=\"657.1999999999999\" height=\"119.41799999999999\" style=\"fill:none; stroke-width:0.5; stroke:black;\" /><rect x=\"0.0\" y=\"-29.217999999999996\" width=\"648.0\" height=\"110.21799999999999\" style=\"fill:none; stroke-width:1; stroke:red;\" /><path d=\"M 0.0,-0.0 L 36.0,-0.0 L 39.0,-9.0 L 45.0,9.0 L 50.99999999999999,-9.0 L 57.0,9.0 L 63.0,-9.0 L 69.0,9.0 L 72.0,-0.0 L 108.0,-0.0\" style=\"stroke:black;fill:none;stroke-width:2.0;stroke-dasharray:-;stroke-linecap:round;stroke-linejoin:round;\" /><path d=\"M 0.0,9.0 L 108.0,9.0 L 108.0,-24.738 L 0.0,-24.738 L 0.0,9.0\" style=\"stroke:blue;fill:none;stroke-width:0.5;stroke-dasharray:-;stroke-linecap:round;stroke-linejoin:round;\" /><path d=\"M 108.0,-0.0 L 144.0,-0.0 L 147.0,-9.0 L 153.0,9.0 L 158.99999999999997,-9.0 L 165.0,9.0 L 171.0,-9.0 L 176.99999999999997,9.0 L 180.0,-0.0 L 216.0,-0.0\" style=\"stroke:black;fill:none;stroke-width:2.0;stroke-dasharray:-;stroke-linecap:round;stroke-linejoin:round;\" /><path d=\"M 108.0,9.0 L 216.0,9.0 L 216.0,-24.8598 L 108.0,-24.8598 L 108.0,9.0\" style=\"stroke:blue;fill:none;stroke-width:0.5;stroke-dasharray:-;stroke-linecap:round;stroke-linejoin:round;\" /><path d=\"M 216.0,-0.0 L 252.0,-0.0 L 255.0,-9.0 L 261.0,9.0 L 267.0,-9.0 L 273.0,9.0 L 279.0,-9.0 L 285.0,9.0 L 288.0,-0.0 L 324.0,-0.0\" style=\"stroke:black;fill:none;stroke-width:2.0;stroke-dasharray:-;stroke-linecap:round;stroke-linejoin:round;\" /><path d=\"M 216.0,9.0 L 324.0,9.0 L 324.0,-22.778 L 216.0,-22.778 L 216.0,9.0\" style=\"stroke:blue;fill:none;stroke-width:0.5;stroke-dasharray:-;stroke-linecap:round;stroke-linejoin:round;\" /><path d=\"M 324.0,-0.0 L 360.0,-0.0 L 363.0,-9.0 L 369.0,9.0 L 375.0,-9.0 L 381.0,9.0 L 387.0,-9.0 L 393.0,9.0 L 396.0,-0.0 L 432.0,-0.0\" style=\"stroke:black;fill:none;stroke-width:2.0;stroke-dasharray:-;stroke-linecap:round;stroke-linejoin:round;\" /><path d=\"M 324.0,9.0 L 432.0,9.0 L 432.0,-28.294 L 324.0,-28.294 L 324.0,9.0\" style=\"stroke:blue;fill:none;stroke-width:0.5;stroke-dasharray:-;stroke-linecap:round;stroke-linejoin:round;\" /><path d=\"M 432.0,-0.0 L 468.0,-0.0 L 471.0,-9.0 L 477.0,9.0 L 483.0,-9.0 L 489.0,9.0 L 495.0,-9.0 L 501.0,9.0 L 504.0,-0.0 L 540.0,-0.0\" style=\"stroke:black;fill:none;stroke-width:2.0;stroke-dasharray:-;stroke-linecap:round;stroke-linejoin:round;\" /><path d=\"M 432.0,9.0 L 540.0,9.0 L 540.0,-24.738 L 432.0,-24.738 L 432.0,9.0\" style=\"stroke:blue;fill:none;stroke-width:0.5;stroke-dasharray:-;stroke-linecap:round;stroke-linejoin:round;\" /><path d=\"M 540.0,-0.0 L 576.0,-0.0 L 579.0,-9.0 L 585.0,9.0 L 591.0,-9.0 L 597.0,9.0 L 603.0,-9.0 L 609.0,9.0 L 612.0,-0.0 L 648.0,-0.0\" style=\"stroke:black;fill:none;stroke-width:2.0;stroke-dasharray:-;stroke-linecap:round;stroke-linejoin:round;\" /><path d=\"M 540.0,9.0 L 648.0,9.0 L 648.0,-29.217999999999996 L 540.0,-29.217999999999996 L 540.0,9.0\" style=\"stroke:blue;fill:none;stroke-width:0.5;stroke-dasharray:-;stroke-linecap:round;stroke-linejoin:round;\" /><path d=\"M 0.0,72.0 L 36.0,72.0 L 39.0,63.0 L 45.0,81.0 L 50.99999999999999,63.0 L 57.0,81.0 L 63.0,63.0 L 69.0,81.0 L 72.0,72.0 L 108.0,72.0\" style=\"stroke:black;fill:none;stroke-width:2.0;stroke-dasharray:-;stroke-linecap:round;stroke-linejoin:round;\" /><path d=\"M 0.0,81.0 L 108.0,81.0 L 108.0,50.034 L 0.0,50.034 L 0.0,81.0\" style=\"stroke:blue;fill:none;stroke-width:0.5;stroke-dasharray:-;stroke-linecap:round;stroke-linejoin:round;\" /><path d=\"M 108.0,72.0 L 144.0,72.0 L 147.0,63.0 L 153.0,81.0 L 158.99999999999997,63.0 L 165.0,81.0 L 171.0,63.0 L 176.99999999999997,81.0 L 180.0,72.0 L 216.0,72.0\" style=\"stroke:black;fill:none;stroke-width:2.0;stroke-dasharray:-;stroke-linecap:round;stroke-linejoin:round;\" /><path d=\"M 108.0,81.0 L 216.0,81.0 L 216.0,51.56 L 108.0,51.56 L 108.0,81.0\" style=\"stroke:blue;fill:none;stroke-width:0.5;stroke-dasharray:-;stroke-linecap:round;stroke-linejoin:round;\" /><path d=\"M 216.0,72.0 L 252.0,72.0 L 255.0,63.0 L 261.0,81.0 L 267.0,63.0 L 273.0,81.0 L 279.0,63.0 L 285.0,81.0 L 288.0,72.0 L 324.0,72.0\" style=\"stroke:black;fill:none;stroke-width:2.0;stroke-dasharray:-;stroke-linecap:round;stroke-linejoin:round;\" /><path d=\"M 216.0,81.0 L 324.0,81.0 L 324.0,49.782000000000004 L 216.0,49.782000000000004 L 216.0,81.0\" style=\"stroke:blue;fill:none;stroke-width:0.5;stroke-dasharray:-;stroke-linecap:round;stroke-linejoin:round;\" /><path d=\"M 324.0,72.0 L 360.0,72.0 L 363.0,63.0 L 369.0,81.0 L 375.0,63.0 L 381.0,81.0 L 387.0,63.0 L 393.0,81.0 L 396.0,72.0 L 432.0,72.0\" style=\"stroke:black;fill:none;stroke-width:2.0;stroke-dasharray:-;stroke-linecap:round;stroke-linejoin:round;\" /><path d=\"M 324.0,81.0 L 432.0,81.0 L 432.0,48.07820000000001 L 324.0,48.07820000000001 L 324.0,81.0\" style=\"stroke:blue;fill:none;stroke-width:0.5;stroke-dasharray:-;stroke-linecap:round;stroke-linejoin:round;\" /><path d=\"M 432.0,72.0 L 468.0,72.0 L 471.0,63.0 L 477.0,81.0 L 483.0,63.0 L 489.0,81.0 L 495.0,63.0 L 501.0,81.0 L 504.0,72.0 L 540.0,72.0\" style=\"stroke:black;fill:none;stroke-width:2.0;stroke-dasharray:-;stroke-linecap:round;stroke-linejoin:round;\" /><path d=\"M 432.0,81.0 L 540.0,81.0 L 540.0,47.262 L 432.0,47.262 L 432.0,81.0\" style=\"stroke:blue;fill:none;stroke-width:0.5;stroke-dasharray:-;stroke-linecap:round;stroke-linejoin:round;\" /><g><g><g><symbol id=\"STIXTwoMathRegular_3317\" viewBox=\"-0.108 -31.524 7.296 51.216\"><path d=\"M 6.948 -6.228 L 6.948 -6.228 Q 6.948 -5.592 6.708 -5.16 Q 6.468 -4.728 6.084 -4.452 Q 5.7 -4.176 5.262 -4.026 Q 4.824 -3.876 4.428 -3.804 L 4.428 -3.744 Q 4.644 -3.6 4.836 -3.306 Q 5.028 -3.012 5.31 -2.46 Q 5.592 -1.908 6.084 -0.972 Q 6.288 -0.612 6.534 -0.486 Q 6.78 -0.36 7.188 -0.36 L 7.116 0 L 5.292 0 Q 4.956 -0.744 4.728 -1.242 Q 4.5 -1.74 4.332 -2.076 Q 4.164 -2.412 4.038 -2.676 Q 3.912 -2.94 3.768 -3.216 Q 3.636 -3.468 3.48 -3.546 Q 3.324 -3.624 3 -3.624 L 2.748 -3.624 L 2.304 -1.488 Q 2.208 -0.996 2.238 -0.75 Q 2.268 -0.504 2.508 -0.432 Q 2.748 -0.36 3.264 -0.36 L 3.204 0 L -0.108 0 L -0.036 -0.36 Q 0.408 -0.36 0.648 -0.432 Q 0.888 -0.504 1.014 -0.744 Q 1.14 -0.984 1.236 -1.488 L 2.292 -6.636 Q 2.364 -6.972 2.328 -7.164 Q 2.292 -7.356 2.082 -7.44 Q 1.872 -7.524 1.392 -7.524 L 1.464 -7.884 L 4.284 -7.884 Q 5.544 -7.884 6.246 -7.494 Q 6.948 -7.104 6.948 -6.228 Z M 3.504 -7.38 L 3.504 -7.38 L 2.832 -4.068 L 3.204 -4.056 Q 3.924 -4.08 4.506 -4.29 Q 5.088 -4.5 5.424 -4.956 Q 5.76 -5.412 5.76 -6.18 Q 5.76 -6.504 5.622 -6.786 Q 5.484 -7.068 5.148 -7.242 Q 4.812 -7.416 4.212 -7.416 Q 3.984 -7.416 3.846 -7.41 Q 3.708 -7.404 3.504 -7.38 Z \" /></symbol><use href=\"#STIXTwoMathRegular_3317\" x=\"44.371\" y=\"-52.318\" width=\"8.512\" height=\"59.752\" fill=\"black\" /><symbol id=\"STIXTwoMathRegular_4274\" viewBox=\"0 -31.524 5.184 51.216\"><path d=\"M 5.184 0 L 5.184 0 L 1.116 0 L 1.116 -0.432 Q 1.98 -0.432 2.262 -0.606 Q 2.544 -0.78 2.544 -1.236 L 2.544 -6.468 Q 2.544 -6.792 2.448 -6.936 Q 2.352 -7.08 2.1 -7.08 Q 1.908 -7.08 1.578 -7.026 Q 1.248 -6.972 1.008 -6.912 L 1.008 -7.392 L 3.228 -8.004 L 3.744 -8.004 L 3.744 -1.236 Q 3.744 -0.78 4.05 -0.606 Q 4.356 -0.432 5.184 -0.432 Z \" /></symbol><use href=\"#STIXTwoMathRegular_4274\" x=\"53.527\" y=\"-38.345\" width=\"4.234\" height=\"41.826\" fill=\"black\" /><use href=\"#STIXTwoMathRegular_4274\" x=\"58.515\" y=\"-38.345\" width=\"4.234\" height=\"41.826\" fill=\"black\" /></g></g></g><g><g><g><symbol id=\"STIXTwoMathRegular_3317\" viewBox=\"-0.108 -31.524 7.296 51.216\"><path d=\"M 6.948 -6.228 L 6.948 -6.228 Q 6.948 -5.592 6.708 -5.16 Q 6.468 -4.728 6.084 -4.452 Q 5.7 -4.176 5.262 -4.026 Q 4.824 -3.876 4.428 -3.804 L 4.428 -3.744 Q 4.644 -3.6 4.836 -3.306 Q 5.028 -3.012 5.31 -2.46 Q 5.592 -1.908 6.084 -0.972 Q 6.288 -0.612 6.534 -0.486 Q 6.78 -0.36 7.188 -0.36 L 7.116 0 L 5.292 0 Q 4.956 -0.744 4.728 -1.242 Q 4.5 -1.74 4.332 -2.076 Q 4.164 -2.412 4.038 -2.676 Q 3.912 -2.94 3.768 -3.216 Q 3.636 -3.468 3.48 -3.546 Q 3.324 -3.624 3 -3.624 L 2.748 -3.624 L 2.304 -1.488 Q 2.208 -0.996 2.238 -0.75 Q 2.268 -0.504 2.508 -0.432 Q 2.748 -0.36 3.264 -0.36 L 3.204 0 L -0.108 0 L -0.036 -0.36 Q 0.408 -0.36 0.648 -0.432 Q 0.888 -0.504 1.014 -0.744 Q 1.14 -0.984 1.236 -1.488 L 2.292 -6.636 Q 2.364 -6.972 2.328 -7.164 Q 2.292 -7.356 2.082 -7.44 Q 1.872 -7.524 1.392 -7.524 L 1.464 -7.884 L 4.284 -7.884 Q 5.544 -7.884 6.246 -7.494 Q 6.948 -7.104 6.948 -6.228 Z M 3.504 -7.38 L 3.504 -7.38 L 2.832 -4.068 L 3.204 -4.056 Q 3.924 -4.08 4.506 -4.29 Q 5.088 -4.5 5.424 -4.956 Q 5.76 -5.412 5.76 -6.18 Q 5.76 -6.504 5.622 -6.786 Q 5.484 -7.068 5.148 -7.242 Q 4.812 -7.416 4.212 -7.416 Q 3.984 -7.416 3.846 -7.41 Q 3.708 -7.404 3.504 -7.38 Z \" /></symbol><use href=\"#STIXTwoMathRegular_3317\" x=\"152.294\" y=\"-49.378\" width=\"8.512\" height=\"59.752\" fill=\"black\" /><symbol id=\"STIXTwoMathRegular_4275\" viewBox=\"0 -31.524 5.868 51.216\"><path d=\"M 5.868 -2.088 L 5.868 -2.088 L 5.46 0 L 0.54 0 L 0.54 -0.588 L 2.244 -2.316 Q 2.916 -2.988 3.354 -3.504 Q 3.792 -4.02 4.008 -4.542 Q 4.224 -5.064 4.224 -5.736 Q 4.224 -6.372 3.834 -6.786 Q 3.444 -7.2 2.736 -7.2 Q 2.088 -7.2 1.65 -6.942 Q 1.212 -6.684 0.876 -6.096 L 0.552 -6.252 Q 0.852 -7.092 1.482 -7.572 Q 2.112 -8.052 3.036 -8.052 Q 3.756 -8.052 4.308 -7.794 Q 4.86 -7.536 5.172 -7.056 Q 5.484 -6.576 5.484 -5.892 Q 5.484 -5.304 5.22 -4.788 Q 4.956 -4.272 4.47 -3.732 Q 3.984 -3.192 3.312 -2.532 L 1.812 -1.08 L 1.812 -0.996 L 2.748 -1.044 L 4.308 -1.044 Q 4.656 -1.044 4.842 -1.14 Q 5.028 -1.236 5.16 -1.47 Q 5.292 -1.704 5.448 -2.088 Z \" /></symbol><use href=\"#STIXTwoMathRegular_4275\" x=\"161.31\" y=\"-44.323\" width=\"4.792\" height=\"41.826\" fill=\"black\" /><use href=\"#STIXTwoMathRegular_4275\" x=\"166.445\" y=\"-44.323\" width=\"4.792\" height=\"41.826\" fill=\"black\" /></g></g></g><g><g><g><symbol id=\"STIXTwoMathRegular_4022\" viewBox=\"0 -31.524 5.964 51.216\"><path d=\"M 5.964 -5.688 L 5.964 -5.688 Q 5.964 -3.864 5.496 -2.55 Q 5.028 -1.236 4.242 -0.534 Q 3.456 0.168 2.52 0.168 Q 1.716 0.168 1.188 -0.468 Q 0.66 -1.104 0.66 -2.496 Q 0.66 -3.732 0.948 -4.83 Q 1.236 -5.928 1.746 -6.78 Q 2.256 -7.632 2.91 -8.118 Q 3.564 -8.604 4.296 -8.604 Q 5.148 -8.604 5.556 -7.8 Q 5.964 -6.996 5.964 -5.688 Z M 2.76 -0.876 L 2.76 -0.876 Q 3.336 -0.876 3.846 -1.2 Q 4.356 -1.524 4.734 -2.226 Q 5.112 -2.928 5.268 -4.056 L 1.368 -4.056 Q 1.344 -3.828 1.326 -3.534 Q 1.308 -3.24 1.308 -3 Q 1.308 -2.16 1.536 -1.698 Q 1.764 -1.236 2.106 -1.056 Q 2.448 -0.876 2.76 -0.876 Z M 4.056 -7.56 L 4.056 -7.56 Q 3.552 -7.56 3.036 -7.218 Q 2.52 -6.876 2.112 -6.234 Q 1.704 -5.592 1.488 -4.692 L 5.352 -4.692 Q 5.364 -4.86 5.37 -5.052 Q 5.376 -5.244 5.376 -5.4 Q 5.376 -5.964 5.244 -6.456 Q 5.112 -6.948 4.818 -7.254 Q 4.524 -7.56 4.056 -7.56 Z \" /></symbol><use href=\"#STIXTwoMathRegular_4022\" x=\"266.787\" y=\"-49.574\" width=\"6.958\" height=\"59.752\" fill=\"black\" /></g></g></g><g><g><g><symbol id=\"STIXTwoMathRegular_3316\" viewBox=\"0 -31.524 8.22 51.216\"><path d=\"M 8.22 -4.908 L 8.22 -4.908 Q 8.22 -3.516 7.752 -2.502 Q 7.284 -1.488 6.498 -0.87 Q 5.712 -0.252 4.752 -0.036 L 4.752 0 Q 4.932 0.264 5.136 0.57 Q 5.34 0.876 5.628 1.14 Q 5.916 1.404 6.348 1.572 Q 6.78 1.74 7.428 1.74 L 7.368 2.076 L 6.768 2.076 Q 5.844 2.076 5.256 1.92 Q 4.668 1.764 4.326 1.44 Q 3.984 1.116 3.792 0.612 L 3.612 0.096 Q 2.208 0.012 1.47 -0.744 Q 0.732 -1.5 0.72 -3.024 Q 0.72 -4.104 1.056 -5.016 Q 1.392 -5.928 1.992 -6.606 Q 2.592 -7.284 3.408 -7.656 Q 4.224 -8.028 5.184 -8.028 Q 6.252 -8.028 6.924 -7.59 Q 7.596 -7.152 7.908 -6.438 Q 8.22 -5.724 8.22 -4.908 Z M 6.996 -4.98 L 6.996 -4.98 Q 6.996 -6.096 6.522 -6.804 Q 6.048 -7.512 5.004 -7.512 Q 4.2 -7.512 3.504 -6.966 Q 2.808 -6.42 2.382 -5.394 Q 1.956 -4.368 1.956 -2.916 Q 1.956 -1.764 2.394 -1.068 Q 2.832 -0.372 3.888 -0.372 Q 4.86 -0.372 5.556 -0.954 Q 6.252 -1.536 6.624 -2.574 Q 6.996 -3.612 6.996 -4.98 Z \" /></symbol><use href=\"#STIXTwoMathRegular_3316\" x=\"370.858\" y=\"-52.318\" width=\"9.59\" height=\"59.752\" fill=\"black\" /><symbol id=\"STIXTwoMathRegular_4274\" viewBox=\"0 -31.524 5.184 51.216\"><path d=\"M 5.184 0 L 5.184 0 L 1.116 0 L 1.116 -0.432 Q 1.98 -0.432 2.262 -0.606 Q 2.544 -0.78 2.544 -1.236 L 2.544 -6.468 Q 2.544 -6.792 2.448 -6.936 Q 2.352 -7.08 2.1 -7.08 Q 1.908 -7.08 1.578 -7.026 Q 1.248 -6.972 1.008 -6.912 L 1.008 -7.392 L 3.228 -8.004 L 3.744 -8.004 L 3.744 -1.236 Q 3.744 -0.78 4.05 -0.606 Q 4.356 -0.432 5.184 -0.432 Z \" /></symbol><use href=\"#STIXTwoMathRegular_4274\" x=\"380.154\" y=\"-38.345\" width=\"4.234\" height=\"41.826\" fill=\"black\" /><rect x=\"370.858\" y=\"-27.832\" width=\"13.444\" height=\"0.952\" fill=\"black\" /></g></g></g><g><g><g><symbol id=\"STIXTwoMathRegular_3317\" viewBox=\"-0.108 -31.524 7.296 51.216\"><path d=\"M 6.948 -6.228 L 6.948 -6.228 Q 6.948 -5.592 6.708 -5.16 Q 6.468 -4.728 6.084 -4.452 Q 5.7 -4.176 5.262 -4.026 Q 4.824 -3.876 4.428 -3.804 L 4.428 -3.744 Q 4.644 -3.6 4.836 -3.306 Q 5.028 -3.012 5.31 -2.46 Q 5.592 -1.908 6.084 -0.972 Q 6.288 -0.612 6.534 -0.486 Q 6.78 -0.36 7.188 -0.36 L 7.116 0 L 5.292 0 Q 4.956 -0.744 4.728 -1.242 Q 4.5 -1.74 4.332 -2.076 Q 4.164 -2.412 4.038 -2.676 Q 3.912 -2.94 3.768 -3.216 Q 3.636 -3.468 3.48 -3.546 Q 3.324 -3.624 3 -3.624 L 2.748 -3.624 L 2.304 -1.488 Q 2.208 -0.996 2.238 -0.75 Q 2.268 -0.504 2.508 -0.432 Q 2.748 -0.36 3.264 -0.36 L 3.204 0 L -0.108 0 L -0.036 -0.36 Q 0.408 -0.36 0.648 -0.432 Q 0.888 -0.504 1.014 -0.744 Q 1.14 -0.984 1.236 -1.488 L 2.292 -6.636 Q 2.364 -6.972 2.328 -7.164 Q 2.292 -7.356 2.082 -7.44 Q 1.872 -7.524 1.392 -7.524 L 1.464 -7.884 L 4.284 -7.884 Q 5.544 -7.884 6.246 -7.494 Q 6.948 -7.104 6.948 -6.228 Z M 3.504 -7.38 L 3.504 -7.38 L 2.832 -4.068 L 3.204 -4.056 Q 3.924 -4.08 4.506 -4.29 Q 5.088 -4.5 5.424 -4.956 Q 5.76 -5.412 5.76 -6.18 Q 5.76 -6.504 5.622 -6.786 Q 5.484 -7.068 5.148 -7.242 Q 4.812 -7.416 4.212 -7.416 Q 3.984 -7.416 3.846 -7.41 Q 3.708 -7.404 3.504 -7.38 Z \" /></symbol><use href=\"#STIXTwoMathRegular_3317\" x=\"478.865\" y=\"-52.318\" width=\"8.512\" height=\"59.752\" fill=\"black\" /><symbol id=\"STIXTwoMathRegular_4274\" viewBox=\"0 -31.524 5.184 51.216\"><path d=\"M 5.184 0 L 5.184 0 L 1.116 0 L 1.116 -0.432 Q 1.98 -0.432 2.262 -0.606 Q 2.544 -0.78 2.544 -1.236 L 2.544 -6.468 Q 2.544 -6.792 2.448 -6.936 Q 2.352 -7.08 2.1 -7.08 Q 1.908 -7.08 1.578 -7.026 Q 1.248 -6.972 1.008 -6.912 L 1.008 -7.392 L 3.228 -8.004 L 3.744 -8.004 L 3.744 -1.236 Q 3.744 -0.78 4.05 -0.606 Q 4.356 -0.432 5.184 -0.432 Z \" /></symbol><use href=\"#STIXTwoMathRegular_4274\" x=\"488.021\" y=\"-38.345\" width=\"4.234\" height=\"41.826\" fill=\"black\" /></g></g></g><g><g><g><symbol id=\"STIXTwoMathRegular_1657\" viewBox=\"0 -31.524 9.948 51.216\"><path d=\"M 8.004 -11.064 L 8.004 -11.064 L 9.948 -11.064 L 9.948 -10.248 L 8.556 -10.248 L 4.956 3.18 L 4.452 3.18 L 1.656 -3.828 L 0.408 -3.348 L 0.216 -3.684 L 2.124 -5.004 L 2.364 -5.004 L 4.74 1.116 L 4.788 1.116 Z \" /></symbol><use href=\"#STIXTwoMathRegular_1657\" x=\"584.585\" y=\"-53.088\" width=\"11.606\" height=\"59.752\" fill=\"black\" /><symbol id=\"STIXTwoMathRegular_3354\" viewBox=\"0 -31.524 6.48 51.216\"><path d=\"M 3.78 -3.576 L 3.78 -3.576 L 4.368 -4.584 Q 4.608 -5.016 4.98 -5.382 Q 5.352 -5.748 5.88 -5.748 Q 6.228 -5.748 6.354 -5.61 Q 6.48 -5.472 6.48 -5.22 Q 6.48 -5.004 6.324 -4.83 Q 6.168 -4.656 5.928 -4.656 Q 5.784 -4.656 5.604 -4.716 Q 5.424 -4.776 5.304 -4.776 Q 5.1 -4.776 4.956 -4.65 Q 4.812 -4.524 4.656 -4.272 L 3.924 -3.108 L 4.176 -2.292 Q 4.428 -1.464 4.638 -1.104 Q 4.848 -0.744 5.124 -0.744 Q 5.364 -0.744 5.556 -0.918 Q 5.748 -1.092 5.988 -1.416 L 6.24 -1.224 Q 6.072 -0.96 5.838 -0.648 Q 5.604 -0.336 5.292 -0.108 Q 4.98 0.12 4.572 0.12 Q 4.164 0.12 3.942 -0.204 Q 3.72 -0.528 3.588 -1.116 L 3.288 -2.328 L 3.24 -2.328 L 2.472 -1.08 Q 2.184 -0.612 1.848 -0.252 Q 1.512 0.108 0.972 0.108 Q 0.588 0.108 0.432 -0.072 Q 0.276 -0.252 0.276 -0.48 Q 0.276 -0.66 0.402 -0.822 Q 0.528 -0.984 0.744 -0.984 Q 0.948 -0.984 1.146 -0.906 Q 1.344 -0.828 1.5 -0.828 Q 1.524 -0.828 1.608 -0.858 Q 1.692 -0.888 1.848 -1.032 Q 2.004 -1.176 2.232 -1.512 L 3.096 -2.772 L 2.76 -3.864 Q 2.604 -4.368 2.448 -4.656 Q 2.292 -4.944 2.064 -5.07 Q 1.836 -5.196 1.44 -5.184 Q 1.296 -5.184 1.182 -5.166 Q 1.068 -5.148 1.068 -5.148 L 1.068 -5.508 L 2.736 -5.7 L 2.916 -5.7 Q 3.132 -5.448 3.306 -5.064 Q 3.48 -4.68 3.6 -4.188 L 3.744 -3.576 Z \" /></symbol><use href=\"#STIXTwoMathRegular_3354\" x=\"595.701\" y=\"-53.088\" width=\"7.56\" height=\"59.752\" fill=\"black\" /><rect x=\"595.701\" y=\"-29.218\" width=\"7.966\" height=\"0.952\" fill=\"black\" /></g></g></g><g><g><g><symbol id=\"STIXTwoMathRegular_868\" viewBox=\"0 -31.524 8.772 51.216\"><path d=\"M 8.496 0 L 8.496 0 L 5.364 0 L 5.364 -0.864 Q 5.928 -1.32 6.318 -1.95 Q 6.708 -2.58 6.906 -3.282 Q 7.104 -3.984 7.104 -4.644 Q 7.104 -6 6.456 -6.762 Q 5.808 -7.524 4.704 -7.524 Q 3.564 -7.524 2.904 -6.75 Q 2.244 -5.976 2.244 -4.644 Q 2.244 -3.996 2.436 -3.282 Q 2.628 -2.568 3.018 -1.932 Q 3.408 -1.296 3.984 -0.852 L 3.984 0 L 0.816 0 L 0.564 -2.124 L 0.912 -2.124 Q 1.02 -1.716 1.122 -1.464 Q 1.224 -1.212 1.41 -1.092 Q 1.596 -0.972 1.932 -0.972 L 3.024 -0.972 L 3.024 -1.044 Q 2.688 -1.296 2.322 -1.626 Q 1.956 -1.956 1.644 -2.388 Q 1.332 -2.82 1.14 -3.39 Q 0.948 -3.96 0.948 -4.692 Q 0.948 -5.688 1.428 -6.438 Q 1.908 -7.188 2.76 -7.608 Q 3.612 -8.028 4.716 -8.028 Q 5.832 -8.028 6.66 -7.608 Q 7.488 -7.188 7.944 -6.438 Q 8.4 -5.688 8.4 -4.704 Q 8.4 -3.972 8.196 -3.402 Q 7.992 -2.832 7.674 -2.394 Q 7.356 -1.956 7.002 -1.626 Q 6.648 -1.296 6.336 -1.044 L 6.336 -0.972 L 7.344 -0.972 Q 7.704 -0.972 7.89 -1.092 Q 8.076 -1.212 8.19 -1.47 Q 8.304 -1.728 8.424 -2.124 L 8.772 -2.124 Z \" /></symbol><use href=\"#STIXTwoMathRegular_868\" x=\"48.89\" y=\"22.622\" width=\"10.234\" height=\"59.752\" fill=\"black\" /></g></g></g><g><g><g><symbol id=\"STIXTwoMathRegular_1681\" viewBox=\"0 -31.524 7.896 51.216\"><path d=\"M 7.896 0 L 7.896 0 L 0.276 0 L 6.984 -6.72 L 7.608 -6.204 L 2.232 -0.804 L 7.896 -0.804 Z \" /></symbol><use href=\"#STIXTwoMathRegular_1681\" x=\"157.254\" y=\"22.622\" width=\"9.212\" height=\"59.752\" fill=\"black\" /></g></g></g><g><g><g><symbol id=\"STIXTwoMathRegular_4244\" viewBox=\"0 -31.524 3.756 51.216\"><path d=\"M 3.756 0 L 3.756 0 L 2.76 0 L 2.76 -6.348 L 1.212 -6.348 L 1.212 -6.996 Q 1.848 -7.092 2.256 -7.23 Q 2.664 -7.368 3 -7.56 L 3.756 -7.56 Z \" /></symbol><use href=\"#STIXTwoMathRegular_4244\" x=\"258.751\" y=\"22.328\" width=\"4.382\" height=\"59.752\" fill=\"black\" /><symbol id=\"STIXTwoMathRegular_4243\" viewBox=\"0 -31.524 5.556 51.216\"><path d=\"M 3.048 0.144 L 3.048 0.144 Q 1.884 0.144 1.218 -0.882 Q 0.552 -1.908 0.552 -3.804 Q 0.552 -5.712 1.218 -6.702 Q 1.884 -7.692 3.048 -7.692 Q 4.224 -7.692 4.89 -6.696 Q 5.556 -5.7 5.556 -3.804 Q 5.556 -1.908 4.89 -0.882 Q 4.224 0.144 3.048 0.144 Z M 3.048 -0.672 L 3.048 -0.672 Q 3.732 -0.672 4.152 -1.41 Q 4.572 -2.148 4.572 -3.804 Q 4.572 -5.46 4.152 -6.174 Q 3.732 -6.888 3.048 -6.888 Q 2.376 -6.888 1.95 -6.174 Q 1.524 -5.46 1.524 -3.804 Q 1.524 -2.148 1.95 -1.41 Q 2.376 -0.672 3.048 -0.672 Z \" /></symbol><use href=\"#STIXTwoMathRegular_4243\" x=\"265.863\" y=\"22.328\" width=\"6.482\" height=\"59.752\" fill=\"black\" /><symbol id=\"STIXTwoMathRegular_1193\" viewBox=\"0 -31.524 7.764 51.216\"><path d=\"M 7.032 -7.992 L 7.032 -7.992 L 2.172 0.252 L 1.596 0.252 L 5.88 -6.984 L 5.82 -6.984 Q 5.52 -6.78 5.238 -6.69 Q 4.956 -6.6 4.584 -6.6 Q 4.368 -6.6 4.206 -6.636 Q 4.044 -6.672 3.768 -6.792 L 3.744 -6.768 Q 3.78 -6.636 3.804 -6.468 Q 3.828 -6.3 3.828 -6.096 Q 3.828 -5.436 3.57 -4.884 Q 3.312 -4.332 2.862 -4.008 Q 2.412 -3.684 1.836 -3.684 Q 1.224 -3.684 0.882 -4.086 Q 0.54 -4.488 0.54 -5.244 Q 0.54 -5.928 0.804 -6.468 Q 1.068 -7.008 1.524 -7.326 Q 1.98 -7.644 2.532 -7.644 Q 2.88 -7.644 3.126 -7.536 Q 3.372 -7.428 3.588 -7.284 Q 3.804 -7.14 4.074 -7.032 Q 4.344 -6.924 4.74 -6.924 Q 5.016 -6.924 5.25 -7.008 Q 5.484 -7.092 5.772 -7.326 Q 6.06 -7.56 6.492 -7.992 Z M 7.764 -2.184 L 7.764 -2.184 Q 7.764 -1.512 7.506 -0.96 Q 7.248 -0.408 6.804 -0.084 Q 6.36 0.24 5.784 0.24 Q 5.172 0.24 4.824 -0.162 Q 4.476 -0.564 4.476 -1.332 Q 4.476 -2.016 4.734 -2.556 Q 4.992 -3.096 5.448 -3.408 Q 5.904 -3.72 6.48 -3.72 Q 7.104 -3.72 7.434 -3.324 Q 7.764 -2.928 7.764 -2.184 Z M 7.356 -2.268 L 7.356 -2.268 Q 7.356 -3.396 6.612 -3.396 Q 6.24 -3.396 5.946 -3.114 Q 5.652 -2.832 5.478 -2.346 Q 5.304 -1.86 5.304 -1.248 Q 5.304 -0.684 5.466 -0.42 Q 5.628 -0.156 5.964 -0.156 Q 6.348 -0.156 6.66 -0.444 Q 6.972 -0.732 7.164 -1.218 Q 7.356 -1.704 7.356 -2.268 Z M 3.42 -6.192 L 3.42 -6.192 Q 3.42 -7.32 2.676 -7.32 Q 2.304 -7.32 2.01 -7.038 Q 1.716 -6.756 1.542 -6.27 Q 1.368 -5.784 1.368 -5.172 Q 1.368 -4.608 1.53 -4.344 Q 1.692 -4.08 2.028 -4.08 Q 2.412 -4.08 2.724 -4.368 Q 3.036 -4.656 3.228 -5.142 Q 3.42 -5.628 3.42 -6.192 Z \" /></symbol><use href=\"#STIXTwoMathRegular_1193\" x=\"272.975\" y=\"22.328\" width=\"9.058\" height=\"59.752\" fill=\"black\" /></g></g></g><g><g><g><symbol id=\"STIXTwoMathRegular_3317\" viewBox=\"-0.108 -31.524 7.296 51.216\"><path d=\"M 6.948 -6.228 L 6.948 -6.228 Q 6.948 -5.592 6.708 -5.16 Q 6.468 -4.728 6.084 -4.452 Q 5.7 -4.176 5.262 -4.026 Q 4.824 -3.876 4.428 -3.804 L 4.428 -3.744 Q 4.644 -3.6 4.836 -3.306 Q 5.028 -3.012 5.31 -2.46 Q 5.592 -1.908 6.084 -0.972 Q 6.288 -0.612 6.534 -0.486 Q 6.78 -0.36 7.188 -0.36 L 7.116 0 L 5.292 0 Q 4.956 -0.744 4.728 -1.242 Q 4.5 -1.74 4.332 -2.076 Q 4.164 -2.412 4.038 -2.676 Q 3.912 -2.94 3.768 -3.216 Q 3.636 -3.468 3.48 -3.546 Q 3.324 -3.624 3 -3.624 L 2.748 -3.624 L 2.304 -1.488 Q 2.208 -0.996 2.238 -0.75 Q 2.268 -0.504 2.508 -0.432 Q 2.748 -0.36 3.264 -0.36 L 3.204 0 L -0.108 0 L -0.036 -0.36 Q 0.408 -0.36 0.648 -0.432 Q 0.888 -0.504 1.014 -0.744 Q 1.14 -0.984 1.236 -1.488 L 2.292 -6.636 Q 2.364 -6.972 2.328 -7.164 Q 2.292 -7.356 2.082 -7.44 Q 1.872 -7.524 1.392 -7.524 L 1.464 -7.884 L 4.284 -7.884 Q 5.544 -7.884 6.246 -7.494 Q 6.948 -7.104 6.948 -6.228 Z M 3.504 -7.38 L 3.504 -7.38 L 2.832 -4.068 L 3.204 -4.056 Q 3.924 -4.08 4.506 -4.29 Q 5.088 -4.5 5.424 -4.956 Q 5.76 -5.412 5.76 -6.18 Q 5.76 -6.504 5.622 -6.786 Q 5.484 -7.068 5.148 -7.242 Q 4.812 -7.416 4.212 -7.416 Q 3.984 -7.416 3.846 -7.41 Q 3.708 -7.404 3.504 -7.38 Z \" /></symbol><use href=\"#STIXTwoMathRegular_3317\" x=\"370.861\" y=\"22.622\" width=\"8.512\" height=\"59.752\" fill=\"black\" /><symbol id=\"STIXTwoMathRegular_4275\" viewBox=\"0 -31.524 5.868 51.216\"><path d=\"M 5.868 -2.088 L 5.868 -2.088 L 5.46 0 L 0.54 0 L 0.54 -0.588 L 2.244 -2.316 Q 2.916 -2.988 3.354 -3.504 Q 3.792 -4.02 4.008 -4.542 Q 4.224 -5.064 4.224 -5.736 Q 4.224 -6.372 3.834 -6.786 Q 3.444 -7.2 2.736 -7.2 Q 2.088 -7.2 1.65 -6.942 Q 1.212 -6.684 0.876 -6.096 L 0.552 -6.252 Q 0.852 -7.092 1.482 -7.572 Q 2.112 -8.052 3.036 -8.052 Q 3.756 -8.052 4.308 -7.794 Q 4.86 -7.536 5.172 -7.056 Q 5.484 -6.576 5.484 -5.892 Q 5.484 -5.304 5.22 -4.788 Q 4.956 -4.272 4.47 -3.732 Q 3.984 -3.192 3.312 -2.532 L 1.812 -1.08 L 1.812 -0.996 L 2.748 -1.044 L 4.308 -1.044 Q 4.656 -1.044 4.842 -1.14 Q 5.028 -1.236 5.16 -1.47 Q 5.292 -1.704 5.448 -2.088 Z \" /></symbol><use href=\"#STIXTwoMathRegular_4275\" x=\"379.877\" y=\"28.615\" width=\"4.792\" height=\"41.826\" fill=\"black\" /></g></g></g><g><g><g><symbol id=\"STIXTwoMathRegular_3317\" viewBox=\"-0.108 -31.524 7.296 51.216\"><path d=\"M 6.948 -6.228 L 6.948 -6.228 Q 6.948 -5.592 6.708 -5.16 Q 6.468 -4.728 6.084 -4.452 Q 5.7 -4.176 5.262 -4.026 Q 4.824 -3.876 4.428 -3.804 L 4.428 -3.744 Q 4.644 -3.6 4.836 -3.306 Q 5.028 -3.012 5.31 -2.46 Q 5.592 -1.908 6.084 -0.972 Q 6.288 -0.612 6.534 -0.486 Q 6.78 -0.36 7.188 -0.36 L 7.116 0 L 5.292 0 Q 4.956 -0.744 4.728 -1.242 Q 4.5 -1.74 4.332 -2.076 Q 4.164 -2.412 4.038 -2.676 Q 3.912 -2.94 3.768 -3.216 Q 3.636 -3.468 3.48 -3.546 Q 3.324 -3.624 3 -3.624 L 2.748 -3.624 L 2.304 -1.488 Q 2.208 -0.996 2.238 -0.75 Q 2.268 -0.504 2.508 -0.432 Q 2.748 -0.36 3.264 -0.36 L 3.204 0 L -0.108 0 L -0.036 -0.36 Q 0.408 -0.36 0.648 -0.432 Q 0.888 -0.504 1.014 -0.744 Q 1.14 -0.984 1.236 -1.488 L 2.292 -6.636 Q 2.364 -6.972 2.328 -7.164 Q 2.292 -7.356 2.082 -7.44 Q 1.872 -7.524 1.392 -7.524 L 1.464 -7.884 L 4.284 -7.884 Q 5.544 -7.884 6.246 -7.494 Q 6.948 -7.104 6.948 -6.228 Z M 3.504 -7.38 L 3.504 -7.38 L 2.832 -4.068 L 3.204 -4.056 Q 3.924 -4.08 4.506 -4.29 Q 5.088 -4.5 5.424 -4.956 Q 5.76 -5.412 5.76 -6.18 Q 5.76 -6.504 5.622 -6.786 Q 5.484 -7.068 5.148 -7.242 Q 4.812 -7.416 4.212 -7.416 Q 3.984 -7.416 3.846 -7.41 Q 3.708 -7.404 3.504 -7.38 Z \" /></symbol><use href=\"#STIXTwoMathRegular_3317\" x=\"478.791\" y=\"19.682\" width=\"8.512\" height=\"59.752\" fill=\"black\" /><symbol id=\"STIXTwoMathRegular_4275\" viewBox=\"0 -31.524 5.868 51.216\"><path d=\"M 5.868 -2.088 L 5.868 -2.088 L 5.46 0 L 0.54 0 L 0.54 -0.588 L 2.244 -2.316 Q 2.916 -2.988 3.354 -3.504 Q 3.792 -4.02 4.008 -4.542 Q 4.224 -5.064 4.224 -5.736 Q 4.224 -6.372 3.834 -6.786 Q 3.444 -7.2 2.736 -7.2 Q 2.088 -7.2 1.65 -6.942 Q 1.212 -6.684 0.876 -6.096 L 0.552 -6.252 Q 0.852 -7.092 1.482 -7.572 Q 2.112 -8.052 3.036 -8.052 Q 3.756 -8.052 4.308 -7.794 Q 4.86 -7.536 5.172 -7.056 Q 5.484 -6.576 5.484 -5.892 Q 5.484 -5.304 5.22 -4.788 Q 4.956 -4.272 4.47 -3.732 Q 3.984 -3.192 3.312 -2.532 L 1.812 -1.08 L 1.812 -0.996 L 2.748 -1.044 L 4.308 -1.044 Q 4.656 -1.044 4.842 -1.14 Q 5.028 -1.236 5.16 -1.47 Q 5.292 -1.704 5.448 -2.088 Z \" /></symbol><use href=\"#STIXTwoMathRegular_4275\" x=\"487.947\" y=\"33.655\" width=\"4.792\" height=\"41.826\" fill=\"black\" /></g></g></g></svg>"
      ],
      "text/plain": [
       "<svg xmlns=\"http://www.w3.org/2000/svg\" xmlns:xlink=\"http://www.w3.org/1999/xlink\" xml:lang=\"en\" height=\"119.41799999999999pt\" width=\"657.1999999999999pt\" viewBox=\"-4.6 -33.818 657.1999999999999 119.41799999999999\" style=\"background-color:white;\"><rect x=\"-4.6\" y=\"-33.818\" width=\"657.1999999999999\" height=\"119.41799999999999\" style=\"fill:none; stroke-width:0.5; stroke:black;\" /><rect x=\"0.0\" y=\"-29.217999999999996\" width=\"648.0\" height=\"110.21799999999999\" style=\"fill:none; stroke-width:1; stroke:red;\" /><path d=\"M 0.0,-0.0 L 36.0,-0.0 L 39.0,-9.0 L 45.0,9.0 L 50.99999999999999,-9.0 L 57.0,9.0 L 63.0,-9.0 L 69.0,9.0 L 72.0,-0.0 L 108.0,-0.0\" style=\"stroke:black;fill:none;stroke-width:2.0;stroke-dasharray:-;stroke-linecap:round;stroke-linejoin:round;\" /><path d=\"M 0.0,9.0 L 108.0,9.0 L 108.0,-24.738 L 0.0,-24.738 L 0.0,9.0\" style=\"stroke:blue;fill:none;stroke-width:0.5;stroke-dasharray:-;stroke-linecap:round;stroke-linejoin:round;\" /><path d=\"M 108.0,-0.0 L 144.0,-0.0 L 147.0,-9.0 L 153.0,9.0 L 158.99999999999997,-9.0 L 165.0,9.0 L 171.0,-9.0 L 176.99999999999997,9.0 L 180.0,-0.0 L 216.0,-0.0\" style=\"stroke:black;fill:none;stroke-width:2.0;stroke-dasharray:-;stroke-linecap:round;stroke-linejoin:round;\" /><path d=\"M 108.0,9.0 L 216.0,9.0 L 216.0,-24.8598 L 108.0,-24.8598 L 108.0,9.0\" style=\"stroke:blue;fill:none;stroke-width:0.5;stroke-dasharray:-;stroke-linecap:round;stroke-linejoin:round;\" /><path d=\"M 216.0,-0.0 L 252.0,-0.0 L 255.0,-9.0 L 261.0,9.0 L 267.0,-9.0 L 273.0,9.0 L 279.0,-9.0 L 285.0,9.0 L 288.0,-0.0 L 324.0,-0.0\" style=\"stroke:black;fill:none;stroke-width:2.0;stroke-dasharray:-;stroke-linecap:round;stroke-linejoin:round;\" /><path d=\"M 216.0,9.0 L 324.0,9.0 L 324.0,-22.778 L 216.0,-22.778 L 216.0,9.0\" style=\"stroke:blue;fill:none;stroke-width:0.5;stroke-dasharray:-;stroke-linecap:round;stroke-linejoin:round;\" /><path d=\"M 324.0,-0.0 L 360.0,-0.0 L 363.0,-9.0 L 369.0,9.0 L 375.0,-9.0 L 381.0,9.0 L 387.0,-9.0 L 393.0,9.0 L 396.0,-0.0 L 432.0,-0.0\" style=\"stroke:black;fill:none;stroke-width:2.0;stroke-dasharray:-;stroke-linecap:round;stroke-linejoin:round;\" /><path d=\"M 324.0,9.0 L 432.0,9.0 L 432.0,-28.294 L 324.0,-28.294 L 324.0,9.0\" style=\"stroke:blue;fill:none;stroke-width:0.5;stroke-dasharray:-;stroke-linecap:round;stroke-linejoin:round;\" /><path d=\"M 432.0,-0.0 L 468.0,-0.0 L 471.0,-9.0 L 477.0,9.0 L 483.0,-9.0 L 489.0,9.0 L 495.0,-9.0 L 501.0,9.0 L 504.0,-0.0 L 540.0,-0.0\" style=\"stroke:black;fill:none;stroke-width:2.0;stroke-dasharray:-;stroke-linecap:round;stroke-linejoin:round;\" /><path d=\"M 432.0,9.0 L 540.0,9.0 L 540.0,-24.738 L 432.0,-24.738 L 432.0,9.0\" style=\"stroke:blue;fill:none;stroke-width:0.5;stroke-dasharray:-;stroke-linecap:round;stroke-linejoin:round;\" /><path d=\"M 540.0,-0.0 L 576.0,-0.0 L 579.0,-9.0 L 585.0,9.0 L 591.0,-9.0 L 597.0,9.0 L 603.0,-9.0 L 609.0,9.0 L 612.0,-0.0 L 648.0,-0.0\" style=\"stroke:black;fill:none;stroke-width:2.0;stroke-dasharray:-;stroke-linecap:round;stroke-linejoin:round;\" /><path d=\"M 540.0,9.0 L 648.0,9.0 L 648.0,-29.217999999999996 L 540.0,-29.217999999999996 L 540.0,9.0\" style=\"stroke:blue;fill:none;stroke-width:0.5;stroke-dasharray:-;stroke-linecap:round;stroke-linejoin:round;\" /><path d=\"M 0.0,72.0 L 36.0,72.0 L 39.0,63.0 L 45.0,81.0 L 50.99999999999999,63.0 L 57.0,81.0 L 63.0,63.0 L 69.0,81.0 L 72.0,72.0 L 108.0,72.0\" style=\"stroke:black;fill:none;stroke-width:2.0;stroke-dasharray:-;stroke-linecap:round;stroke-linejoin:round;\" /><path d=\"M 0.0,81.0 L 108.0,81.0 L 108.0,50.034 L 0.0,50.034 L 0.0,81.0\" style=\"stroke:blue;fill:none;stroke-width:0.5;stroke-dasharray:-;stroke-linecap:round;stroke-linejoin:round;\" /><path d=\"M 108.0,72.0 L 144.0,72.0 L 147.0,63.0 L 153.0,81.0 L 158.99999999999997,63.0 L 165.0,81.0 L 171.0,63.0 L 176.99999999999997,81.0 L 180.0,72.0 L 216.0,72.0\" style=\"stroke:black;fill:none;stroke-width:2.0;stroke-dasharray:-;stroke-linecap:round;stroke-linejoin:round;\" /><path d=\"M 108.0,81.0 L 216.0,81.0 L 216.0,51.56 L 108.0,51.56 L 108.0,81.0\" style=\"stroke:blue;fill:none;stroke-width:0.5;stroke-dasharray:-;stroke-linecap:round;stroke-linejoin:round;\" /><path d=\"M 216.0,72.0 L 252.0,72.0 L 255.0,63.0 L 261.0,81.0 L 267.0,63.0 L 273.0,81.0 L 279.0,63.0 L 285.0,81.0 L 288.0,72.0 L 324.0,72.0\" style=\"stroke:black;fill:none;stroke-width:2.0;stroke-dasharray:-;stroke-linecap:round;stroke-linejoin:round;\" /><path d=\"M 216.0,81.0 L 324.0,81.0 L 324.0,49.782000000000004 L 216.0,49.782000000000004 L 216.0,81.0\" style=\"stroke:blue;fill:none;stroke-width:0.5;stroke-dasharray:-;stroke-linecap:round;stroke-linejoin:round;\" /><path d=\"M 324.0,72.0 L 360.0,72.0 L 363.0,63.0 L 369.0,81.0 L 375.0,63.0 L 381.0,81.0 L 387.0,63.0 L 393.0,81.0 L 396.0,72.0 L 432.0,72.0\" style=\"stroke:black;fill:none;stroke-width:2.0;stroke-dasharray:-;stroke-linecap:round;stroke-linejoin:round;\" /><path d=\"M 324.0,81.0 L 432.0,81.0 L 432.0,48.07820000000001 L 324.0,48.07820000000001 L 324.0,81.0\" style=\"stroke:blue;fill:none;stroke-width:0.5;stroke-dasharray:-;stroke-linecap:round;stroke-linejoin:round;\" /><path d=\"M 432.0,72.0 L 468.0,72.0 L 471.0,63.0 L 477.0,81.0 L 483.0,63.0 L 489.0,81.0 L 495.0,63.0 L 501.0,81.0 L 504.0,72.0 L 540.0,72.0\" style=\"stroke:black;fill:none;stroke-width:2.0;stroke-dasharray:-;stroke-linecap:round;stroke-linejoin:round;\" /><path d=\"M 432.0,81.0 L 540.0,81.0 L 540.0,47.262 L 432.0,47.262 L 432.0,81.0\" style=\"stroke:blue;fill:none;stroke-width:0.5;stroke-dasharray:-;stroke-linecap:round;stroke-linejoin:round;\" /><g><g><g><symbol id=\"STIXTwoMathRegular_3317\" viewBox=\"-0.108 -31.524 7.296 51.216\"><path d=\"M 6.948 -6.228 L 6.948 -6.228 Q 6.948 -5.592 6.708 -5.16 Q 6.468 -4.728 6.084 -4.452 Q 5.7 -4.176 5.262 -4.026 Q 4.824 -3.876 4.428 -3.804 L 4.428 -3.744 Q 4.644 -3.6 4.836 -3.306 Q 5.028 -3.012 5.31 -2.46 Q 5.592 -1.908 6.084 -0.972 Q 6.288 -0.612 6.534 -0.486 Q 6.78 -0.36 7.188 -0.36 L 7.116 0 L 5.292 0 Q 4.956 -0.744 4.728 -1.242 Q 4.5 -1.74 4.332 -2.076 Q 4.164 -2.412 4.038 -2.676 Q 3.912 -2.94 3.768 -3.216 Q 3.636 -3.468 3.48 -3.546 Q 3.324 -3.624 3 -3.624 L 2.748 -3.624 L 2.304 -1.488 Q 2.208 -0.996 2.238 -0.75 Q 2.268 -0.504 2.508 -0.432 Q 2.748 -0.36 3.264 -0.36 L 3.204 0 L -0.108 0 L -0.036 -0.36 Q 0.408 -0.36 0.648 -0.432 Q 0.888 -0.504 1.014 -0.744 Q 1.14 -0.984 1.236 -1.488 L 2.292 -6.636 Q 2.364 -6.972 2.328 -7.164 Q 2.292 -7.356 2.082 -7.44 Q 1.872 -7.524 1.392 -7.524 L 1.464 -7.884 L 4.284 -7.884 Q 5.544 -7.884 6.246 -7.494 Q 6.948 -7.104 6.948 -6.228 Z M 3.504 -7.38 L 3.504 -7.38 L 2.832 -4.068 L 3.204 -4.056 Q 3.924 -4.08 4.506 -4.29 Q 5.088 -4.5 5.424 -4.956 Q 5.76 -5.412 5.76 -6.18 Q 5.76 -6.504 5.622 -6.786 Q 5.484 -7.068 5.148 -7.242 Q 4.812 -7.416 4.212 -7.416 Q 3.984 -7.416 3.846 -7.41 Q 3.708 -7.404 3.504 -7.38 Z \" /></symbol><use href=\"#STIXTwoMathRegular_3317\" x=\"44.371\" y=\"-52.318\" width=\"8.512\" height=\"59.752\" fill=\"black\" /><symbol id=\"STIXTwoMathRegular_4274\" viewBox=\"0 -31.524 5.184 51.216\"><path d=\"M 5.184 0 L 5.184 0 L 1.116 0 L 1.116 -0.432 Q 1.98 -0.432 2.262 -0.606 Q 2.544 -0.78 2.544 -1.236 L 2.544 -6.468 Q 2.544 -6.792 2.448 -6.936 Q 2.352 -7.08 2.1 -7.08 Q 1.908 -7.08 1.578 -7.026 Q 1.248 -6.972 1.008 -6.912 L 1.008 -7.392 L 3.228 -8.004 L 3.744 -8.004 L 3.744 -1.236 Q 3.744 -0.78 4.05 -0.606 Q 4.356 -0.432 5.184 -0.432 Z \" /></symbol><use href=\"#STIXTwoMathRegular_4274\" x=\"53.527\" y=\"-38.345\" width=\"4.234\" height=\"41.826\" fill=\"black\" /><use href=\"#STIXTwoMathRegular_4274\" x=\"58.515\" y=\"-38.345\" width=\"4.234\" height=\"41.826\" fill=\"black\" /></g></g></g><g><g><g><symbol id=\"STIXTwoMathRegular_3317\" viewBox=\"-0.108 -31.524 7.296 51.216\"><path d=\"M 6.948 -6.228 L 6.948 -6.228 Q 6.948 -5.592 6.708 -5.16 Q 6.468 -4.728 6.084 -4.452 Q 5.7 -4.176 5.262 -4.026 Q 4.824 -3.876 4.428 -3.804 L 4.428 -3.744 Q 4.644 -3.6 4.836 -3.306 Q 5.028 -3.012 5.31 -2.46 Q 5.592 -1.908 6.084 -0.972 Q 6.288 -0.612 6.534 -0.486 Q 6.78 -0.36 7.188 -0.36 L 7.116 0 L 5.292 0 Q 4.956 -0.744 4.728 -1.242 Q 4.5 -1.74 4.332 -2.076 Q 4.164 -2.412 4.038 -2.676 Q 3.912 -2.94 3.768 -3.216 Q 3.636 -3.468 3.48 -3.546 Q 3.324 -3.624 3 -3.624 L 2.748 -3.624 L 2.304 -1.488 Q 2.208 -0.996 2.238 -0.75 Q 2.268 -0.504 2.508 -0.432 Q 2.748 -0.36 3.264 -0.36 L 3.204 0 L -0.108 0 L -0.036 -0.36 Q 0.408 -0.36 0.648 -0.432 Q 0.888 -0.504 1.014 -0.744 Q 1.14 -0.984 1.236 -1.488 L 2.292 -6.636 Q 2.364 -6.972 2.328 -7.164 Q 2.292 -7.356 2.082 -7.44 Q 1.872 -7.524 1.392 -7.524 L 1.464 -7.884 L 4.284 -7.884 Q 5.544 -7.884 6.246 -7.494 Q 6.948 -7.104 6.948 -6.228 Z M 3.504 -7.38 L 3.504 -7.38 L 2.832 -4.068 L 3.204 -4.056 Q 3.924 -4.08 4.506 -4.29 Q 5.088 -4.5 5.424 -4.956 Q 5.76 -5.412 5.76 -6.18 Q 5.76 -6.504 5.622 -6.786 Q 5.484 -7.068 5.148 -7.242 Q 4.812 -7.416 4.212 -7.416 Q 3.984 -7.416 3.846 -7.41 Q 3.708 -7.404 3.504 -7.38 Z \" /></symbol><use href=\"#STIXTwoMathRegular_3317\" x=\"152.294\" y=\"-49.378\" width=\"8.512\" height=\"59.752\" fill=\"black\" /><symbol id=\"STIXTwoMathRegular_4275\" viewBox=\"0 -31.524 5.868 51.216\"><path d=\"M 5.868 -2.088 L 5.868 -2.088 L 5.46 0 L 0.54 0 L 0.54 -0.588 L 2.244 -2.316 Q 2.916 -2.988 3.354 -3.504 Q 3.792 -4.02 4.008 -4.542 Q 4.224 -5.064 4.224 -5.736 Q 4.224 -6.372 3.834 -6.786 Q 3.444 -7.2 2.736 -7.2 Q 2.088 -7.2 1.65 -6.942 Q 1.212 -6.684 0.876 -6.096 L 0.552 -6.252 Q 0.852 -7.092 1.482 -7.572 Q 2.112 -8.052 3.036 -8.052 Q 3.756 -8.052 4.308 -7.794 Q 4.86 -7.536 5.172 -7.056 Q 5.484 -6.576 5.484 -5.892 Q 5.484 -5.304 5.22 -4.788 Q 4.956 -4.272 4.47 -3.732 Q 3.984 -3.192 3.312 -2.532 L 1.812 -1.08 L 1.812 -0.996 L 2.748 -1.044 L 4.308 -1.044 Q 4.656 -1.044 4.842 -1.14 Q 5.028 -1.236 5.16 -1.47 Q 5.292 -1.704 5.448 -2.088 Z \" /></symbol><use href=\"#STIXTwoMathRegular_4275\" x=\"161.31\" y=\"-44.323\" width=\"4.792\" height=\"41.826\" fill=\"black\" /><use href=\"#STIXTwoMathRegular_4275\" x=\"166.445\" y=\"-44.323\" width=\"4.792\" height=\"41.826\" fill=\"black\" /></g></g></g><g><g><g><symbol id=\"STIXTwoMathRegular_4022\" viewBox=\"0 -31.524 5.964 51.216\"><path d=\"M 5.964 -5.688 L 5.964 -5.688 Q 5.964 -3.864 5.496 -2.55 Q 5.028 -1.236 4.242 -0.534 Q 3.456 0.168 2.52 0.168 Q 1.716 0.168 1.188 -0.468 Q 0.66 -1.104 0.66 -2.496 Q 0.66 -3.732 0.948 -4.83 Q 1.236 -5.928 1.746 -6.78 Q 2.256 -7.632 2.91 -8.118 Q 3.564 -8.604 4.296 -8.604 Q 5.148 -8.604 5.556 -7.8 Q 5.964 -6.996 5.964 -5.688 Z M 2.76 -0.876 L 2.76 -0.876 Q 3.336 -0.876 3.846 -1.2 Q 4.356 -1.524 4.734 -2.226 Q 5.112 -2.928 5.268 -4.056 L 1.368 -4.056 Q 1.344 -3.828 1.326 -3.534 Q 1.308 -3.24 1.308 -3 Q 1.308 -2.16 1.536 -1.698 Q 1.764 -1.236 2.106 -1.056 Q 2.448 -0.876 2.76 -0.876 Z M 4.056 -7.56 L 4.056 -7.56 Q 3.552 -7.56 3.036 -7.218 Q 2.52 -6.876 2.112 -6.234 Q 1.704 -5.592 1.488 -4.692 L 5.352 -4.692 Q 5.364 -4.86 5.37 -5.052 Q 5.376 -5.244 5.376 -5.4 Q 5.376 -5.964 5.244 -6.456 Q 5.112 -6.948 4.818 -7.254 Q 4.524 -7.56 4.056 -7.56 Z \" /></symbol><use href=\"#STIXTwoMathRegular_4022\" x=\"266.787\" y=\"-49.574\" width=\"6.958\" height=\"59.752\" fill=\"black\" /></g></g></g><g><g><g><symbol id=\"STIXTwoMathRegular_3316\" viewBox=\"0 -31.524 8.22 51.216\"><path d=\"M 8.22 -4.908 L 8.22 -4.908 Q 8.22 -3.516 7.752 -2.502 Q 7.284 -1.488 6.498 -0.87 Q 5.712 -0.252 4.752 -0.036 L 4.752 0 Q 4.932 0.264 5.136 0.57 Q 5.34 0.876 5.628 1.14 Q 5.916 1.404 6.348 1.572 Q 6.78 1.74 7.428 1.74 L 7.368 2.076 L 6.768 2.076 Q 5.844 2.076 5.256 1.92 Q 4.668 1.764 4.326 1.44 Q 3.984 1.116 3.792 0.612 L 3.612 0.096 Q 2.208 0.012 1.47 -0.744 Q 0.732 -1.5 0.72 -3.024 Q 0.72 -4.104 1.056 -5.016 Q 1.392 -5.928 1.992 -6.606 Q 2.592 -7.284 3.408 -7.656 Q 4.224 -8.028 5.184 -8.028 Q 6.252 -8.028 6.924 -7.59 Q 7.596 -7.152 7.908 -6.438 Q 8.22 -5.724 8.22 -4.908 Z M 6.996 -4.98 L 6.996 -4.98 Q 6.996 -6.096 6.522 -6.804 Q 6.048 -7.512 5.004 -7.512 Q 4.2 -7.512 3.504 -6.966 Q 2.808 -6.42 2.382 -5.394 Q 1.956 -4.368 1.956 -2.916 Q 1.956 -1.764 2.394 -1.068 Q 2.832 -0.372 3.888 -0.372 Q 4.86 -0.372 5.556 -0.954 Q 6.252 -1.536 6.624 -2.574 Q 6.996 -3.612 6.996 -4.98 Z \" /></symbol><use href=\"#STIXTwoMathRegular_3316\" x=\"370.858\" y=\"-52.318\" width=\"9.59\" height=\"59.752\" fill=\"black\" /><symbol id=\"STIXTwoMathRegular_4274\" viewBox=\"0 -31.524 5.184 51.216\"><path d=\"M 5.184 0 L 5.184 0 L 1.116 0 L 1.116 -0.432 Q 1.98 -0.432 2.262 -0.606 Q 2.544 -0.78 2.544 -1.236 L 2.544 -6.468 Q 2.544 -6.792 2.448 -6.936 Q 2.352 -7.08 2.1 -7.08 Q 1.908 -7.08 1.578 -7.026 Q 1.248 -6.972 1.008 -6.912 L 1.008 -7.392 L 3.228 -8.004 L 3.744 -8.004 L 3.744 -1.236 Q 3.744 -0.78 4.05 -0.606 Q 4.356 -0.432 5.184 -0.432 Z \" /></symbol><use href=\"#STIXTwoMathRegular_4274\" x=\"380.154\" y=\"-38.345\" width=\"4.234\" height=\"41.826\" fill=\"black\" /><rect x=\"370.858\" y=\"-27.832\" width=\"13.444\" height=\"0.952\" fill=\"black\" /></g></g></g><g><g><g><symbol id=\"STIXTwoMathRegular_3317\" viewBox=\"-0.108 -31.524 7.296 51.216\"><path d=\"M 6.948 -6.228 L 6.948 -6.228 Q 6.948 -5.592 6.708 -5.16 Q 6.468 -4.728 6.084 -4.452 Q 5.7 -4.176 5.262 -4.026 Q 4.824 -3.876 4.428 -3.804 L 4.428 -3.744 Q 4.644 -3.6 4.836 -3.306 Q 5.028 -3.012 5.31 -2.46 Q 5.592 -1.908 6.084 -0.972 Q 6.288 -0.612 6.534 -0.486 Q 6.78 -0.36 7.188 -0.36 L 7.116 0 L 5.292 0 Q 4.956 -0.744 4.728 -1.242 Q 4.5 -1.74 4.332 -2.076 Q 4.164 -2.412 4.038 -2.676 Q 3.912 -2.94 3.768 -3.216 Q 3.636 -3.468 3.48 -3.546 Q 3.324 -3.624 3 -3.624 L 2.748 -3.624 L 2.304 -1.488 Q 2.208 -0.996 2.238 -0.75 Q 2.268 -0.504 2.508 -0.432 Q 2.748 -0.36 3.264 -0.36 L 3.204 0 L -0.108 0 L -0.036 -0.36 Q 0.408 -0.36 0.648 -0.432 Q 0.888 -0.504 1.014 -0.744 Q 1.14 -0.984 1.236 -1.488 L 2.292 -6.636 Q 2.364 -6.972 2.328 -7.164 Q 2.292 -7.356 2.082 -7.44 Q 1.872 -7.524 1.392 -7.524 L 1.464 -7.884 L 4.284 -7.884 Q 5.544 -7.884 6.246 -7.494 Q 6.948 -7.104 6.948 -6.228 Z M 3.504 -7.38 L 3.504 -7.38 L 2.832 -4.068 L 3.204 -4.056 Q 3.924 -4.08 4.506 -4.29 Q 5.088 -4.5 5.424 -4.956 Q 5.76 -5.412 5.76 -6.18 Q 5.76 -6.504 5.622 -6.786 Q 5.484 -7.068 5.148 -7.242 Q 4.812 -7.416 4.212 -7.416 Q 3.984 -7.416 3.846 -7.41 Q 3.708 -7.404 3.504 -7.38 Z \" /></symbol><use href=\"#STIXTwoMathRegular_3317\" x=\"478.865\" y=\"-52.318\" width=\"8.512\" height=\"59.752\" fill=\"black\" /><symbol id=\"STIXTwoMathRegular_4274\" viewBox=\"0 -31.524 5.184 51.216\"><path d=\"M 5.184 0 L 5.184 0 L 1.116 0 L 1.116 -0.432 Q 1.98 -0.432 2.262 -0.606 Q 2.544 -0.78 2.544 -1.236 L 2.544 -6.468 Q 2.544 -6.792 2.448 -6.936 Q 2.352 -7.08 2.1 -7.08 Q 1.908 -7.08 1.578 -7.026 Q 1.248 -6.972 1.008 -6.912 L 1.008 -7.392 L 3.228 -8.004 L 3.744 -8.004 L 3.744 -1.236 Q 3.744 -0.78 4.05 -0.606 Q 4.356 -0.432 5.184 -0.432 Z \" /></symbol><use href=\"#STIXTwoMathRegular_4274\" x=\"488.021\" y=\"-38.345\" width=\"4.234\" height=\"41.826\" fill=\"black\" /></g></g></g><g><g><g><symbol id=\"STIXTwoMathRegular_1657\" viewBox=\"0 -31.524 9.948 51.216\"><path d=\"M 8.004 -11.064 L 8.004 -11.064 L 9.948 -11.064 L 9.948 -10.248 L 8.556 -10.248 L 4.956 3.18 L 4.452 3.18 L 1.656 -3.828 L 0.408 -3.348 L 0.216 -3.684 L 2.124 -5.004 L 2.364 -5.004 L 4.74 1.116 L 4.788 1.116 Z \" /></symbol><use href=\"#STIXTwoMathRegular_1657\" x=\"584.585\" y=\"-53.088\" width=\"11.606\" height=\"59.752\" fill=\"black\" /><symbol id=\"STIXTwoMathRegular_3354\" viewBox=\"0 -31.524 6.48 51.216\"><path d=\"M 3.78 -3.576 L 3.78 -3.576 L 4.368 -4.584 Q 4.608 -5.016 4.98 -5.382 Q 5.352 -5.748 5.88 -5.748 Q 6.228 -5.748 6.354 -5.61 Q 6.48 -5.472 6.48 -5.22 Q 6.48 -5.004 6.324 -4.83 Q 6.168 -4.656 5.928 -4.656 Q 5.784 -4.656 5.604 -4.716 Q 5.424 -4.776 5.304 -4.776 Q 5.1 -4.776 4.956 -4.65 Q 4.812 -4.524 4.656 -4.272 L 3.924 -3.108 L 4.176 -2.292 Q 4.428 -1.464 4.638 -1.104 Q 4.848 -0.744 5.124 -0.744 Q 5.364 -0.744 5.556 -0.918 Q 5.748 -1.092 5.988 -1.416 L 6.24 -1.224 Q 6.072 -0.96 5.838 -0.648 Q 5.604 -0.336 5.292 -0.108 Q 4.98 0.12 4.572 0.12 Q 4.164 0.12 3.942 -0.204 Q 3.72 -0.528 3.588 -1.116 L 3.288 -2.328 L 3.24 -2.328 L 2.472 -1.08 Q 2.184 -0.612 1.848 -0.252 Q 1.512 0.108 0.972 0.108 Q 0.588 0.108 0.432 -0.072 Q 0.276 -0.252 0.276 -0.48 Q 0.276 -0.66 0.402 -0.822 Q 0.528 -0.984 0.744 -0.984 Q 0.948 -0.984 1.146 -0.906 Q 1.344 -0.828 1.5 -0.828 Q 1.524 -0.828 1.608 -0.858 Q 1.692 -0.888 1.848 -1.032 Q 2.004 -1.176 2.232 -1.512 L 3.096 -2.772 L 2.76 -3.864 Q 2.604 -4.368 2.448 -4.656 Q 2.292 -4.944 2.064 -5.07 Q 1.836 -5.196 1.44 -5.184 Q 1.296 -5.184 1.182 -5.166 Q 1.068 -5.148 1.068 -5.148 L 1.068 -5.508 L 2.736 -5.7 L 2.916 -5.7 Q 3.132 -5.448 3.306 -5.064 Q 3.48 -4.68 3.6 -4.188 L 3.744 -3.576 Z \" /></symbol><use href=\"#STIXTwoMathRegular_3354\" x=\"595.701\" y=\"-53.088\" width=\"7.56\" height=\"59.752\" fill=\"black\" /><rect x=\"595.701\" y=\"-29.218\" width=\"7.966\" height=\"0.952\" fill=\"black\" /></g></g></g><g><g><g><symbol id=\"STIXTwoMathRegular_868\" viewBox=\"0 -31.524 8.772 51.216\"><path d=\"M 8.496 0 L 8.496 0 L 5.364 0 L 5.364 -0.864 Q 5.928 -1.32 6.318 -1.95 Q 6.708 -2.58 6.906 -3.282 Q 7.104 -3.984 7.104 -4.644 Q 7.104 -6 6.456 -6.762 Q 5.808 -7.524 4.704 -7.524 Q 3.564 -7.524 2.904 -6.75 Q 2.244 -5.976 2.244 -4.644 Q 2.244 -3.996 2.436 -3.282 Q 2.628 -2.568 3.018 -1.932 Q 3.408 -1.296 3.984 -0.852 L 3.984 0 L 0.816 0 L 0.564 -2.124 L 0.912 -2.124 Q 1.02 -1.716 1.122 -1.464 Q 1.224 -1.212 1.41 -1.092 Q 1.596 -0.972 1.932 -0.972 L 3.024 -0.972 L 3.024 -1.044 Q 2.688 -1.296 2.322 -1.626 Q 1.956 -1.956 1.644 -2.388 Q 1.332 -2.82 1.14 -3.39 Q 0.948 -3.96 0.948 -4.692 Q 0.948 -5.688 1.428 -6.438 Q 1.908 -7.188 2.76 -7.608 Q 3.612 -8.028 4.716 -8.028 Q 5.832 -8.028 6.66 -7.608 Q 7.488 -7.188 7.944 -6.438 Q 8.4 -5.688 8.4 -4.704 Q 8.4 -3.972 8.196 -3.402 Q 7.992 -2.832 7.674 -2.394 Q 7.356 -1.956 7.002 -1.626 Q 6.648 -1.296 6.336 -1.044 L 6.336 -0.972 L 7.344 -0.972 Q 7.704 -0.972 7.89 -1.092 Q 8.076 -1.212 8.19 -1.47 Q 8.304 -1.728 8.424 -2.124 L 8.772 -2.124 Z \" /></symbol><use href=\"#STIXTwoMathRegular_868\" x=\"48.89\" y=\"22.622\" width=\"10.234\" height=\"59.752\" fill=\"black\" /></g></g></g><g><g><g><symbol id=\"STIXTwoMathRegular_1681\" viewBox=\"0 -31.524 7.896 51.216\"><path d=\"M 7.896 0 L 7.896 0 L 0.276 0 L 6.984 -6.72 L 7.608 -6.204 L 2.232 -0.804 L 7.896 -0.804 Z \" /></symbol><use href=\"#STIXTwoMathRegular_1681\" x=\"157.254\" y=\"22.622\" width=\"9.212\" height=\"59.752\" fill=\"black\" /></g></g></g><g><g><g><symbol id=\"STIXTwoMathRegular_4244\" viewBox=\"0 -31.524 3.756 51.216\"><path d=\"M 3.756 0 L 3.756 0 L 2.76 0 L 2.76 -6.348 L 1.212 -6.348 L 1.212 -6.996 Q 1.848 -7.092 2.256 -7.23 Q 2.664 -7.368 3 -7.56 L 3.756 -7.56 Z \" /></symbol><use href=\"#STIXTwoMathRegular_4244\" x=\"258.751\" y=\"22.328\" width=\"4.382\" height=\"59.752\" fill=\"black\" /><symbol id=\"STIXTwoMathRegular_4243\" viewBox=\"0 -31.524 5.556 51.216\"><path d=\"M 3.048 0.144 L 3.048 0.144 Q 1.884 0.144 1.218 -0.882 Q 0.552 -1.908 0.552 -3.804 Q 0.552 -5.712 1.218 -6.702 Q 1.884 -7.692 3.048 -7.692 Q 4.224 -7.692 4.89 -6.696 Q 5.556 -5.7 5.556 -3.804 Q 5.556 -1.908 4.89 -0.882 Q 4.224 0.144 3.048 0.144 Z M 3.048 -0.672 L 3.048 -0.672 Q 3.732 -0.672 4.152 -1.41 Q 4.572 -2.148 4.572 -3.804 Q 4.572 -5.46 4.152 -6.174 Q 3.732 -6.888 3.048 -6.888 Q 2.376 -6.888 1.95 -6.174 Q 1.524 -5.46 1.524 -3.804 Q 1.524 -2.148 1.95 -1.41 Q 2.376 -0.672 3.048 -0.672 Z \" /></symbol><use href=\"#STIXTwoMathRegular_4243\" x=\"265.863\" y=\"22.328\" width=\"6.482\" height=\"59.752\" fill=\"black\" /><symbol id=\"STIXTwoMathRegular_1193\" viewBox=\"0 -31.524 7.764 51.216\"><path d=\"M 7.032 -7.992 L 7.032 -7.992 L 2.172 0.252 L 1.596 0.252 L 5.88 -6.984 L 5.82 -6.984 Q 5.52 -6.78 5.238 -6.69 Q 4.956 -6.6 4.584 -6.6 Q 4.368 -6.6 4.206 -6.636 Q 4.044 -6.672 3.768 -6.792 L 3.744 -6.768 Q 3.78 -6.636 3.804 -6.468 Q 3.828 -6.3 3.828 -6.096 Q 3.828 -5.436 3.57 -4.884 Q 3.312 -4.332 2.862 -4.008 Q 2.412 -3.684 1.836 -3.684 Q 1.224 -3.684 0.882 -4.086 Q 0.54 -4.488 0.54 -5.244 Q 0.54 -5.928 0.804 -6.468 Q 1.068 -7.008 1.524 -7.326 Q 1.98 -7.644 2.532 -7.644 Q 2.88 -7.644 3.126 -7.536 Q 3.372 -7.428 3.588 -7.284 Q 3.804 -7.14 4.074 -7.032 Q 4.344 -6.924 4.74 -6.924 Q 5.016 -6.924 5.25 -7.008 Q 5.484 -7.092 5.772 -7.326 Q 6.06 -7.56 6.492 -7.992 Z M 7.764 -2.184 L 7.764 -2.184 Q 7.764 -1.512 7.506 -0.96 Q 7.248 -0.408 6.804 -0.084 Q 6.36 0.24 5.784 0.24 Q 5.172 0.24 4.824 -0.162 Q 4.476 -0.564 4.476 -1.332 Q 4.476 -2.016 4.734 -2.556 Q 4.992 -3.096 5.448 -3.408 Q 5.904 -3.72 6.48 -3.72 Q 7.104 -3.72 7.434 -3.324 Q 7.764 -2.928 7.764 -2.184 Z M 7.356 -2.268 L 7.356 -2.268 Q 7.356 -3.396 6.612 -3.396 Q 6.24 -3.396 5.946 -3.114 Q 5.652 -2.832 5.478 -2.346 Q 5.304 -1.86 5.304 -1.248 Q 5.304 -0.684 5.466 -0.42 Q 5.628 -0.156 5.964 -0.156 Q 6.348 -0.156 6.66 -0.444 Q 6.972 -0.732 7.164 -1.218 Q 7.356 -1.704 7.356 -2.268 Z M 3.42 -6.192 L 3.42 -6.192 Q 3.42 -7.32 2.676 -7.32 Q 2.304 -7.32 2.01 -7.038 Q 1.716 -6.756 1.542 -6.27 Q 1.368 -5.784 1.368 -5.172 Q 1.368 -4.608 1.53 -4.344 Q 1.692 -4.08 2.028 -4.08 Q 2.412 -4.08 2.724 -4.368 Q 3.036 -4.656 3.228 -5.142 Q 3.42 -5.628 3.42 -6.192 Z \" /></symbol><use href=\"#STIXTwoMathRegular_1193\" x=\"272.975\" y=\"22.328\" width=\"9.058\" height=\"59.752\" fill=\"black\" /></g></g></g><g><g><g><symbol id=\"STIXTwoMathRegular_3317\" viewBox=\"-0.108 -31.524 7.296 51.216\"><path d=\"M 6.948 -6.228 L 6.948 -6.228 Q 6.948 -5.592 6.708 -5.16 Q 6.468 -4.728 6.084 -4.452 Q 5.7 -4.176 5.262 -4.026 Q 4.824 -3.876 4.428 -3.804 L 4.428 -3.744 Q 4.644 -3.6 4.836 -3.306 Q 5.028 -3.012 5.31 -2.46 Q 5.592 -1.908 6.084 -0.972 Q 6.288 -0.612 6.534 -0.486 Q 6.78 -0.36 7.188 -0.36 L 7.116 0 L 5.292 0 Q 4.956 -0.744 4.728 -1.242 Q 4.5 -1.74 4.332 -2.076 Q 4.164 -2.412 4.038 -2.676 Q 3.912 -2.94 3.768 -3.216 Q 3.636 -3.468 3.48 -3.546 Q 3.324 -3.624 3 -3.624 L 2.748 -3.624 L 2.304 -1.488 Q 2.208 -0.996 2.238 -0.75 Q 2.268 -0.504 2.508 -0.432 Q 2.748 -0.36 3.264 -0.36 L 3.204 0 L -0.108 0 L -0.036 -0.36 Q 0.408 -0.36 0.648 -0.432 Q 0.888 -0.504 1.014 -0.744 Q 1.14 -0.984 1.236 -1.488 L 2.292 -6.636 Q 2.364 -6.972 2.328 -7.164 Q 2.292 -7.356 2.082 -7.44 Q 1.872 -7.524 1.392 -7.524 L 1.464 -7.884 L 4.284 -7.884 Q 5.544 -7.884 6.246 -7.494 Q 6.948 -7.104 6.948 -6.228 Z M 3.504 -7.38 L 3.504 -7.38 L 2.832 -4.068 L 3.204 -4.056 Q 3.924 -4.08 4.506 -4.29 Q 5.088 -4.5 5.424 -4.956 Q 5.76 -5.412 5.76 -6.18 Q 5.76 -6.504 5.622 -6.786 Q 5.484 -7.068 5.148 -7.242 Q 4.812 -7.416 4.212 -7.416 Q 3.984 -7.416 3.846 -7.41 Q 3.708 -7.404 3.504 -7.38 Z \" /></symbol><use href=\"#STIXTwoMathRegular_3317\" x=\"370.861\" y=\"22.622\" width=\"8.512\" height=\"59.752\" fill=\"black\" /><symbol id=\"STIXTwoMathRegular_4275\" viewBox=\"0 -31.524 5.868 51.216\"><path d=\"M 5.868 -2.088 L 5.868 -2.088 L 5.46 0 L 0.54 0 L 0.54 -0.588 L 2.244 -2.316 Q 2.916 -2.988 3.354 -3.504 Q 3.792 -4.02 4.008 -4.542 Q 4.224 -5.064 4.224 -5.736 Q 4.224 -6.372 3.834 -6.786 Q 3.444 -7.2 2.736 -7.2 Q 2.088 -7.2 1.65 -6.942 Q 1.212 -6.684 0.876 -6.096 L 0.552 -6.252 Q 0.852 -7.092 1.482 -7.572 Q 2.112 -8.052 3.036 -8.052 Q 3.756 -8.052 4.308 -7.794 Q 4.86 -7.536 5.172 -7.056 Q 5.484 -6.576 5.484 -5.892 Q 5.484 -5.304 5.22 -4.788 Q 4.956 -4.272 4.47 -3.732 Q 3.984 -3.192 3.312 -2.532 L 1.812 -1.08 L 1.812 -0.996 L 2.748 -1.044 L 4.308 -1.044 Q 4.656 -1.044 4.842 -1.14 Q 5.028 -1.236 5.16 -1.47 Q 5.292 -1.704 5.448 -2.088 Z \" /></symbol><use href=\"#STIXTwoMathRegular_4275\" x=\"379.877\" y=\"28.615\" width=\"4.792\" height=\"41.826\" fill=\"black\" /></g></g></g><g><g><g><symbol id=\"STIXTwoMathRegular_3317\" viewBox=\"-0.108 -31.524 7.296 51.216\"><path d=\"M 6.948 -6.228 L 6.948 -6.228 Q 6.948 -5.592 6.708 -5.16 Q 6.468 -4.728 6.084 -4.452 Q 5.7 -4.176 5.262 -4.026 Q 4.824 -3.876 4.428 -3.804 L 4.428 -3.744 Q 4.644 -3.6 4.836 -3.306 Q 5.028 -3.012 5.31 -2.46 Q 5.592 -1.908 6.084 -0.972 Q 6.288 -0.612 6.534 -0.486 Q 6.78 -0.36 7.188 -0.36 L 7.116 0 L 5.292 0 Q 4.956 -0.744 4.728 -1.242 Q 4.5 -1.74 4.332 -2.076 Q 4.164 -2.412 4.038 -2.676 Q 3.912 -2.94 3.768 -3.216 Q 3.636 -3.468 3.48 -3.546 Q 3.324 -3.624 3 -3.624 L 2.748 -3.624 L 2.304 -1.488 Q 2.208 -0.996 2.238 -0.75 Q 2.268 -0.504 2.508 -0.432 Q 2.748 -0.36 3.264 -0.36 L 3.204 0 L -0.108 0 L -0.036 -0.36 Q 0.408 -0.36 0.648 -0.432 Q 0.888 -0.504 1.014 -0.744 Q 1.14 -0.984 1.236 -1.488 L 2.292 -6.636 Q 2.364 -6.972 2.328 -7.164 Q 2.292 -7.356 2.082 -7.44 Q 1.872 -7.524 1.392 -7.524 L 1.464 -7.884 L 4.284 -7.884 Q 5.544 -7.884 6.246 -7.494 Q 6.948 -7.104 6.948 -6.228 Z M 3.504 -7.38 L 3.504 -7.38 L 2.832 -4.068 L 3.204 -4.056 Q 3.924 -4.08 4.506 -4.29 Q 5.088 -4.5 5.424 -4.956 Q 5.76 -5.412 5.76 -6.18 Q 5.76 -6.504 5.622 -6.786 Q 5.484 -7.068 5.148 -7.242 Q 4.812 -7.416 4.212 -7.416 Q 3.984 -7.416 3.846 -7.41 Q 3.708 -7.404 3.504 -7.38 Z \" /></symbol><use href=\"#STIXTwoMathRegular_3317\" x=\"478.791\" y=\"19.682\" width=\"8.512\" height=\"59.752\" fill=\"black\" /><symbol id=\"STIXTwoMathRegular_4275\" viewBox=\"0 -31.524 5.868 51.216\"><path d=\"M 5.868 -2.088 L 5.868 -2.088 L 5.46 0 L 0.54 0 L 0.54 -0.588 L 2.244 -2.316 Q 2.916 -2.988 3.354 -3.504 Q 3.792 -4.02 4.008 -4.542 Q 4.224 -5.064 4.224 -5.736 Q 4.224 -6.372 3.834 -6.786 Q 3.444 -7.2 2.736 -7.2 Q 2.088 -7.2 1.65 -6.942 Q 1.212 -6.684 0.876 -6.096 L 0.552 -6.252 Q 0.852 -7.092 1.482 -7.572 Q 2.112 -8.052 3.036 -8.052 Q 3.756 -8.052 4.308 -7.794 Q 4.86 -7.536 5.172 -7.056 Q 5.484 -6.576 5.484 -5.892 Q 5.484 -5.304 5.22 -4.788 Q 4.956 -4.272 4.47 -3.732 Q 3.984 -3.192 3.312 -2.532 L 1.812 -1.08 L 1.812 -0.996 L 2.748 -1.044 L 4.308 -1.044 Q 4.656 -1.044 4.842 -1.14 Q 5.028 -1.236 5.16 -1.47 Q 5.292 -1.704 5.448 -2.088 Z \" /></symbol><use href=\"#STIXTwoMathRegular_4275\" x=\"487.947\" y=\"33.655\" width=\"4.792\" height=\"41.826\" fill=\"black\" /></g></g></g></svg>"
      ]
     },
     "execution_count": 32,
     "metadata": {},
     "output_type": "execute_result"
    }
   ],
   "source": [
    "# Test some mathtext in svg backend\n",
    "schemdraw.use('svg')\n",
    "d = schemdraw.Drawing(font='sans')\n",
    "d += elm.Resistor().label('$R_{11}$')\n",
    "d += elm.Resistor().label('$R^{22}$')\n",
    "d += elm.Resistor().label(r'$\\theta$')\n",
    "d += elm.Resistor().label(r'$\\overline{Q_1}$')\n",
    "d += elm.Resistor().label('$R_1$')\n",
    "d += elm.Resistor().label(r'$\\sqrt{x}$')\n",
    "d.here = (0, -2)\n",
    "d += elm.Resistor().label('Ω')\n",
    "d += elm.Resistor().label('∠')\n",
    "d += elm.Resistor().label('10%')\n",
    "d += elm.Resistor().label('$R^2$')\n",
    "d += elm.Resistor().label('$R_2$')\n",
    "d.draw()"
   ]
  },
  {
   "cell_type": "code",
   "execution_count": 33,
   "id": "512b9c59-7420-476f-ba5e-fc4c23ce1072",
   "metadata": {},
   "outputs": [],
   "source": [
    "schemdraw.debug(False, False)"
   ]
  },
  {
   "cell_type": "code",
   "execution_count": 34,
   "id": "37321cf2",
   "metadata": {},
   "outputs": [
    {
     "data": {
      "image/svg+xml": [
       "<svg xmlns=\"http://www.w3.org/2000/svg\" xmlns:xlink=\"http://www.w3.org/1999/xlink\" xml:lang=\"en\" height=\"63.398pt\" width=\"97.88600000000001pt\" viewBox=\"-7.3 -56.098000000000006 97.88600000000001 63.398\" style=\"background-color:white;\"><circle cx=\"0.0\" cy=\"-0.0\" r=\"2.6999999999999997\" style=\"stroke:black;fill:black;stroke-width:2.0;stroke-dasharray:-;\" /><g><g transform=\" rotate(-45 0.0 -6.3)\"><g><symbol id=\"STIXTwoMathRegular_3676\" viewBox=\"0 -31.524 6.684 51.216\"><path d=\"M 1.104 0 L 1.104 0 L 1.104 -7.884 L 3.636 -7.884 Q 4.452 -7.884 5.088 -7.668 Q 5.724 -7.452 6.084 -6.972 Q 6.444 -6.492 6.444 -5.676 Q 6.444 -4.728 5.952 -4.176 Q 5.46 -3.624 4.644 -3.432 L 6.684 0 L 5.52 0 L 3.588 -3.324 L 2.136 -3.324 L 2.136 0 Z M 2.136 -4.152 L 2.136 -4.152 L 3.48 -4.152 Q 4.416 -4.152 4.92 -4.524 Q 5.424 -4.896 5.424 -5.664 Q 5.424 -6.432 4.92 -6.744 Q 4.416 -7.056 3.48 -7.056 L 2.136 -7.056 Z \" /></symbol><use href=\"#STIXTwoMathRegular_3676\" x=\"0\" y=\"-43.078\" width=\"7.798\" height=\"59.752\" fill=\"black\" /><symbol id=\"STIXTwoMathRegular_4244\" viewBox=\"0 -31.524 3.756 51.216\"><path d=\"M 3.756 0 L 3.756 0 L 2.76 0 L 2.76 -6.348 L 1.212 -6.348 L 1.212 -6.996 Q 1.848 -7.092 2.256 -7.23 Q 2.664 -7.368 3 -7.56 L 3.756 -7.56 Z \" /></symbol><use href=\"#STIXTwoMathRegular_4244\" x=\"8.162\" y=\"-43.078\" width=\"4.382\" height=\"59.752\" fill=\"black\" /></g></g></g><circle cx=\"36.0\" cy=\"-0.0\" r=\"2.6999999999999997\" style=\"stroke:black;fill:black;stroke-width:2.0;stroke-dasharray:-;\" /><g><g transform=\" rotate(-45 36.0 -6.3)\"><g><symbol id=\"STIXTwoMathRegular_3676\" viewBox=\"0 -31.524 6.684 51.216\"><path d=\"M 1.104 0 L 1.104 0 L 1.104 -7.884 L 3.636 -7.884 Q 4.452 -7.884 5.088 -7.668 Q 5.724 -7.452 6.084 -6.972 Q 6.444 -6.492 6.444 -5.676 Q 6.444 -4.728 5.952 -4.176 Q 5.46 -3.624 4.644 -3.432 L 6.684 0 L 5.52 0 L 3.588 -3.324 L 2.136 -3.324 L 2.136 0 Z M 2.136 -4.152 L 2.136 -4.152 L 3.48 -4.152 Q 4.416 -4.152 4.92 -4.524 Q 5.424 -4.896 5.424 -5.664 Q 5.424 -6.432 4.92 -6.744 Q 4.416 -7.056 3.48 -7.056 L 2.136 -7.056 Z \" /></symbol><use href=\"#STIXTwoMathRegular_3676\" x=\"29.007\" y=\"-43.078\" width=\"7.798\" height=\"59.752\" fill=\"black\" /><symbol id=\"STIXTwoMathRegular_4244\" viewBox=\"0 -31.524 3.756 51.216\"><path d=\"M 3.756 0 L 3.756 0 L 2.76 0 L 2.76 -6.348 L 1.212 -6.348 L 1.212 -6.996 Q 1.848 -7.092 2.256 -7.23 Q 2.664 -7.368 3 -7.56 L 3.756 -7.56 Z \" /></symbol><use href=\"#STIXTwoMathRegular_4244\" x=\"37.169\" y=\"-43.078\" width=\"4.382\" height=\"59.752\" fill=\"black\" /></g></g></g><circle cx=\"72.0\" cy=\"-0.0\" r=\"2.6999999999999997\" style=\"stroke:black;fill:black;stroke-width:2.0;stroke-dasharray:-;\" /><g><g transform=\" rotate(-45 72.0 -6.3)\"><g><symbol id=\"STIXTwoMathRegular_3676\" viewBox=\"0 -31.524 6.684 51.216\"><path d=\"M 1.104 0 L 1.104 0 L 1.104 -7.884 L 3.636 -7.884 Q 4.452 -7.884 5.088 -7.668 Q 5.724 -7.452 6.084 -6.972 Q 6.444 -6.492 6.444 -5.676 Q 6.444 -4.728 5.952 -4.176 Q 5.46 -3.624 4.644 -3.432 L 6.684 0 L 5.52 0 L 3.588 -3.324 L 2.136 -3.324 L 2.136 0 Z M 2.136 -4.152 L 2.136 -4.152 L 3.48 -4.152 Q 4.416 -4.152 4.92 -4.524 Q 5.424 -4.896 5.424 -5.664 Q 5.424 -6.432 4.92 -6.744 Q 4.416 -7.056 3.48 -7.056 L 2.136 -7.056 Z \" /></symbol><use href=\"#STIXTwoMathRegular_3676\" x=\"58.014\" y=\"-43.078\" width=\"7.798\" height=\"59.752\" fill=\"black\" /><symbol id=\"STIXTwoMathRegular_4244\" viewBox=\"0 -31.524 3.756 51.216\"><path d=\"M 3.756 0 L 3.756 0 L 2.76 0 L 2.76 -6.348 L 1.212 -6.348 L 1.212 -6.996 Q 1.848 -7.092 2.256 -7.23 Q 2.664 -7.368 3 -7.56 L 3.756 -7.56 Z \" /></symbol><use href=\"#STIXTwoMathRegular_4244\" x=\"66.176\" y=\"-43.078\" width=\"4.382\" height=\"59.752\" fill=\"black\" /></g></g></g><circle cx=\"0.0\" cy=\"-36.0\" r=\"2.6999999999999997\" style=\"stroke:black;fill:black;stroke-width:2.0;stroke-dasharray:-;\" /><g><g transform=\" rotate(-45 0.0 -42.300000000000004)\"><g><symbol id=\"STIXTwoMathRegular_3676\" viewBox=\"0 -31.524 6.684 51.216\"><path d=\"M 1.104 0 L 1.104 0 L 1.104 -7.884 L 3.636 -7.884 Q 4.452 -7.884 5.088 -7.668 Q 5.724 -7.452 6.084 -6.972 Q 6.444 -6.492 6.444 -5.676 Q 6.444 -4.728 5.952 -4.176 Q 5.46 -3.624 4.644 -3.432 L 6.684 0 L 5.52 0 L 3.588 -3.324 L 2.136 -3.324 L 2.136 0 Z M 2.136 -4.152 L 2.136 -4.152 L 3.48 -4.152 Q 4.416 -4.152 4.92 -4.524 Q 5.424 -4.896 5.424 -5.664 Q 5.424 -6.432 4.92 -6.744 Q 4.416 -7.056 3.48 -7.056 L 2.136 -7.056 Z \" /></symbol><use href=\"#STIXTwoMathRegular_3676\" x=\"0\" y=\"-69.88\" width=\"7.798\" height=\"59.752\" fill=\"black\" /><symbol id=\"STIXTwoMathRegular_4244\" viewBox=\"0 -31.524 3.756 51.216\"><path d=\"M 3.756 0 L 3.756 0 L 2.76 0 L 2.76 -6.348 L 1.212 -6.348 L 1.212 -6.996 Q 1.848 -7.092 2.256 -7.23 Q 2.664 -7.368 3 -7.56 L 3.756 -7.56 Z \" /></symbol><use href=\"#STIXTwoMathRegular_4244\" x=\"8.162\" y=\"-69.88\" width=\"4.382\" height=\"59.752\" fill=\"black\" /></g></g></g><circle cx=\"36.0\" cy=\"-36.0\" r=\"2.6999999999999997\" style=\"stroke:black;fill:black;stroke-width:2.0;stroke-dasharray:-;\" /><g><g transform=\" rotate(-45 36.0 -42.300000000000004)\"><g><symbol id=\"STIXTwoMathRegular_3676\" viewBox=\"0 -31.524 6.684 51.216\"><path d=\"M 1.104 0 L 1.104 0 L 1.104 -7.884 L 3.636 -7.884 Q 4.452 -7.884 5.088 -7.668 Q 5.724 -7.452 6.084 -6.972 Q 6.444 -6.492 6.444 -5.676 Q 6.444 -4.728 5.952 -4.176 Q 5.46 -3.624 4.644 -3.432 L 6.684 0 L 5.52 0 L 3.588 -3.324 L 2.136 -3.324 L 2.136 0 Z M 2.136 -4.152 L 2.136 -4.152 L 3.48 -4.152 Q 4.416 -4.152 4.92 -4.524 Q 5.424 -4.896 5.424 -5.664 Q 5.424 -6.432 4.92 -6.744 Q 4.416 -7.056 3.48 -7.056 L 2.136 -7.056 Z \" /></symbol><use href=\"#STIXTwoMathRegular_3676\" x=\"36\" y=\"-79.078\" width=\"7.798\" height=\"59.752\" fill=\"black\" /><symbol id=\"STIXTwoMathRegular_4244\" viewBox=\"0 -31.524 3.756 51.216\"><path d=\"M 3.756 0 L 3.756 0 L 2.76 0 L 2.76 -6.348 L 1.212 -6.348 L 1.212 -6.996 Q 1.848 -7.092 2.256 -7.23 Q 2.664 -7.368 3 -7.56 L 3.756 -7.56 Z \" /></symbol><use href=\"#STIXTwoMathRegular_4244\" x=\"44.162\" y=\"-79.078\" width=\"4.382\" height=\"59.752\" fill=\"black\" /></g></g></g><circle cx=\"72.0\" cy=\"-36.0\" r=\"2.6999999999999997\" style=\"stroke:black;fill:black;stroke-width:2.0;stroke-dasharray:-;\" /><g><g transform=\" rotate(-45 72.0 -42.300000000000004)\"><g><symbol id=\"STIXTwoMathRegular_3676\" viewBox=\"0 -31.524 6.684 51.216\"><path d=\"M 1.104 0 L 1.104 0 L 1.104 -7.884 L 3.636 -7.884 Q 4.452 -7.884 5.088 -7.668 Q 5.724 -7.452 6.084 -6.972 Q 6.444 -6.492 6.444 -5.676 Q 6.444 -4.728 5.952 -4.176 Q 5.46 -3.624 4.644 -3.432 L 6.684 0 L 5.52 0 L 3.588 -3.324 L 2.136 -3.324 L 2.136 0 Z M 2.136 -4.152 L 2.136 -4.152 L 3.48 -4.152 Q 4.416 -4.152 4.92 -4.524 Q 5.424 -4.896 5.424 -5.664 Q 5.424 -6.432 4.92 -6.744 Q 4.416 -7.056 3.48 -7.056 L 2.136 -7.056 Z \" /></symbol><use href=\"#STIXTwoMathRegular_3676\" x=\"72\" y=\"-74.479\" width=\"7.798\" height=\"59.752\" fill=\"black\" /><symbol id=\"STIXTwoMathRegular_4244\" viewBox=\"0 -31.524 3.756 51.216\"><path d=\"M 3.756 0 L 3.756 0 L 2.76 0 L 2.76 -6.348 L 1.212 -6.348 L 1.212 -6.996 Q 1.848 -7.092 2.256 -7.23 Q 2.664 -7.368 3 -7.56 L 3.756 -7.56 Z \" /></symbol><use href=\"#STIXTwoMathRegular_4244\" x=\"80.162\" y=\"-74.479\" width=\"4.382\" height=\"59.752\" fill=\"black\" /></g></g></g></svg>"
      ],
      "text/plain": [
       "<svg xmlns=\"http://www.w3.org/2000/svg\" xmlns:xlink=\"http://www.w3.org/1999/xlink\" xml:lang=\"en\" height=\"63.398pt\" width=\"97.88600000000001pt\" viewBox=\"-7.3 -56.098000000000006 97.88600000000001 63.398\" style=\"background-color:white;\"><circle cx=\"0.0\" cy=\"-0.0\" r=\"2.6999999999999997\" style=\"stroke:black;fill:black;stroke-width:2.0;stroke-dasharray:-;\" /><g><g transform=\" rotate(-45 0.0 -6.3)\"><g><symbol id=\"STIXTwoMathRegular_3676\" viewBox=\"0 -31.524 6.684 51.216\"><path d=\"M 1.104 0 L 1.104 0 L 1.104 -7.884 L 3.636 -7.884 Q 4.452 -7.884 5.088 -7.668 Q 5.724 -7.452 6.084 -6.972 Q 6.444 -6.492 6.444 -5.676 Q 6.444 -4.728 5.952 -4.176 Q 5.46 -3.624 4.644 -3.432 L 6.684 0 L 5.52 0 L 3.588 -3.324 L 2.136 -3.324 L 2.136 0 Z M 2.136 -4.152 L 2.136 -4.152 L 3.48 -4.152 Q 4.416 -4.152 4.92 -4.524 Q 5.424 -4.896 5.424 -5.664 Q 5.424 -6.432 4.92 -6.744 Q 4.416 -7.056 3.48 -7.056 L 2.136 -7.056 Z \" /></symbol><use href=\"#STIXTwoMathRegular_3676\" x=\"0\" y=\"-43.078\" width=\"7.798\" height=\"59.752\" fill=\"black\" /><symbol id=\"STIXTwoMathRegular_4244\" viewBox=\"0 -31.524 3.756 51.216\"><path d=\"M 3.756 0 L 3.756 0 L 2.76 0 L 2.76 -6.348 L 1.212 -6.348 L 1.212 -6.996 Q 1.848 -7.092 2.256 -7.23 Q 2.664 -7.368 3 -7.56 L 3.756 -7.56 Z \" /></symbol><use href=\"#STIXTwoMathRegular_4244\" x=\"8.162\" y=\"-43.078\" width=\"4.382\" height=\"59.752\" fill=\"black\" /></g></g></g><circle cx=\"36.0\" cy=\"-0.0\" r=\"2.6999999999999997\" style=\"stroke:black;fill:black;stroke-width:2.0;stroke-dasharray:-;\" /><g><g transform=\" rotate(-45 36.0 -6.3)\"><g><symbol id=\"STIXTwoMathRegular_3676\" viewBox=\"0 -31.524 6.684 51.216\"><path d=\"M 1.104 0 L 1.104 0 L 1.104 -7.884 L 3.636 -7.884 Q 4.452 -7.884 5.088 -7.668 Q 5.724 -7.452 6.084 -6.972 Q 6.444 -6.492 6.444 -5.676 Q 6.444 -4.728 5.952 -4.176 Q 5.46 -3.624 4.644 -3.432 L 6.684 0 L 5.52 0 L 3.588 -3.324 L 2.136 -3.324 L 2.136 0 Z M 2.136 -4.152 L 2.136 -4.152 L 3.48 -4.152 Q 4.416 -4.152 4.92 -4.524 Q 5.424 -4.896 5.424 -5.664 Q 5.424 -6.432 4.92 -6.744 Q 4.416 -7.056 3.48 -7.056 L 2.136 -7.056 Z \" /></symbol><use href=\"#STIXTwoMathRegular_3676\" x=\"29.007\" y=\"-43.078\" width=\"7.798\" height=\"59.752\" fill=\"black\" /><symbol id=\"STIXTwoMathRegular_4244\" viewBox=\"0 -31.524 3.756 51.216\"><path d=\"M 3.756 0 L 3.756 0 L 2.76 0 L 2.76 -6.348 L 1.212 -6.348 L 1.212 -6.996 Q 1.848 -7.092 2.256 -7.23 Q 2.664 -7.368 3 -7.56 L 3.756 -7.56 Z \" /></symbol><use href=\"#STIXTwoMathRegular_4244\" x=\"37.169\" y=\"-43.078\" width=\"4.382\" height=\"59.752\" fill=\"black\" /></g></g></g><circle cx=\"72.0\" cy=\"-0.0\" r=\"2.6999999999999997\" style=\"stroke:black;fill:black;stroke-width:2.0;stroke-dasharray:-;\" /><g><g transform=\" rotate(-45 72.0 -6.3)\"><g><symbol id=\"STIXTwoMathRegular_3676\" viewBox=\"0 -31.524 6.684 51.216\"><path d=\"M 1.104 0 L 1.104 0 L 1.104 -7.884 L 3.636 -7.884 Q 4.452 -7.884 5.088 -7.668 Q 5.724 -7.452 6.084 -6.972 Q 6.444 -6.492 6.444 -5.676 Q 6.444 -4.728 5.952 -4.176 Q 5.46 -3.624 4.644 -3.432 L 6.684 0 L 5.52 0 L 3.588 -3.324 L 2.136 -3.324 L 2.136 0 Z M 2.136 -4.152 L 2.136 -4.152 L 3.48 -4.152 Q 4.416 -4.152 4.92 -4.524 Q 5.424 -4.896 5.424 -5.664 Q 5.424 -6.432 4.92 -6.744 Q 4.416 -7.056 3.48 -7.056 L 2.136 -7.056 Z \" /></symbol><use href=\"#STIXTwoMathRegular_3676\" x=\"58.014\" y=\"-43.078\" width=\"7.798\" height=\"59.752\" fill=\"black\" /><symbol id=\"STIXTwoMathRegular_4244\" viewBox=\"0 -31.524 3.756 51.216\"><path d=\"M 3.756 0 L 3.756 0 L 2.76 0 L 2.76 -6.348 L 1.212 -6.348 L 1.212 -6.996 Q 1.848 -7.092 2.256 -7.23 Q 2.664 -7.368 3 -7.56 L 3.756 -7.56 Z \" /></symbol><use href=\"#STIXTwoMathRegular_4244\" x=\"66.176\" y=\"-43.078\" width=\"4.382\" height=\"59.752\" fill=\"black\" /></g></g></g><circle cx=\"0.0\" cy=\"-36.0\" r=\"2.6999999999999997\" style=\"stroke:black;fill:black;stroke-width:2.0;stroke-dasharray:-;\" /><g><g transform=\" rotate(-45 0.0 -42.300000000000004)\"><g><symbol id=\"STIXTwoMathRegular_3676\" viewBox=\"0 -31.524 6.684 51.216\"><path d=\"M 1.104 0 L 1.104 0 L 1.104 -7.884 L 3.636 -7.884 Q 4.452 -7.884 5.088 -7.668 Q 5.724 -7.452 6.084 -6.972 Q 6.444 -6.492 6.444 -5.676 Q 6.444 -4.728 5.952 -4.176 Q 5.46 -3.624 4.644 -3.432 L 6.684 0 L 5.52 0 L 3.588 -3.324 L 2.136 -3.324 L 2.136 0 Z M 2.136 -4.152 L 2.136 -4.152 L 3.48 -4.152 Q 4.416 -4.152 4.92 -4.524 Q 5.424 -4.896 5.424 -5.664 Q 5.424 -6.432 4.92 -6.744 Q 4.416 -7.056 3.48 -7.056 L 2.136 -7.056 Z \" /></symbol><use href=\"#STIXTwoMathRegular_3676\" x=\"0\" y=\"-69.88\" width=\"7.798\" height=\"59.752\" fill=\"black\" /><symbol id=\"STIXTwoMathRegular_4244\" viewBox=\"0 -31.524 3.756 51.216\"><path d=\"M 3.756 0 L 3.756 0 L 2.76 0 L 2.76 -6.348 L 1.212 -6.348 L 1.212 -6.996 Q 1.848 -7.092 2.256 -7.23 Q 2.664 -7.368 3 -7.56 L 3.756 -7.56 Z \" /></symbol><use href=\"#STIXTwoMathRegular_4244\" x=\"8.162\" y=\"-69.88\" width=\"4.382\" height=\"59.752\" fill=\"black\" /></g></g></g><circle cx=\"36.0\" cy=\"-36.0\" r=\"2.6999999999999997\" style=\"stroke:black;fill:black;stroke-width:2.0;stroke-dasharray:-;\" /><g><g transform=\" rotate(-45 36.0 -42.300000000000004)\"><g><symbol id=\"STIXTwoMathRegular_3676\" viewBox=\"0 -31.524 6.684 51.216\"><path d=\"M 1.104 0 L 1.104 0 L 1.104 -7.884 L 3.636 -7.884 Q 4.452 -7.884 5.088 -7.668 Q 5.724 -7.452 6.084 -6.972 Q 6.444 -6.492 6.444 -5.676 Q 6.444 -4.728 5.952 -4.176 Q 5.46 -3.624 4.644 -3.432 L 6.684 0 L 5.52 0 L 3.588 -3.324 L 2.136 -3.324 L 2.136 0 Z M 2.136 -4.152 L 2.136 -4.152 L 3.48 -4.152 Q 4.416 -4.152 4.92 -4.524 Q 5.424 -4.896 5.424 -5.664 Q 5.424 -6.432 4.92 -6.744 Q 4.416 -7.056 3.48 -7.056 L 2.136 -7.056 Z \" /></symbol><use href=\"#STIXTwoMathRegular_3676\" x=\"36\" y=\"-79.078\" width=\"7.798\" height=\"59.752\" fill=\"black\" /><symbol id=\"STIXTwoMathRegular_4244\" viewBox=\"0 -31.524 3.756 51.216\"><path d=\"M 3.756 0 L 3.756 0 L 2.76 0 L 2.76 -6.348 L 1.212 -6.348 L 1.212 -6.996 Q 1.848 -7.092 2.256 -7.23 Q 2.664 -7.368 3 -7.56 L 3.756 -7.56 Z \" /></symbol><use href=\"#STIXTwoMathRegular_4244\" x=\"44.162\" y=\"-79.078\" width=\"4.382\" height=\"59.752\" fill=\"black\" /></g></g></g><circle cx=\"72.0\" cy=\"-36.0\" r=\"2.6999999999999997\" style=\"stroke:black;fill:black;stroke-width:2.0;stroke-dasharray:-;\" /><g><g transform=\" rotate(-45 72.0 -42.300000000000004)\"><g><symbol id=\"STIXTwoMathRegular_3676\" viewBox=\"0 -31.524 6.684 51.216\"><path d=\"M 1.104 0 L 1.104 0 L 1.104 -7.884 L 3.636 -7.884 Q 4.452 -7.884 5.088 -7.668 Q 5.724 -7.452 6.084 -6.972 Q 6.444 -6.492 6.444 -5.676 Q 6.444 -4.728 5.952 -4.176 Q 5.46 -3.624 4.644 -3.432 L 6.684 0 L 5.52 0 L 3.588 -3.324 L 2.136 -3.324 L 2.136 0 Z M 2.136 -4.152 L 2.136 -4.152 L 3.48 -4.152 Q 4.416 -4.152 4.92 -4.524 Q 5.424 -4.896 5.424 -5.664 Q 5.424 -6.432 4.92 -6.744 Q 4.416 -7.056 3.48 -7.056 L 2.136 -7.056 Z \" /></symbol><use href=\"#STIXTwoMathRegular_3676\" x=\"72\" y=\"-74.479\" width=\"7.798\" height=\"59.752\" fill=\"black\" /><symbol id=\"STIXTwoMathRegular_4244\" viewBox=\"0 -31.524 3.756 51.216\"><path d=\"M 3.756 0 L 3.756 0 L 2.76 0 L 2.76 -6.348 L 1.212 -6.348 L 1.212 -6.996 Q 1.848 -7.092 2.256 -7.23 Q 2.664 -7.368 3 -7.56 L 3.756 -7.56 Z \" /></symbol><use href=\"#STIXTwoMathRegular_4244\" x=\"80.162\" y=\"-74.479\" width=\"4.382\" height=\"59.752\" fill=\"black\" /></g></g></g></svg>"
      ]
     },
     "execution_count": 34,
     "metadata": {},
     "output_type": "execute_result"
    }
   ],
   "source": [
    "# Test some mathtext in svg backend\n",
    "schemdraw.use('svg')\n",
    "d = schemdraw.Drawing()\n",
    "d += elm.Dot().label('R1', rotate=45)\n",
    "d += elm.Dot().at((1, 0)).label('R1', rotate=45, halign='center')\n",
    "d += elm.Dot().at((2, 0)).label('R1', rotate=45, halign='right')\n",
    "d += elm.Dot().at((0, 1)).label('R1', rotate=45, valign='top')\n",
    "d += elm.Dot().at((1, 1)).label('R1', rotate=45, valign='bottom')\n",
    "d += elm.Dot().at((2, 1)).label('R1', rotate=45, valign='center')\n",
    "d.draw()"
   ]
  },
  {
   "cell_type": "code",
   "execution_count": 35,
   "id": "64ddfde5",
   "metadata": {},
   "outputs": [],
   "source": [
    "from schemdraw.backends import svgtext\n",
    "from IPython.display import SVG\n",
    "from xml.etree import ElementTree as ET\n",
    "# These should appear similar to\n",
    "# https://matplotlib.org/3.1.1/gallery/text_labels_and_annotations/demo_text_rotation_mode.html"
   ]
  },
  {
   "cell_type": "code",
   "execution_count": 36,
   "id": "f18935df",
   "metadata": {},
   "outputs": [
    {
     "data": {
      "image/svg+xml": [
       "<svg xmlns=\"http://www.w3.org/2000/svg\" xml:lang=\"en\" height=\"150pt\" width=\"150pt\"><g><text x=\"50\" y=\"34.0\" dominant-baseline=\"central\" fill=\"black\" font-size=\"16\" font-family=\"Arial\" text-anchor=\"start\" transform=\"rotate(-45 50 50)\"><tspan x=\"50\" dy=\"16\">ABC</tspan></text><circle cx=\"50\" cy=\"50\" r=\"1.5\" stroke=\"red\" fill=\"red\"/><rect x=\"38.68629150101524\" y=\"15.877855167061966\" width=\"34.12214483293804\" height=\"34.122144832938034\" style=\"stroke:red;stroke-width:1;fill:none\"/></g></svg>"
      ],
      "text/plain": [
       "<IPython.core.display.SVG object>"
      ]
     },
     "execution_count": 36,
     "metadata": {},
     "output_type": "execute_result"
    }
   ],
   "source": [
    "svghead = '<svg xmlns=\"http://www.w3.org/2000/svg\" xml:lang=\"en\" height=\"150pt\" width=\"150pt\">{}</svg>'\n",
    "s = svgtext.text_tosvg('ABC', 50, 50, halign='left', rotation=45, testmode=True)\n",
    "SVG(svghead.format(ET.tostring(s, encoding='unicode')))"
   ]
  },
  {
   "cell_type": "code",
   "execution_count": 37,
   "id": "d6b57644",
   "metadata": {},
   "outputs": [
    {
     "data": {
      "image/svg+xml": [
       "<svg xmlns=\"http://www.w3.org/2000/svg\" xml:lang=\"en\" height=\"150pt\" width=\"150pt\"><g><text x=\"30\" y=\"14.0\" dominant-baseline=\"hanging\" fill=\"black\" font-size=\"16\" font-family=\"Arial\" text-anchor=\"start\" transform=\"rotate(-30 30 30)\"><tspan x=\"30\" dy=\"16\">ABC</tspan></text><circle cx=\"30\" cy=\"30\" r=\"1.5\" stroke=\"red\" fill=\"red\"/><rect x=\"22.0\" y=\"0.015593539448985894\" width=\"35.93451542447086\" height=\"29.984406460551014\" style=\"stroke:red;stroke-width:1;fill:none\"/></g><g><text x=\"90\" y=\"14.0\" dominant-baseline=\"hanging\" fill=\"black\" font-size=\"16\" font-family=\"Arial\" text-anchor=\"middle\" transform=\"rotate(-30 90 30)\"><tspan x=\"90\" dy=\"16\">ABC</tspan></text><circle cx=\"90\" cy=\"30\" r=\"1.5\" stroke=\"red\" fill=\"red\"/><rect x=\"68.03274228776458\" y=\"8.079593539448982\" width=\"35.934515424470845\" height=\"29.984406460551018\" style=\"stroke:red;stroke-width:1;fill:none\"/></g><g><text x=\"150\" y=\"14.0\" dominant-baseline=\"hanging\" fill=\"black\" font-size=\"16\" font-family=\"Arial\" text-anchor=\"end\" transform=\"rotate(-30 150 30)\"><tspan x=\"150\" dy=\"16\">ABC</tspan></text><circle cx=\"150\" cy=\"30\" r=\"1.5\" stroke=\"red\" fill=\"red\"/><rect x=\"114.06548457552915\" y=\"16.14359353944898\" width=\"35.934515424470845\" height=\"29.98440646055102\" style=\"stroke:red;stroke-width:1;fill:none\"/></g><g><text x=\"30\" y=\"64.0\" dominant-baseline=\"central\" fill=\"black\" font-size=\"16\" font-family=\"Arial\" text-anchor=\"start\" transform=\"rotate(-30 30 80)\"><tspan x=\"30\" dy=\"16\">ABC</tspan></text><circle cx=\"30\" cy=\"80\" r=\"1.5\" stroke=\"red\" fill=\"red\"/><rect x=\"22.0\" y=\"50.015593539448986\" width=\"35.93451542447086\" height=\"29.984406460551014\" style=\"stroke:red;stroke-width:1;fill:none\"/></g><g><text x=\"90\" y=\"64.0\" dominant-baseline=\"central\" fill=\"black\" font-size=\"16\" font-family=\"Arial\" text-anchor=\"middle\" transform=\"rotate(-30 90 80)\"><tspan x=\"90\" dy=\"16\">ABC</tspan></text><circle cx=\"90\" cy=\"80\" r=\"1.5\" stroke=\"red\" fill=\"red\"/><rect x=\"68.03274228776458\" y=\"58.07959353944898\" width=\"35.934515424470845\" height=\"29.984406460551014\" style=\"stroke:red;stroke-width:1;fill:none\"/></g><g><text x=\"150\" y=\"64.0\" dominant-baseline=\"central\" fill=\"black\" font-size=\"16\" font-family=\"Arial\" text-anchor=\"end\" transform=\"rotate(-30 150 80)\"><tspan x=\"150\" dy=\"16\">ABC</tspan></text><circle cx=\"150\" cy=\"80\" r=\"1.5\" stroke=\"red\" fill=\"red\"/><rect x=\"114.06548457552915\" y=\"66.14359353944899\" width=\"35.934515424470845\" height=\"29.984406460551014\" style=\"stroke:red;stroke-width:1;fill:none\"/></g><g><text x=\"30\" y=\"114.0\" dominant-baseline=\"ideographic\" fill=\"black\" font-size=\"16\" font-family=\"Arial\" text-anchor=\"start\" transform=\"rotate(-30 30 130)\"><tspan x=\"30\" dy=\"16\">ABC</tspan></text><circle cx=\"30\" cy=\"130\" r=\"1.5\" stroke=\"red\" fill=\"red\"/><rect x=\"22.0\" y=\"100.01559353944899\" width=\"35.93451542447086\" height=\"29.984406460551014\" style=\"stroke:red;stroke-width:1;fill:none\"/></g><g><text x=\"90\" y=\"114.0\" dominant-baseline=\"ideographic\" fill=\"black\" font-size=\"16\" font-family=\"Arial\" text-anchor=\"middle\" transform=\"rotate(-30 90 130)\"><tspan x=\"90\" dy=\"16\">ABC</tspan></text><circle cx=\"90\" cy=\"130\" r=\"1.5\" stroke=\"red\" fill=\"red\"/><rect x=\"68.03274228776458\" y=\"108.07959353944898\" width=\"35.934515424470845\" height=\"29.984406460551014\" style=\"stroke:red;stroke-width:1;fill:none\"/></g><g><text x=\"150\" y=\"114.0\" dominant-baseline=\"ideographic\" fill=\"black\" font-size=\"16\" font-family=\"Arial\" text-anchor=\"end\" transform=\"rotate(-30 150 130)\"><tspan x=\"150\" dy=\"16\">ABC</tspan></text><circle cx=\"150\" cy=\"130\" r=\"1.5\" stroke=\"red\" fill=\"red\"/><rect x=\"114.06548457552915\" y=\"116.14359353944899\" width=\"35.934515424470845\" height=\"29.984406460551\" style=\"stroke:red;stroke-width:1;fill:none\"/></g></svg>"
      ],
      "text/plain": [
       "<IPython.core.display.SVG object>"
      ]
     },
     "execution_count": 37,
     "metadata": {},
     "output_type": "execute_result"
    }
   ],
   "source": [
    "# \"anchor\" rotation mode\n",
    "s = ET.tostring(svgtext.text_tosvg('ABC', 30, 30, rotation=30,\n",
    "                       halign='left', valign='top', \n",
    "                       testmode=True),\n",
    "                encoding='unicode')\n",
    "s += ET.tostring(svgtext.text_tosvg('ABC', 90, 30, rotation=30,\n",
    "                       halign='center', valign='top', \n",
    "                       testmode=True),\n",
    "                encoding='unicode')\n",
    "s += ET.tostring(svgtext.text_tosvg('ABC', 150, 30, rotation=30,\n",
    "                       halign='right', valign='top', \n",
    "                       testmode=True),\n",
    "                encoding='unicode')\n",
    "s += ET.tostring(svgtext.text_tosvg('ABC', 30, 80, rotation=30,\n",
    "                       halign='left', valign='center', \n",
    "                       testmode=True),\n",
    "                encoding='unicode')\n",
    "s += ET.tostring(svgtext.text_tosvg('ABC', 90, 80, rotation=30,\n",
    "                       halign='center', valign='center', \n",
    "                       testmode=True),\n",
    "                encoding='unicode')\n",
    "s += ET.tostring(svgtext.text_tosvg('ABC', 150, 80, rotation=30,\n",
    "                       halign='right', valign='center', \n",
    "                       testmode=True),\n",
    "                encoding='unicode')\n",
    "s += ET.tostring(svgtext.text_tosvg('ABC', 30, 130, rotation=30,\n",
    "                       halign='left', valign='bottom', \n",
    "                       testmode=True),\n",
    "                encoding='unicode')\n",
    "s += ET.tostring(svgtext.text_tosvg('ABC', 90, 130, rotation=30,\n",
    "                       halign='center', valign='bottom', \n",
    "                       testmode=True),\n",
    "                encoding='unicode')\n",
    "s += ET.tostring(svgtext.text_tosvg('ABC', 150, 130, rotation=30,\n",
    "                       halign='right', valign='bottom', \n",
    "                       testmode=True),\n",
    "                encoding='unicode')\n",
    "\n",
    "SVG(svghead.format(s))"
   ]
  },
  {
   "cell_type": "code",
   "execution_count": 38,
   "id": "619818c5",
   "metadata": {},
   "outputs": [
    {
     "data": {
      "image/svg+xml": [
       "<svg xmlns=\"http://www.w3.org/2000/svg\" xml:lang=\"en\" height=\"150pt\" width=\"150pt\"><g><text x=\"30\" y=\"14.0\" dominant-baseline=\"hanging\" fill=\"black\" font-size=\"16\" font-family=\"Arial\" text-anchor=\"start\" transform=\"translate(8.0 29.984406460551014) rotate(-30 30 30)\"><tspan x=\"30\" dy=\"16\">ABC</tspan></text><circle cx=\"30\" cy=\"30\" r=\"1.5\" stroke=\"red\" fill=\"red\"/><rect x=\"30.0\" y=\"30.0\" width=\"35.93451542447086\" height=\"29.984406460551014\" style=\"stroke:red;stroke-width:1;fill:none\"/></g><g><text x=\"90\" y=\"14.0\" dominant-baseline=\"hanging\" fill=\"black\" font-size=\"16\" font-family=\"Arial\" text-anchor=\"middle\" transform=\"translate(4.0 21.920406460551018) rotate(-30 90 30)\"><tspan x=\"90\" dy=\"16\">ABC</tspan></text><circle cx=\"90\" cy=\"30\" r=\"1.5\" stroke=\"red\" fill=\"red\"/><rect x=\"72.03274228776458\" y=\"30.0\" width=\"35.934515424470845\" height=\"29.984406460551014\" style=\"stroke:red;stroke-width:1;fill:none\"/></g><g><text x=\"150\" y=\"14.0\" dominant-baseline=\"hanging\" fill=\"black\" font-size=\"16\" font-family=\"Arial\" text-anchor=\"end\" transform=\"translate(0.0 13.856406460551021) rotate(-30 150 30)\"><tspan x=\"150\" dy=\"16\">ABC</tspan></text><circle cx=\"150\" cy=\"30\" r=\"1.5\" stroke=\"red\" fill=\"red\"/><rect x=\"114.06548457552915\" y=\"30.0\" width=\"35.934515424470845\" height=\"29.98440646055102\" style=\"stroke:red;stroke-width:1;fill:none\"/></g><g><text x=\"30\" y=\"64.0\" dominant-baseline=\"central\" fill=\"black\" font-size=\"16\" font-family=\"Arial\" text-anchor=\"start\" transform=\"translate(8.0 14.992203230275507) rotate(-30 30 80)\"><tspan x=\"30\" dy=\"16\">ABC</tspan></text><circle cx=\"30\" cy=\"80\" r=\"1.5\" stroke=\"red\" fill=\"red\"/><rect x=\"30.0\" y=\"65.0077967697245\" width=\"35.93451542447086\" height=\"29.984406460551014\" style=\"stroke:red;stroke-width:1;fill:none\"/></g><g><text x=\"90\" y=\"64.0\" dominant-baseline=\"central\" fill=\"black\" font-size=\"16\" font-family=\"Arial\" text-anchor=\"middle\" transform=\"translate(4.0 6.928203230275514) rotate(-30 90 80)\"><tspan x=\"90\" dy=\"16\">ABC</tspan></text><circle cx=\"90\" cy=\"80\" r=\"1.5\" stroke=\"red\" fill=\"red\"/><rect x=\"72.03274228776458\" y=\"65.0077967697245\" width=\"35.934515424470845\" height=\"29.984406460551014\" style=\"stroke:red;stroke-width:1;fill:none\"/></g><g><text x=\"150\" y=\"64.0\" dominant-baseline=\"central\" fill=\"black\" font-size=\"16\" font-family=\"Arial\" text-anchor=\"end\" transform=\"translate(0.0 -1.135796769724493) rotate(-30 150 80)\"><tspan x=\"150\" dy=\"16\">ABC</tspan></text><circle cx=\"150\" cy=\"80\" r=\"1.5\" stroke=\"red\" fill=\"red\"/><rect x=\"114.06548457552915\" y=\"65.0077967697245\" width=\"35.934515424470845\" height=\"29.984406460551014\" style=\"stroke:red;stroke-width:1;fill:none\"/></g><g><text x=\"30\" y=\"114.0\" dominant-baseline=\"ideographic\" fill=\"black\" font-size=\"16\" font-family=\"Arial\" text-anchor=\"start\" transform=\"translate(8.0 0.0) rotate(-30 30 130)\"><tspan x=\"30\" dy=\"16\">ABC</tspan></text><circle cx=\"30\" cy=\"130\" r=\"1.5\" stroke=\"red\" fill=\"red\"/><rect x=\"30.0\" y=\"100.01559353944899\" width=\"35.93451542447086\" height=\"29.984406460551014\" style=\"stroke:red;stroke-width:1;fill:none\"/></g><g><text x=\"90\" y=\"114.0\" dominant-baseline=\"ideographic\" fill=\"black\" font-size=\"16\" font-family=\"Arial\" text-anchor=\"middle\" transform=\"translate(4.0 -8.063999999999993) rotate(-30 90 130)\"><tspan x=\"90\" dy=\"16\">ABC</tspan></text><circle cx=\"90\" cy=\"130\" r=\"1.5\" stroke=\"red\" fill=\"red\"/><rect x=\"72.03274228776458\" y=\"100.01559353944899\" width=\"35.934515424470845\" height=\"29.984406460551014\" style=\"stroke:red;stroke-width:1;fill:none\"/></g><g><text x=\"150\" y=\"114.0\" dominant-baseline=\"ideographic\" fill=\"black\" font-size=\"16\" font-family=\"Arial\" text-anchor=\"end\" transform=\"translate(0.0 -16.127999999999986) rotate(-30 150 130)\"><tspan x=\"150\" dy=\"16\">ABC</tspan></text><circle cx=\"150\" cy=\"130\" r=\"1.5\" stroke=\"red\" fill=\"red\"/><rect x=\"114.06548457552915\" y=\"100.015593539449\" width=\"35.934515424470845\" height=\"29.984406460551\" style=\"stroke:red;stroke-width:1;fill:none\"/></g></svg>"
      ],
      "text/plain": [
       "<IPython.core.display.SVG object>"
      ]
     },
     "execution_count": 38,
     "metadata": {},
     "output_type": "execute_result"
    }
   ],
   "source": [
    "# \"default\" rotation mode\n",
    "s = ET.tostring(svgtext.text_tosvg('ABC', 30, 30, rotation=30,\n",
    "                       halign='left', valign='top', \n",
    "                       rotation_mode='default', testmode=True),\n",
    "                encoding='unicode')\n",
    "s += ET.tostring(svgtext.text_tosvg('ABC', 90, 30, rotation=30,\n",
    "                       halign='center', valign='top', \n",
    "                       rotation_mode='default', testmode=True),\n",
    "                encoding='unicode')\n",
    "s += ET.tostring(svgtext.text_tosvg('ABC', 150, 30, rotation=30,\n",
    "                       halign='right', valign='top', \n",
    "                       rotation_mode='default', testmode=True),\n",
    "                encoding='unicode')\n",
    "s += ET.tostring(svgtext.text_tosvg('ABC', 30, 80, rotation=30,\n",
    "                       halign='left', valign='center', \n",
    "                       rotation_mode='default', testmode=True),\n",
    "                encoding='unicode')\n",
    "s += ET.tostring(svgtext.text_tosvg('ABC', 90, 80, rotation=30,\n",
    "                       halign='center', valign='center', \n",
    "                       rotation_mode='default', testmode=True),\n",
    "                encoding='unicode')\n",
    "s += ET.tostring(svgtext.text_tosvg('ABC', 150, 80, rotation=30,\n",
    "                       halign='right', valign='center', \n",
    "                       rotation_mode='default', testmode=True),\n",
    "                encoding='unicode')\n",
    "s += ET.tostring(svgtext.text_tosvg('ABC', 30, 130, rotation=30,\n",
    "                       halign='left', valign='bottom', \n",
    "                       rotation_mode='default', testmode=True),\n",
    "                encoding='unicode')\n",
    "s += ET.tostring(svgtext.text_tosvg('ABC', 90, 130, rotation=30,\n",
    "                       halign='center', valign='bottom', \n",
    "                       rotation_mode='default', testmode=True),\n",
    "                encoding='unicode')\n",
    "s += ET.tostring(svgtext.text_tosvg('ABC', 150, 130, rotation=30,\n",
    "                       halign='right', valign='bottom', \n",
    "                       rotation_mode='default', testmode=True),\n",
    "                encoding='unicode')\n",
    "\n",
    "SVG(svghead.format(s))"
   ]
  },
  {
   "cell_type": "code",
   "execution_count": 39,
   "id": "a25ad980",
   "metadata": {},
   "outputs": [
    {
     "data": {
      "image/svg+xml": [
       "<svg xmlns=\"http://www.w3.org/2000/svg\" xml:lang=\"en\" height=\"150pt\" width=\"150pt\">b'<g><text x=\"50\" y=\"34.0\" dominant-baseline=\"central\" fill=\"black\" font-size=\"16\" font-family=\"Arial\" text-anchor=\"start\" transform=\"rotate(-145 50 50)\"><tspan x=\"50\" dy=\"16\">A<tspan baseline-shift=\"super\" font-size=\"smaller\">x</tspan> + B₁</tspan></text><circle cx=\"50\" cy=\"50\" r=\"1.5\" stroke=\"red\" fill=\"red\"/><rect x=\"-8.483622831459734\" y=\"15.47528714315785\" width=\"58.48362283145973\" height=\"47.63114556546602\" style=\"stroke:red;stroke-width:1;fill:none\"/></g>'</svg>"
      ],
      "text/plain": [
       "<IPython.core.display.SVG object>"
      ]
     },
     "execution_count": 39,
     "metadata": {},
     "output_type": "execute_result"
    }
   ],
   "source": [
    "svghead = '<svg xmlns=\"http://www.w3.org/2000/svg\" xml:lang=\"en\" height=\"150pt\" width=\"150pt\">{}</svg>'\n",
    "s = svgtext.text_tosvg('$A^x$ + $B_1$', 50, 50, halign='left', rotation=145, testmode=True)\n",
    "SVG(svghead.format(ET.tostring(s)))"
   ]
  },
  {
   "cell_type": "code",
   "execution_count": 40,
   "id": "154b6795",
   "metadata": {},
   "outputs": [
    {
     "data": {
      "image/svg+xml": [
       "<svg xmlns=\"http://www.w3.org/2000/svg\" xml:lang=\"en\" height=\"150pt\" width=\"150pt\">b'<g><text x=\"50\" y=\"28.0\" dominant-baseline=\"central\" fill=\"black\" font-size=\"22\" font-family=\"Arial\" text-anchor=\"start\" transform=\"rotate(45 50 50)\"><tspan x=\"50\" dy=\"22\">A<tspan baseline-shift=\"super\" font-size=\"smaller\">xy</tspan> + B₁₁</tspan></text><circle cx=\"50\" cy=\"50\" r=\"1.5\" stroke=\"red\" fill=\"red\"/><rect x=\"50.0\" y=\"34.44365081389596\" width=\"89.01343004288736\" height=\"89.01343004288735\" style=\"stroke:red;stroke-width:1;fill:none\"/></g>'</svg>"
      ],
      "text/plain": [
       "<IPython.core.display.SVG object>"
      ]
     },
     "execution_count": 40,
     "metadata": {},
     "output_type": "execute_result"
    }
   ],
   "source": [
    "svghead = '<svg xmlns=\"http://www.w3.org/2000/svg\" xml:lang=\"en\" height=\"150pt\" width=\"150pt\">{}</svg>'\n",
    "s = svgtext.text_tosvg('$A^{xy}$ + $B_{11}$', 50, 50, halign='left', size=22, rotation=-45, testmode=True)\n",
    "SVG(svghead.format(ET.tostring(s)))"
   ]
  },
  {
   "cell_type": "code",
   "execution_count": 41,
   "id": "4994cf13",
   "metadata": {},
   "outputs": [],
   "source": [
    "schemdraw.svgconfig.text = 'text'"
   ]
  },
  {
   "cell_type": "code",
   "execution_count": 42,
   "id": "60ae408c",
   "metadata": {},
   "outputs": [
    {
     "data": {
      "image/svg+xml": [
       "<svg xmlns=\"http://www.w3.org/2000/svg\" xml:lang=\"en\" height=\"150pt\" width=\"150pt\"><g><text x=\"30\" y=\"14.0\" dominant-baseline=\"hanging\" fill=\"black\" font-size=\"16\" font-family=\"Arial\" text-anchor=\"start\" transform=\"translate(8.0 29.984406460551014) rotate(-30 30 30)\"><tspan x=\"30\" dy=\"16\">ABC</tspan></text><circle cx=\"30\" cy=\"30\" r=\"1.5\" stroke=\"red\" fill=\"red\"/><rect x=\"30.0\" y=\"30.0\" width=\"35.93451542447086\" height=\"29.984406460551014\" style=\"stroke:red;stroke-width:1;fill:none\"/></g><g><text x=\"90\" y=\"14.0\" dominant-baseline=\"hanging\" fill=\"black\" font-size=\"16\" font-family=\"Arial\" text-anchor=\"middle\" transform=\"translate(4.0 21.920406460551018) rotate(-30 90 30)\"><tspan x=\"90\" dy=\"16\">ABC</tspan></text><circle cx=\"90\" cy=\"30\" r=\"1.5\" stroke=\"red\" fill=\"red\"/><rect x=\"72.03274228776458\" y=\"30.0\" width=\"35.934515424470845\" height=\"29.984406460551014\" style=\"stroke:red;stroke-width:1;fill:none\"/></g><g><text x=\"150\" y=\"14.0\" dominant-baseline=\"hanging\" fill=\"black\" font-size=\"16\" font-family=\"Arial\" text-anchor=\"end\" transform=\"translate(0.0 13.856406460551021) rotate(-30 150 30)\"><tspan x=\"150\" dy=\"16\">ABC</tspan></text><circle cx=\"150\" cy=\"30\" r=\"1.5\" stroke=\"red\" fill=\"red\"/><rect x=\"114.06548457552915\" y=\"30.0\" width=\"35.934515424470845\" height=\"29.98440646055102\" style=\"stroke:red;stroke-width:1;fill:none\"/></g><g><text x=\"30\" y=\"64.0\" dominant-baseline=\"central\" fill=\"black\" font-size=\"16\" font-family=\"Arial\" text-anchor=\"start\" transform=\"translate(8.0 14.992203230275507) rotate(-30 30 80)\"><tspan x=\"30\" dy=\"16\">ABC</tspan></text><circle cx=\"30\" cy=\"80\" r=\"1.5\" stroke=\"red\" fill=\"red\"/><rect x=\"30.0\" y=\"65.0077967697245\" width=\"35.93451542447086\" height=\"29.984406460551014\" style=\"stroke:red;stroke-width:1;fill:none\"/></g><g><text x=\"90\" y=\"64.0\" dominant-baseline=\"central\" fill=\"black\" font-size=\"16\" font-family=\"Arial\" text-anchor=\"middle\" transform=\"translate(4.0 6.928203230275514) rotate(-30 90 80)\"><tspan x=\"90\" dy=\"16\">ABC</tspan></text><circle cx=\"90\" cy=\"80\" r=\"1.5\" stroke=\"red\" fill=\"red\"/><rect x=\"72.03274228776458\" y=\"65.0077967697245\" width=\"35.934515424470845\" height=\"29.984406460551014\" style=\"stroke:red;stroke-width:1;fill:none\"/></g><g><text x=\"150\" y=\"64.0\" dominant-baseline=\"central\" fill=\"black\" font-size=\"16\" font-family=\"Arial\" text-anchor=\"end\" transform=\"translate(0.0 -1.135796769724493) rotate(-30 150 80)\"><tspan x=\"150\" dy=\"16\">ABC</tspan></text><circle cx=\"150\" cy=\"80\" r=\"1.5\" stroke=\"red\" fill=\"red\"/><rect x=\"114.06548457552915\" y=\"65.0077967697245\" width=\"35.934515424470845\" height=\"29.984406460551014\" style=\"stroke:red;stroke-width:1;fill:none\"/></g><g><text x=\"30\" y=\"114.0\" dominant-baseline=\"ideographic\" fill=\"black\" font-size=\"16\" font-family=\"Arial\" text-anchor=\"start\" transform=\"translate(8.0 0.0) rotate(-30 30 130)\"><tspan x=\"30\" dy=\"16\">ABC</tspan></text><circle cx=\"30\" cy=\"130\" r=\"1.5\" stroke=\"red\" fill=\"red\"/><rect x=\"30.0\" y=\"100.01559353944899\" width=\"35.93451542447086\" height=\"29.984406460551014\" style=\"stroke:red;stroke-width:1;fill:none\"/></g><g><text x=\"90\" y=\"114.0\" dominant-baseline=\"ideographic\" fill=\"black\" font-size=\"16\" font-family=\"Arial\" text-anchor=\"middle\" transform=\"translate(4.0 -8.063999999999993) rotate(-30 90 130)\"><tspan x=\"90\" dy=\"16\">ABC</tspan></text><circle cx=\"90\" cy=\"130\" r=\"1.5\" stroke=\"red\" fill=\"red\"/><rect x=\"72.03274228776458\" y=\"100.01559353944899\" width=\"35.934515424470845\" height=\"29.984406460551014\" style=\"stroke:red;stroke-width:1;fill:none\"/></g><g><text x=\"150\" y=\"114.0\" dominant-baseline=\"ideographic\" fill=\"black\" font-size=\"16\" font-family=\"Arial\" text-anchor=\"end\" transform=\"translate(0.0 -16.127999999999986) rotate(-30 150 130)\"><tspan x=\"150\" dy=\"16\">ABC</tspan></text><circle cx=\"150\" cy=\"130\" r=\"1.5\" stroke=\"red\" fill=\"red\"/><rect x=\"114.06548457552915\" y=\"100.015593539449\" width=\"35.934515424470845\" height=\"29.984406460551\" style=\"stroke:red;stroke-width:1;fill:none\"/></g></svg>"
      ],
      "text/plain": [
       "<IPython.core.display.SVG object>"
      ]
     },
     "execution_count": 42,
     "metadata": {},
     "output_type": "execute_result"
    }
   ],
   "source": [
    "# \"default\" rotation mode\n",
    "s = ET.tostring(svgtext.text_tosvg('ABC', 30, 30, rotation=30,\n",
    "                       halign='left', valign='top', \n",
    "                       rotation_mode='default', testmode=True),\n",
    "                encoding='unicode')\n",
    "s += ET.tostring(svgtext.text_tosvg('ABC', 90, 30, rotation=30,\n",
    "                       halign='center', valign='top', \n",
    "                       rotation_mode='default', testmode=True),\n",
    "                encoding='unicode')\n",
    "s += ET.tostring(svgtext.text_tosvg('ABC', 150, 30, rotation=30,\n",
    "                       halign='right', valign='top', \n",
    "                       rotation_mode='default', testmode=True),\n",
    "                encoding='unicode')\n",
    "s += ET.tostring(svgtext.text_tosvg('ABC', 30, 80, rotation=30,\n",
    "                       halign='left', valign='center', \n",
    "                       rotation_mode='default', testmode=True),\n",
    "                encoding='unicode')\n",
    "s += ET.tostring(svgtext.text_tosvg('ABC', 90, 80, rotation=30,\n",
    "                       halign='center', valign='center', \n",
    "                       rotation_mode='default', testmode=True),\n",
    "                encoding='unicode')\n",
    "s += ET.tostring(svgtext.text_tosvg('ABC', 150, 80, rotation=30,\n",
    "                       halign='right', valign='center', \n",
    "                       rotation_mode='default', testmode=True),\n",
    "                encoding='unicode')\n",
    "s += ET.tostring(svgtext.text_tosvg('ABC', 30, 130, rotation=30,\n",
    "                       halign='left', valign='bottom', \n",
    "                       rotation_mode='default', testmode=True),\n",
    "                encoding='unicode')\n",
    "s += ET.tostring(svgtext.text_tosvg('ABC', 90, 130, rotation=30,\n",
    "                       halign='center', valign='bottom', \n",
    "                       rotation_mode='default', testmode=True),\n",
    "                encoding='unicode')\n",
    "s += ET.tostring(svgtext.text_tosvg('ABC', 150, 130, rotation=30,\n",
    "                       halign='right', valign='bottom', \n",
    "                       rotation_mode='default', testmode=True),\n",
    "                encoding='unicode')\n",
    "\n",
    "SVG(svghead.format(s))"
   ]
  },
  {
   "cell_type": "code",
   "execution_count": 43,
   "id": "1872f224",
   "metadata": {},
   "outputs": [
    {
     "data": {
      "image/svg+xml": [
       "<svg xmlns=\"http://www.w3.org/2000/svg\" xml:lang=\"en\" height=\"150pt\" width=\"150pt\"><g><text x=\"30\" y=\"14.0\" dominant-baseline=\"hanging\" fill=\"black\" font-size=\"16\" font-family=\"Arial\" text-anchor=\"start\" transform=\"rotate(-30 30 30)\"><tspan x=\"30\" dy=\"16\">ABC</tspan></text><circle cx=\"30\" cy=\"30\" r=\"1.5\" stroke=\"red\" fill=\"red\"/><rect x=\"22.0\" y=\"0.015593539448985894\" width=\"35.93451542447086\" height=\"29.984406460551014\" style=\"stroke:red;stroke-width:1;fill:none\"/></g><g><text x=\"90\" y=\"14.0\" dominant-baseline=\"hanging\" fill=\"black\" font-size=\"16\" font-family=\"Arial\" text-anchor=\"middle\" transform=\"rotate(-30 90 30)\"><tspan x=\"90\" dy=\"16\">ABC</tspan></text><circle cx=\"90\" cy=\"30\" r=\"1.5\" stroke=\"red\" fill=\"red\"/><rect x=\"68.03274228776458\" y=\"8.079593539448982\" width=\"35.934515424470845\" height=\"29.984406460551018\" style=\"stroke:red;stroke-width:1;fill:none\"/></g><g><text x=\"150\" y=\"14.0\" dominant-baseline=\"hanging\" fill=\"black\" font-size=\"16\" font-family=\"Arial\" text-anchor=\"end\" transform=\"rotate(-30 150 30)\"><tspan x=\"150\" dy=\"16\">ABC</tspan></text><circle cx=\"150\" cy=\"30\" r=\"1.5\" stroke=\"red\" fill=\"red\"/><rect x=\"114.06548457552915\" y=\"16.14359353944898\" width=\"35.934515424470845\" height=\"29.98440646055102\" style=\"stroke:red;stroke-width:1;fill:none\"/></g><g><text x=\"30\" y=\"64.0\" dominant-baseline=\"central\" fill=\"black\" font-size=\"16\" font-family=\"Arial\" text-anchor=\"start\" transform=\"rotate(-30 30 80)\"><tspan x=\"30\" dy=\"16\">ABC</tspan></text><circle cx=\"30\" cy=\"80\" r=\"1.5\" stroke=\"red\" fill=\"red\"/><rect x=\"22.0\" y=\"50.015593539448986\" width=\"35.93451542447086\" height=\"29.984406460551014\" style=\"stroke:red;stroke-width:1;fill:none\"/></g><g><text x=\"90\" y=\"64.0\" dominant-baseline=\"central\" fill=\"black\" font-size=\"16\" font-family=\"Arial\" text-anchor=\"middle\" transform=\"rotate(-30 90 80)\"><tspan x=\"90\" dy=\"16\">ABC</tspan></text><circle cx=\"90\" cy=\"80\" r=\"1.5\" stroke=\"red\" fill=\"red\"/><rect x=\"68.03274228776458\" y=\"58.07959353944898\" width=\"35.934515424470845\" height=\"29.984406460551014\" style=\"stroke:red;stroke-width:1;fill:none\"/></g><g><text x=\"150\" y=\"64.0\" dominant-baseline=\"central\" fill=\"black\" font-size=\"16\" font-family=\"Arial\" text-anchor=\"end\" transform=\"rotate(-30 150 80)\"><tspan x=\"150\" dy=\"16\">ABC</tspan></text><circle cx=\"150\" cy=\"80\" r=\"1.5\" stroke=\"red\" fill=\"red\"/><rect x=\"114.06548457552915\" y=\"66.14359353944899\" width=\"35.934515424470845\" height=\"29.984406460551014\" style=\"stroke:red;stroke-width:1;fill:none\"/></g><g><text x=\"30\" y=\"114.0\" dominant-baseline=\"ideographic\" fill=\"black\" font-size=\"16\" font-family=\"Arial\" text-anchor=\"start\" transform=\"rotate(-30 30 130)\"><tspan x=\"30\" dy=\"16\">ABC</tspan></text><circle cx=\"30\" cy=\"130\" r=\"1.5\" stroke=\"red\" fill=\"red\"/><rect x=\"22.0\" y=\"100.01559353944899\" width=\"35.93451542447086\" height=\"29.984406460551014\" style=\"stroke:red;stroke-width:1;fill:none\"/></g><g><text x=\"90\" y=\"114.0\" dominant-baseline=\"ideographic\" fill=\"black\" font-size=\"16\" font-family=\"Arial\" text-anchor=\"middle\" transform=\"rotate(-30 90 130)\"><tspan x=\"90\" dy=\"16\">ABC</tspan></text><circle cx=\"90\" cy=\"130\" r=\"1.5\" stroke=\"red\" fill=\"red\"/><rect x=\"68.03274228776458\" y=\"108.07959353944898\" width=\"35.934515424470845\" height=\"29.984406460551014\" style=\"stroke:red;stroke-width:1;fill:none\"/></g><g><text x=\"150\" y=\"114.0\" dominant-baseline=\"ideographic\" fill=\"black\" font-size=\"16\" font-family=\"Arial\" text-anchor=\"end\" transform=\"rotate(-30 150 130)\"><tspan x=\"150\" dy=\"16\">ABC</tspan></text><circle cx=\"150\" cy=\"130\" r=\"1.5\" stroke=\"red\" fill=\"red\"/><rect x=\"114.06548457552915\" y=\"116.14359353944899\" width=\"35.934515424470845\" height=\"29.984406460551\" style=\"stroke:red;stroke-width:1;fill:none\"/></g></svg>"
      ],
      "text/plain": [
       "<IPython.core.display.SVG object>"
      ]
     },
     "execution_count": 43,
     "metadata": {},
     "output_type": "execute_result"
    }
   ],
   "source": [
    "# \"anchor\" rotation mode\n",
    "s = ET.tostring(svgtext.text_tosvg('ABC', 30, 30, rotation=30,\n",
    "                       halign='left', valign='top', \n",
    "                       testmode=True),\n",
    "                encoding='unicode')\n",
    "s += ET.tostring(svgtext.text_tosvg('ABC', 90, 30, rotation=30,\n",
    "                       halign='center', valign='top', \n",
    "                       testmode=True),\n",
    "                encoding='unicode')\n",
    "s += ET.tostring(svgtext.text_tosvg('ABC', 150, 30, rotation=30,\n",
    "                       halign='right', valign='top', \n",
    "                       testmode=True),\n",
    "                encoding='unicode')\n",
    "s += ET.tostring(svgtext.text_tosvg('ABC', 30, 80, rotation=30,\n",
    "                       halign='left', valign='center', \n",
    "                       testmode=True),\n",
    "                encoding='unicode')\n",
    "s += ET.tostring(svgtext.text_tosvg('ABC', 90, 80, rotation=30,\n",
    "                       halign='center', valign='center', \n",
    "                       testmode=True),\n",
    "                encoding='unicode')\n",
    "s += ET.tostring(svgtext.text_tosvg('ABC', 150, 80, rotation=30,\n",
    "                       halign='right', valign='center', \n",
    "                       testmode=True),\n",
    "                encoding='unicode')\n",
    "s += ET.tostring(svgtext.text_tosvg('ABC', 30, 130, rotation=30,\n",
    "                       halign='left', valign='bottom', \n",
    "                       testmode=True),\n",
    "                encoding='unicode')\n",
    "s += ET.tostring(svgtext.text_tosvg('ABC', 90, 130, rotation=30,\n",
    "                       halign='center', valign='bottom', \n",
    "                       testmode=True),\n",
    "                encoding='unicode')\n",
    "s += ET.tostring(svgtext.text_tosvg('ABC', 150, 130, rotation=30,\n",
    "                       halign='right', valign='bottom', \n",
    "                       testmode=True),\n",
    "                encoding='unicode')\n",
    "\n",
    "SVG(svghead.format(s))"
   ]
  },
  {
   "cell_type": "code",
   "execution_count": 44,
   "id": "bcf0abde",
   "metadata": {},
   "outputs": [
    {
     "data": {
      "image/svg+xml": [
       "<svg xmlns=\"http://www.w3.org/2000/svg\" xmlns:xlink=\"http://www.w3.org/1999/xlink\" xml:lang=\"en\" height=\"119.41799999999999pt\" width=\"657.1999999999999pt\" viewBox=\"-4.6 -33.818 657.1999999999999 119.41799999999999\" style=\"background-color:white;\"><path d=\"M 0.0,-0.0 L 36.0,-0.0 L 39.0,-9.0 L 45.0,9.0 L 50.99999999999999,-9.0 L 57.0,9.0 L 63.0,-9.0 L 69.0,9.0 L 72.0,-0.0 L 108.0,-0.0\" style=\"stroke:black;fill:none;stroke-width:2.0;stroke-dasharray:-;stroke-linecap:round;stroke-linejoin:round;\" /><path d=\"M 108.0,-0.0 L 144.0,-0.0 L 147.0,-9.0 L 153.0,9.0 L 158.99999999999997,-9.0 L 165.0,9.0 L 171.0,-9.0 L 176.99999999999997,9.0 L 180.0,-0.0 L 216.0,-0.0\" style=\"stroke:black;fill:none;stroke-width:2.0;stroke-dasharray:-;stroke-linecap:round;stroke-linejoin:round;\" /><path d=\"M 216.0,-0.0 L 252.0,-0.0 L 255.0,-9.0 L 261.0,9.0 L 267.0,-9.0 L 273.0,9.0 L 279.0,-9.0 L 285.0,9.0 L 288.0,-0.0 L 324.0,-0.0\" style=\"stroke:black;fill:none;stroke-width:2.0;stroke-dasharray:-;stroke-linecap:round;stroke-linejoin:round;\" /><path d=\"M 324.0,-0.0 L 360.0,-0.0 L 363.0,-9.0 L 369.0,9.0 L 375.0,-9.0 L 381.0,9.0 L 387.0,-9.0 L 393.0,9.0 L 396.0,-0.0 L 432.0,-0.0\" style=\"stroke:black;fill:none;stroke-width:2.0;stroke-dasharray:-;stroke-linecap:round;stroke-linejoin:round;\" /><path d=\"M 432.0,-0.0 L 468.0,-0.0 L 471.0,-9.0 L 477.0,9.0 L 483.0,-9.0 L 489.0,9.0 L 495.0,-9.0 L 501.0,9.0 L 504.0,-0.0 L 540.0,-0.0\" style=\"stroke:black;fill:none;stroke-width:2.0;stroke-dasharray:-;stroke-linecap:round;stroke-linejoin:round;\" /><path d=\"M 540.0,-0.0 L 576.0,-0.0 L 579.0,-9.0 L 585.0,9.0 L 591.0,-9.0 L 597.0,9.0 L 603.0,-9.0 L 609.0,9.0 L 612.0,-0.0 L 648.0,-0.0\" style=\"stroke:black;fill:none;stroke-width:2.0;stroke-dasharray:-;stroke-linecap:round;stroke-linejoin:round;\" /><path d=\"M 0.0,72.0 L 36.0,72.0 L 39.0,63.0 L 45.0,81.0 L 50.99999999999999,63.0 L 57.0,81.0 L 63.0,63.0 L 69.0,81.0 L 72.0,72.0 L 108.0,72.0\" style=\"stroke:black;fill:none;stroke-width:2.0;stroke-dasharray:-;stroke-linecap:round;stroke-linejoin:round;\" /><path d=\"M 108.0,72.0 L 144.0,72.0 L 147.0,63.0 L 153.0,81.0 L 158.99999999999997,63.0 L 165.0,81.0 L 171.0,63.0 L 176.99999999999997,81.0 L 180.0,72.0 L 216.0,72.0\" style=\"stroke:black;fill:none;stroke-width:2.0;stroke-dasharray:-;stroke-linecap:round;stroke-linejoin:round;\" /><path d=\"M 216.0,72.0 L 252.0,72.0 L 255.0,63.0 L 261.0,81.0 L 267.0,63.0 L 273.0,81.0 L 279.0,63.0 L 285.0,81.0 L 288.0,72.0 L 324.0,72.0\" style=\"stroke:black;fill:none;stroke-width:2.0;stroke-dasharray:-;stroke-linecap:round;stroke-linejoin:round;\" /><path d=\"M 324.0,72.0 L 360.0,72.0 L 363.0,63.0 L 369.0,81.0 L 375.0,63.0 L 381.0,81.0 L 387.0,63.0 L 393.0,81.0 L 396.0,72.0 L 432.0,72.0\" style=\"stroke:black;fill:none;stroke-width:2.0;stroke-dasharray:-;stroke-linecap:round;stroke-linejoin:round;\" /><path d=\"M 432.0,72.0 L 468.0,72.0 L 471.0,63.0 L 477.0,81.0 L 483.0,63.0 L 489.0,81.0 L 495.0,63.0 L 501.0,81.0 L 504.0,72.0 L 540.0,72.0\" style=\"stroke:black;fill:none;stroke-width:2.0;stroke-dasharray:-;stroke-linecap:round;stroke-linejoin:round;\" /><text x=\"54.0\" y=\"-26.6\" dominant-baseline=\"ideographic\" fill=\"black\" font-size=\"14.0\" font-family=\"Times\" text-anchor=\"middle\"><tspan x=\"54.0\" dy=\"14.0\">R₁₁</tspan></text><text x=\"162.0\" y=\"-26.6\" dominant-baseline=\"ideographic\" fill=\"black\" font-size=\"14.0\" font-family=\"Times\" text-anchor=\"middle\"><tspan x=\"162.0\" dy=\"14.0\">R²²</tspan></text><text x=\"270.0\" y=\"-26.6\" dominant-baseline=\"ideographic\" fill=\"black\" font-size=\"14.0\" font-family=\"Times\" text-anchor=\"middle\"><tspan x=\"270.0\" dy=\"14.0\">θ</tspan></text><text x=\"378.0\" y=\"-26.6\" dominant-baseline=\"ideographic\" fill=\"black\" font-size=\"14.0\" font-family=\"Times\" text-anchor=\"middle\"><tspan x=\"378.0\" dy=\"14.0\"><tspan text-decoration=\"overline\">Q₁</tspan></tspan></text><text x=\"486.0\" y=\"-26.6\" dominant-baseline=\"ideographic\" fill=\"black\" font-size=\"14.0\" font-family=\"Times\" text-anchor=\"middle\"><tspan x=\"486.0\" dy=\"14.0\">R₁</tspan></text><text x=\"594.0\" y=\"-26.6\" dominant-baseline=\"ideographic\" fill=\"black\" font-size=\"14.0\" font-family=\"Times\" text-anchor=\"middle\"><tspan x=\"594.0\" dy=\"14.0\">√<tspan text-decoration=\"overline\">x</tspan></tspan></text><text x=\"54.0\" y=\"45.4\" dominant-baseline=\"ideographic\" fill=\"black\" font-size=\"14.0\" font-family=\"Times\" text-anchor=\"middle\"><tspan x=\"54.0\" dy=\"14.0\">Ω</tspan></text><text x=\"162.0\" y=\"45.4\" dominant-baseline=\"ideographic\" fill=\"black\" font-size=\"14.0\" font-family=\"Times\" text-anchor=\"middle\"><tspan x=\"162.0\" dy=\"14.0\">∠</tspan></text><text x=\"270.0\" y=\"45.4\" dominant-baseline=\"ideographic\" fill=\"black\" font-size=\"14.0\" font-family=\"Times\" text-anchor=\"middle\"><tspan x=\"270.0\" dy=\"14.0\">10%</tspan></text><text x=\"378.0\" y=\"45.4\" dominant-baseline=\"ideographic\" fill=\"black\" font-size=\"14.0\" font-family=\"Times\" text-anchor=\"middle\"><tspan x=\"378.0\" dy=\"14.0\">R²</tspan></text><text x=\"486.0\" y=\"45.4\" dominant-baseline=\"ideographic\" fill=\"black\" font-size=\"14.0\" font-family=\"Times\" text-anchor=\"middle\"><tspan x=\"486.0\" dy=\"14.0\">R₂</tspan></text></svg>"
      ],
      "text/plain": [
       "<svg xmlns=\"http://www.w3.org/2000/svg\" xmlns:xlink=\"http://www.w3.org/1999/xlink\" xml:lang=\"en\" height=\"119.41799999999999pt\" width=\"657.1999999999999pt\" viewBox=\"-4.6 -33.818 657.1999999999999 119.41799999999999\" style=\"background-color:white;\"><path d=\"M 0.0,-0.0 L 36.0,-0.0 L 39.0,-9.0 L 45.0,9.0 L 50.99999999999999,-9.0 L 57.0,9.0 L 63.0,-9.0 L 69.0,9.0 L 72.0,-0.0 L 108.0,-0.0\" style=\"stroke:black;fill:none;stroke-width:2.0;stroke-dasharray:-;stroke-linecap:round;stroke-linejoin:round;\" /><path d=\"M 108.0,-0.0 L 144.0,-0.0 L 147.0,-9.0 L 153.0,9.0 L 158.99999999999997,-9.0 L 165.0,9.0 L 171.0,-9.0 L 176.99999999999997,9.0 L 180.0,-0.0 L 216.0,-0.0\" style=\"stroke:black;fill:none;stroke-width:2.0;stroke-dasharray:-;stroke-linecap:round;stroke-linejoin:round;\" /><path d=\"M 216.0,-0.0 L 252.0,-0.0 L 255.0,-9.0 L 261.0,9.0 L 267.0,-9.0 L 273.0,9.0 L 279.0,-9.0 L 285.0,9.0 L 288.0,-0.0 L 324.0,-0.0\" style=\"stroke:black;fill:none;stroke-width:2.0;stroke-dasharray:-;stroke-linecap:round;stroke-linejoin:round;\" /><path d=\"M 324.0,-0.0 L 360.0,-0.0 L 363.0,-9.0 L 369.0,9.0 L 375.0,-9.0 L 381.0,9.0 L 387.0,-9.0 L 393.0,9.0 L 396.0,-0.0 L 432.0,-0.0\" style=\"stroke:black;fill:none;stroke-width:2.0;stroke-dasharray:-;stroke-linecap:round;stroke-linejoin:round;\" /><path d=\"M 432.0,-0.0 L 468.0,-0.0 L 471.0,-9.0 L 477.0,9.0 L 483.0,-9.0 L 489.0,9.0 L 495.0,-9.0 L 501.0,9.0 L 504.0,-0.0 L 540.0,-0.0\" style=\"stroke:black;fill:none;stroke-width:2.0;stroke-dasharray:-;stroke-linecap:round;stroke-linejoin:round;\" /><path d=\"M 540.0,-0.0 L 576.0,-0.0 L 579.0,-9.0 L 585.0,9.0 L 591.0,-9.0 L 597.0,9.0 L 603.0,-9.0 L 609.0,9.0 L 612.0,-0.0 L 648.0,-0.0\" style=\"stroke:black;fill:none;stroke-width:2.0;stroke-dasharray:-;stroke-linecap:round;stroke-linejoin:round;\" /><path d=\"M 0.0,72.0 L 36.0,72.0 L 39.0,63.0 L 45.0,81.0 L 50.99999999999999,63.0 L 57.0,81.0 L 63.0,63.0 L 69.0,81.0 L 72.0,72.0 L 108.0,72.0\" style=\"stroke:black;fill:none;stroke-width:2.0;stroke-dasharray:-;stroke-linecap:round;stroke-linejoin:round;\" /><path d=\"M 108.0,72.0 L 144.0,72.0 L 147.0,63.0 L 153.0,81.0 L 158.99999999999997,63.0 L 165.0,81.0 L 171.0,63.0 L 176.99999999999997,81.0 L 180.0,72.0 L 216.0,72.0\" style=\"stroke:black;fill:none;stroke-width:2.0;stroke-dasharray:-;stroke-linecap:round;stroke-linejoin:round;\" /><path d=\"M 216.0,72.0 L 252.0,72.0 L 255.0,63.0 L 261.0,81.0 L 267.0,63.0 L 273.0,81.0 L 279.0,63.0 L 285.0,81.0 L 288.0,72.0 L 324.0,72.0\" style=\"stroke:black;fill:none;stroke-width:2.0;stroke-dasharray:-;stroke-linecap:round;stroke-linejoin:round;\" /><path d=\"M 324.0,72.0 L 360.0,72.0 L 363.0,63.0 L 369.0,81.0 L 375.0,63.0 L 381.0,81.0 L 387.0,63.0 L 393.0,81.0 L 396.0,72.0 L 432.0,72.0\" style=\"stroke:black;fill:none;stroke-width:2.0;stroke-dasharray:-;stroke-linecap:round;stroke-linejoin:round;\" /><path d=\"M 432.0,72.0 L 468.0,72.0 L 471.0,63.0 L 477.0,81.0 L 483.0,63.0 L 489.0,81.0 L 495.0,63.0 L 501.0,81.0 L 504.0,72.0 L 540.0,72.0\" style=\"stroke:black;fill:none;stroke-width:2.0;stroke-dasharray:-;stroke-linecap:round;stroke-linejoin:round;\" /><text x=\"54.0\" y=\"-26.6\" dominant-baseline=\"ideographic\" fill=\"black\" font-size=\"14.0\" font-family=\"Times\" text-anchor=\"middle\"><tspan x=\"54.0\" dy=\"14.0\">R₁₁</tspan></text><text x=\"162.0\" y=\"-26.6\" dominant-baseline=\"ideographic\" fill=\"black\" font-size=\"14.0\" font-family=\"Times\" text-anchor=\"middle\"><tspan x=\"162.0\" dy=\"14.0\">R²²</tspan></text><text x=\"270.0\" y=\"-26.6\" dominant-baseline=\"ideographic\" fill=\"black\" font-size=\"14.0\" font-family=\"Times\" text-anchor=\"middle\"><tspan x=\"270.0\" dy=\"14.0\">θ</tspan></text><text x=\"378.0\" y=\"-26.6\" dominant-baseline=\"ideographic\" fill=\"black\" font-size=\"14.0\" font-family=\"Times\" text-anchor=\"middle\"><tspan x=\"378.0\" dy=\"14.0\"><tspan text-decoration=\"overline\">Q₁</tspan></tspan></text><text x=\"486.0\" y=\"-26.6\" dominant-baseline=\"ideographic\" fill=\"black\" font-size=\"14.0\" font-family=\"Times\" text-anchor=\"middle\"><tspan x=\"486.0\" dy=\"14.0\">R₁</tspan></text><text x=\"594.0\" y=\"-26.6\" dominant-baseline=\"ideographic\" fill=\"black\" font-size=\"14.0\" font-family=\"Times\" text-anchor=\"middle\"><tspan x=\"594.0\" dy=\"14.0\">√<tspan text-decoration=\"overline\">x</tspan></tspan></text><text x=\"54.0\" y=\"45.4\" dominant-baseline=\"ideographic\" fill=\"black\" font-size=\"14.0\" font-family=\"Times\" text-anchor=\"middle\"><tspan x=\"54.0\" dy=\"14.0\">Ω</tspan></text><text x=\"162.0\" y=\"45.4\" dominant-baseline=\"ideographic\" fill=\"black\" font-size=\"14.0\" font-family=\"Times\" text-anchor=\"middle\"><tspan x=\"162.0\" dy=\"14.0\">∠</tspan></text><text x=\"270.0\" y=\"45.4\" dominant-baseline=\"ideographic\" fill=\"black\" font-size=\"14.0\" font-family=\"Times\" text-anchor=\"middle\"><tspan x=\"270.0\" dy=\"14.0\">10%</tspan></text><text x=\"378.0\" y=\"45.4\" dominant-baseline=\"ideographic\" fill=\"black\" font-size=\"14.0\" font-family=\"Times\" text-anchor=\"middle\"><tspan x=\"378.0\" dy=\"14.0\">R²</tspan></text><text x=\"486.0\" y=\"45.4\" dominant-baseline=\"ideographic\" fill=\"black\" font-size=\"14.0\" font-family=\"Times\" text-anchor=\"middle\"><tspan x=\"486.0\" dy=\"14.0\">R₂</tspan></text></svg>"
      ]
     },
     "execution_count": 44,
     "metadata": {},
     "output_type": "execute_result"
    }
   ],
   "source": [
    "# Test some mathtext in svg backend - text mode\n",
    "schemdraw.use('svg')\n",
    "d = schemdraw.Drawing(font='Times')\n",
    "d += elm.Resistor().label('$R_{11}$')\n",
    "d += elm.Resistor().label('$R^{22}$')\n",
    "d += elm.Resistor().label(r'$\\theta$')\n",
    "d += elm.Resistor().label(r'$\\overline{Q_1}$')\n",
    "d += elm.Resistor().label('$R_1$')\n",
    "d += elm.Resistor().label(r'$\\sqrt{x}$')\n",
    "d.here = (0, -2)\n",
    "d += elm.Resistor().label('Ω')\n",
    "d += elm.Resistor().label('∠')\n",
    "d += elm.Resistor().label('10%')\n",
    "d += elm.Resistor().label('$R^2$')\n",
    "d += elm.Resistor().label('$R_2$')\n",
    "d.draw()"
   ]
  },
  {
   "cell_type": "code",
   "execution_count": null,
   "id": "e15f4d08-b57f-4e5f-92ad-6f296ace97d2",
   "metadata": {},
   "outputs": [],
   "source": []
  },
  {
   "cell_type": "code",
   "execution_count": 45,
   "id": "0bf9de8a",
   "metadata": {},
   "outputs": [],
   "source": [
    "import copy\n",
    "import pickle"
   ]
  },
  {
   "cell_type": "code",
   "execution_count": 46,
   "id": "8fca1c78",
   "metadata": {},
   "outputs": [
    {
     "data": {
      "image/svg+xml": [
       "<svg xmlns=\"http://www.w3.org/2000/svg\" xmlns:xlink=\"http://www.w3.org/1999/xlink\" xml:lang=\"en\" height=\"27.2pt\" width=\"117.2pt\" viewBox=\"-4.6 -13.6 117.2 27.2\" style=\"background-color:white;\"><path d=\"M 0.0,-0.0 L 36.0,-0.0 L 39.0,-9.0 L 45.0,9.0 L 50.99999999999999,-9.0 L 57.0,9.0 L 63.0,-9.0 L 69.0,9.0 L 72.0,-0.0 L 108.0,-0.0\" style=\"stroke:black;fill:none;stroke-width:2.0;stroke-dasharray:-;stroke-linecap:round;stroke-linejoin:round;\" /></svg>"
      ],
      "text/plain": [
       "<schemdraw.schemdraw.Drawing at 0x7dd7d3eacd90>"
      ]
     },
     "execution_count": 46,
     "metadata": {},
     "output_type": "execute_result"
    }
   ],
   "source": [
    "d = schemdraw.Drawing()\n",
    "d.add(r:=elm.Resistor())\n",
    "copy.deepcopy(d)"
   ]
  },
  {
   "cell_type": "code",
   "execution_count": 47,
   "id": "b6126b83",
   "metadata": {},
   "outputs": [
    {
     "data": {
      "image/svg+xml": [
       "<svg xmlns=\"http://www.w3.org/2000/svg\" xmlns:xlink=\"http://www.w3.org/1999/xlink\" xml:lang=\"en\" height=\"27.2pt\" width=\"117.2pt\" viewBox=\"-4.6 -13.6 117.2 27.2\" style=\"background-color:white;\"><path d=\"M 0.0,-0.0 L 36.0,-0.0 L 39.0,-9.0 L 45.0,9.0 L 50.99999999999999,-9.0 L 57.0,9.0 L 63.0,-9.0 L 69.0,9.0 L 72.0,-0.0 L 108.0,-0.0\" style=\"stroke:black;fill:none;stroke-width:2.0;stroke-dasharray:-;stroke-linecap:round;stroke-linejoin:round;\" /></svg>"
      ],
      "text/plain": [
       "<schemdraw.schemdraw.Drawing at 0x7dd7d3f90210>"
      ]
     },
     "execution_count": 47,
     "metadata": {},
     "output_type": "execute_result"
    }
   ],
   "source": [
    "pickle.loads(pickle.dumps(d))"
   ]
  },
  {
   "cell_type": "code",
   "execution_count": null,
   "id": "b8dd83fe-361a-4e25-93c9-4eae31c940c6",
   "metadata": {},
   "outputs": [],
   "source": []
  },
  {
   "cell_type": "code",
   "execution_count": 48,
   "id": "84e912a0-c9f1-45df-ad7f-a0e1b704bf8a",
   "metadata": {},
   "outputs": [],
   "source": [
    "from schemdraw.segments import *"
   ]
  },
  {
   "cell_type": "code",
   "execution_count": 49,
   "id": "fb5d3278-e868-45f8-a5f1-ee7b0e5ff000",
   "metadata": {},
   "outputs": [
    {
     "data": {
      "image/png": "[encoded data removed]",
      "image/svg+xml": [
       "<?xml version=\"1.0\" encoding=\"utf-8\" standalone=\"no\"?>\n",
       "<!DOCTYPE svg PUBLIC \"-//W3C//DTD SVG 1.1//EN\"\n",
       "  \"http://www.w3.org/Graphics/SVG/1.1/DTD/svg11.dtd\">\n",
       "<svg xmlns:xlink=\"http://www.w3.org/1999/xlink\" width=\"127.275726pt\" height=\"101.352653pt\" viewBox=\"0 0 127.275726 101.352653\" xmlns=\"http://www.w3.org/2000/svg\" version=\"1.1\">\n",
       " <metadata>\n",
       "  <rdf:RDF xmlns:dc=\"http://purl.org/dc/elements/1.1/\" xmlns:cc=\"http://creativecommons.org/ns#\" xmlns:rdf=\"http://www.w3.org/1999/02/22-rdf-syntax-ns#\">\n",
       "   <cc:Work>\n",
       "    <dc:type rdf:resource=\"http://purl.org/dc/dcmitype/StillImage\"/>\n",
       "    <dc:date>2025-07-27T10:57:14.288721</dc:date>\n",
       "    <dc:format>image/svg+xml</dc:format>\n",
       "    <dc:creator>\n",
       "     <cc:Agent>\n",
       "      <dc:title>Matplotlib v3.8.4, https://matplotlib.org/</dc:title>\n",
       "     </cc:Agent>\n",
       "    </dc:creator>\n",
       "   </cc:Work>\n",
       "  </rdf:RDF>\n",
       " </metadata>\n",
       " <defs>\n",
       "  <style type=\"text/css\">*{stroke-linejoin: round; stroke-linecap: butt}</style>\n",
       " </defs>\n",
       " <g id=\"figure_1\">\n",
       "  <g id=\"patch_1\">\n",
       "   <path d=\"M 0 101.352653 \n",
       "L 127.275726 101.352653 \n",
       "L 127.275726 0 \n",
       "L 0 0 \n",
       "z\n",
       "\" style=\"fill: #ffffff\"/>\n",
       "  </g>\n",
       "  <g id=\"axes_1\">\n",
       "   <g id=\"patch_2\">\n",
       "    <path d=\"M 34.171193 53.83235 \n",
       "L 37.622181 54.840635 \n",
       "L 41.079138 56.057065 \n",
       "L 44.505209 57.46867 \n",
       "L 47.863872 59.060404 \n",
       "L 51.119322 60.815298 \n",
       "L 54.236854 62.714643 \n",
       "L 57.183236 64.738192 \n",
       "L 59.927057 66.864373 \n",
       "L 62.439066 69.070521 \n",
       "L 64.692486 71.333117 \n",
       "L 66.663294 73.62804 \n",
       "L 68.330479 75.930827 \n",
       "L 69.676271 78.216928 \n",
       "L 70.686321 80.461974 \n",
       "L 71.349862 82.64203 \n",
       "L 71.659821 84.733856 \n",
       "L 71.612893 86.715154 \n",
       "L 71.20958 88.564802 \n",
       "L 70.454179 90.263081 \n",
       "L 69.354744 91.791887 \n",
       "L 67.922996 93.134924 \n",
       "L 66.174197 94.277872 \n",
       "L 64.12699 95.20855 \n",
       "L 61.803199 95.917034 \n",
       "L 59.227597 96.395772 \n",
       "L 56.427641 96.63966 \n",
       "L 53.433179 96.6461 \n",
       "L 50.276133 96.415021 \n",
       "L 46.990158 95.948888 \n",
       "L 43.610285 95.25267 \n",
       "L 40.172543 94.333788 \n",
       "L 36.713581 93.202038 \n",
       "L 33.270273 91.869486 \n",
       "L 29.879324 90.350336 \n",
       "L 26.576885 88.660783 \n",
       "L 23.39816 86.818838 \n",
       "L 20.377036 84.844138 \n",
       "L 17.545719 82.757734 \n",
       "L 14.934391 80.581866 \n",
       "L 12.570892 78.339731 \n",
       "L 10.480415 76.055231 \n",
       "L 8.685248 73.75272 \n",
       "L 7.204526 71.456742 \n",
       "L 6.054035 69.191775 \n",
       "L 5.246039 66.981963 \n",
       "L 4.789153 64.850863 \n",
       "L 4.688246 62.821195 \n",
       "L 4.944395 60.914595 \n",
       "L 5.554868 59.151388 \n",
       "\" clip-path=\"url(#p734b6d0eb6)\" style=\"fill: #ff0000; stroke: #000000; stroke-width: 2; stroke-linejoin: miter\"/>\n",
       "   </g>\n",
       "   <g id=\"patch_3\">\n",
       "    <path d=\"M 56.466556 8.2397 \n",
       "C 55.689692 9.905691 55.427801 11.799902 55.690007 13.856337 \n",
       "C 55.952214 15.912773 56.735437 18.107269 58.012389 20.363368 \n",
       "C 59.289341 22.619467 61.045017 24.91066 63.218248 27.157119 \n",
       "C 65.39148 29.403579 67.956731 31.578909 70.824627 33.60732 \n",
       "C 73.692522 35.635731 76.829364 37.493388 80.125863 39.11557 \n",
       "C 83.422361 40.737752 86.839782 42.105397 90.259059 43.170857 \n",
       "C 93.678337 44.236316 97.059295 44.98707 100.284137 45.396962 \n",
       "C 103.50898 45.806854 106.539815 45.871067 109.271047 45.587365 \n",
       "C 112.002278 45.303662 114.401814 44.675378 116.386052 43.724401 \n",
       "C 118.37029 42.773424 119.915916 41.510929 120.969078 39.980902 \n",
       "C 122.02224 38.450875 122.570565 36.671293 122.594947 34.70416 \n",
       "C 122.619329 32.737027 122.119483 30.605456 121.112823 28.383712 \n",
       "C 120.106163 26.161968 118.604518 23.876158 116.660206 21.605919 \n",
       "C 114.715894 19.335681 112.351761 17.107691 109.650176 14.999573 \n",
       "C 106.94859 12.891456 103.941296 10.927982 100.733069 9.17756 \n",
       "C 97.524842 7.427138 94.153379 5.910336 90.736145 4.68 \n",
       "\" clip-path=\"url(#p734b6d0eb6)\" style=\"fill: none; stroke: #000000; stroke-width: 2; stroke-linejoin: miter\"/>\n",
       "   </g>\n",
       "   <g id=\"patch_4\">\n",
       "    <path d=\"M 38.181948 77.965646 \n",
       "C 39.13668 77.965646 40.052436 77.586327 40.727533 76.91123 \n",
       "C 41.40263 76.236133 41.781948 75.320377 41.781948 74.365646 \n",
       "C 41.781948 73.410914 41.40263 72.495158 40.727533 71.820061 \n",
       "C 40.052436 71.144964 39.13668 70.765646 38.181948 70.765646 \n",
       "C 37.227217 70.765646 36.311461 71.144964 35.636364 71.820061 \n",
       "C 34.961267 72.495158 34.581948 73.410914 34.581948 74.365646 \n",
       "C 34.581948 75.320377 34.961267 76.236133 35.636364 76.91123 \n",
       "C 36.311461 77.586327 37.227217 77.965646 38.181948 77.965646 \n",
       "L 38.181948 77.965646 \n",
       "z\n",
       "\" clip-path=\"url(#p734b6d0eb6)\" style=\"fill: none; stroke: #ffa500; stroke-width: 2; stroke-linejoin: miter\"/>\n",
       "   </g>\n",
       "   <g id=\"patch_5\">\n",
       "    <path d=\"M 89.093637 27.053957 \n",
       "C 90.048368 27.053957 90.964124 26.674639 91.639221 25.999542 \n",
       "C 92.314318 25.324445 92.693637 24.408689 92.693637 23.453957 \n",
       "C 92.693637 22.499226 92.314318 21.58347 91.639221 20.908373 \n",
       "C 90.964124 20.233276 90.048368 19.853957 89.093637 19.853957 \n",
       "C 88.138906 19.853957 87.223149 20.233276 86.548052 20.908373 \n",
       "C 85.872955 21.58347 85.493637 22.499226 85.493637 23.453957 \n",
       "C 85.493637 24.408689 85.872955 25.324445 86.548052 25.999542 \n",
       "C 87.223149 26.674639 88.138906 27.053957 89.093637 27.053957 \n",
       "L 89.093637 27.053957 \n",
       "z\n",
       "\" clip-path=\"url(#p734b6d0eb6)\" style=\"fill: none; stroke: #800080; stroke-width: 2; stroke-linejoin: miter\"/>\n",
       "   </g>\n",
       "  </g>\n",
       " </g>\n",
       " <defs>\n",
       "  <clipPath id=\"p734b6d0eb6\">\n",
       "   <rect x=\"0\" y=\"0\" width=\"127.275726\" height=\"101.352653\"/>\n",
       "  </clipPath>\n",
       " </defs>\n",
       "</svg>\n"
      ],
      "text/plain": [
       "<__main__.ArcTest at 0x7dd7d3d0d350>"
      ]
     },
     "execution_count": 49,
     "metadata": {},
     "output_type": "execute_result"
    }
   ],
   "source": [
    "# Matplotlib doesn't support filled Arcs, so\n",
    "# we have to fake them with a path\n",
    "\n",
    "class ArcTest(elm.Element):\n",
    "    def __init__(self, **kwargs):\n",
    "        super().__init__(**kwargs)\n",
    "        self.segments.append(SegmentArc((0,0), 1, 2, 90, 20, angle=20, fill='red'))\n",
    "        self.segments.append(SegmentArc((2,0), 1, 2, 90, 20, angle=20, fill=None))\n",
    "\n",
    "        self.segments.append(SegmentCircle((0,0), .1, color='orange'))\n",
    "        self.segments.append(SegmentCircle((2,0), .1, color='purple'))\n",
    "\n",
    "schemdraw.use('matplotlib')\n",
    "ArcTest().theta(45)"
   ]
  },
  {
   "cell_type": "code",
   "execution_count": 50,
   "id": "9c2f3144-24c0-4ede-ada9-8eaa2ec71549",
   "metadata": {},
   "outputs": [
    {
     "data": {
      "image/svg+xml": [
       "<svg xmlns=\"http://www.w3.org/2000/svg\" xmlns:xlink=\"http://www.w3.org/1999/xlink\" xml:lang=\"en\" height=\"101.19265299914845pt\" width=\"127.11572610149946pt\" viewBox=\"-38.10194849234373 -74.28564564272561 127.11572610149946 101.19265299914845\"><path d=\"M 1.64 -18.77 a 18.0 36.0 -65 1 1 -34.27 3.5599999999999987\" style=\"stroke:black;fill:red;stroke-width:2;stroke-dasharray:-;\" /><path d=\"M 52.55 -69.69 a 18.0 36.0 -65 1 1 -34.269999999999996 3.5600000000000023\" style=\"stroke:black;fill:none;stroke-width:2;stroke-dasharray:-;\" /><circle cx=\"0.0\" cy=\"-0.0\" r=\"3.6\" style=\"stroke:orange;fill:none;stroke-width:2;stroke-dasharray:-;\" /><circle cx=\"50.91168824543143\" cy=\"-50.91168824543142\" r=\"3.6\" style=\"stroke:purple;fill:none;stroke-width:2;stroke-dasharray:-;\" /></svg>"
      ],
      "text/plain": [
       "<__main__.ArcTest at 0x7dd7d48d00d0>"
      ]
     },
     "execution_count": 50,
     "metadata": {},
     "output_type": "execute_result"
    }
   ],
   "source": [
    "schemdraw.use('svg')\n",
    "ArcTest().theta(45)"
   ]
  },
  {
   "cell_type": "code",
   "execution_count": null,
   "id": "ea2dae34-bba6-47ea-bb65-71f7e48ce8cf",
   "metadata": {},
   "outputs": [],
   "source": []
  }
 ],
 "metadata": {
  "kernelspec": {
   "display_name": "Python 3 (ipykernel)",
   "language": "python",
   "name": "python3"
  },
  "language_info": {
   "codemirror_mode": {
    "name": "ipython",
    "version": 3
   },
   "file_extension": ".py",
   "mimetype": "text/x-python",
   "name": "python",
   "nbconvert_exporter": "python",
   "pygments_lexer": "ipython3",
   "version": "3.11.7"
  }
 },
 "nbformat": 4,
 "nbformat_minor": 5
}
